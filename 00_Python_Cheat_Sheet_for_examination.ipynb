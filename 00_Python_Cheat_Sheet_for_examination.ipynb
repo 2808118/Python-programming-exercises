{
  "nbformat": 4,
  "nbformat_minor": 0,
  "metadata": {
    "colab": {
      "provenance": [],
      "include_colab_link": true
    },
    "kernelspec": {
      "name": "python3",
      "display_name": "Python 3"
    },
    "language_info": {
      "name": "python"
    }
  },
  "cells": [
    {
      "cell_type": "markdown",
      "metadata": {
        "id": "view-in-github",
        "colab_type": "text"
      },
      "source": [
        "<a href=\"https://colab.research.google.com/github/2808118/Python-programming-exercises/blob/master/00_Python_Cheat_Sheet_for_examination.ipynb\" target=\"_parent\"><img src=\"https://colab.research.google.com/assets/colab-badge.svg\" alt=\"Open In Colab\"/></a>"
      ]
    },
    {
      "cell_type": "markdown",
      "source": [
        "# Lab_6 Algorithm Design"
      ],
      "metadata": {
        "id": "HwHVJ_pbGDvH"
      }
    },
    {
      "cell_type": "markdown",
      "source": [
        "Optimised Bubble Sort\n",
        "\n",
        "Our bubble sort implementation is good, but it could be better - can you think how?\n",
        "Think about this:\n",
        "After the first iteration the greatest value is guaranteed to be in the last position.\n",
        "After the second iteration the greatest value is guaranteed to be in the second-last position.\n",
        "...\n",
        "We could take advantage of this knowledge by performing one less comparison during each pass. Modify the bubble sort implementation in the next cell so that the minimum number of required comparisons is performed.\n",
        "Hint: this will mean using an extra variable, and using this variable in the range function."
      ],
      "metadata": {
        "id": "LuLKzSFaGYc7"
      }
    },
    {
      "cell_type": "code",
      "source": [
        "def swap(ar,ind_1,ind_2):\n",
        "    # Swap the adjacent two elements\n",
        "    ar[ind_1], ar[ind_2] = ar[ind_2], ar[ind_1] \n",
        "\n",
        "my_list = [5, 2, 6, 1, 3, 4]\n",
        "\n",
        "# Modify this code to minimise the number of comparisons\n",
        "swapped = True\n",
        "while swapped:\n",
        "    swapped = False\n",
        "    n = len(my_list) - 1\n",
        "    for i in range(n):\n",
        "        if my_list[i] > my_list[i + 1]:\n",
        "            swapped = True\n",
        "            swap(my_list, i, i + 1)\n",
        "    print(i)\n",
        "    n = n - 1\n",
        "\n",
        "\n",
        "print(my_list)"
      ],
      "metadata": {
        "id": "e_jwD9xkGSX5"
      },
      "execution_count": null,
      "outputs": []
    },
    {
      "cell_type": "markdown",
      "source": [
        "### Sorting with Keys\n",
        "Our sorting code only works for elements that can be compared with the less-than operator (<). Python's (more powerful) `sort` method allows us to sort using any \"key\" that we like.\n",
        "\n",
        "Referring to the \"Sorting by a Key\" section of the workbook, write some code to sort the list of employees by their weekly pay using Python's built-in `sort` method. This will require defining a function called `get_weekly_pay`, and passing that function as an argument to the sort method."
      ],
      "metadata": {
        "id": "O4pRtWEkGdM1"
      }
    },
    {
      "cell_type": "code",
      "source": [
        "class Employee:\n",
        "    def __init__(self, name, hourly_rate, hours_per_week):\n",
        "        self.name = name\n",
        "        self.hourly_rate = hourly_rate\n",
        "        self.hours_per_week = hours_per_week\n",
        "\n",
        "\n",
        "# Implement a function called get_weekly_pay\n",
        "def get_weekly_pay(Employee):\n",
        "    return Employee.hourly_rate * Employee.hours_per_week\n",
        "    \n",
        "employees = [\n",
        "    Employee('Alice', 33.5, 32),\n",
        "    Employee('Bob', 26, 37),\n",
        "    Employee('Charlie', 39, 27)\n",
        "]\n",
        "\n",
        "# Sort the list\n",
        "employees.sort(key = get_weekly_pay)\n",
        "\n",
        "\n",
        "print(f'Lowest paid: {employees[0].name:>8s} {employees[0].hourly_rate:4.2f} {employees[0].hours_per_week:2d} {get_weekly_pay(employees[0]):>5.1f}')\n",
        "print(f'Lowest paid: {employees[1].name:>8s} {employees[1].hourly_rate:4.2f} {employees[1].hours_per_week:2d} {get_weekly_pay(employees[1]):>5.1f}')\n",
        "print(f'Highest paid: {employees[-1].name:>8s} {employees[-1].hourly_rate:4.2f} {employees[-1].hours_per_week:2d} {get_weekly_pay(employees[-1]):>5.1f}')\n",
        "print(f'Highest paid: {employees[-1].name}')"
      ],
      "metadata": {
        "id": "FwKEeKeyGU9r"
      },
      "execution_count": null,
      "outputs": []
    },
    {
      "cell_type": "markdown",
      "source": [
        "# Lab 5.1 - JSON\n",
        "## 1. Import json\n",
        "## 2. Ask for input\n",
        "## 3. Add in records in while...loop"
      ],
      "metadata": {
        "id": "_YcwDb440jqg"
      }
    },
    {
      "cell_type": "code",
      "execution_count": null,
      "metadata": {
        "id": "Gvl9fj-t0hOS"
      },
      "outputs": [],
      "source": [
        "import os\n",
        "import json\n",
        "\n",
        "class Contacts:\n",
        "    def __init__(self, filename):\n",
        "        self.filename = filename\n",
        "        self.contact_list = []\n",
        "\n",
        "    def print_contacts(self):\n",
        "        print('Contacts:')\n",
        "        for contact in self.contact_list:\n",
        "            print(f'\\t{contact[\"name\"]}: {contact[\"phone\"]}')\n",
        "    \n",
        "    def add_contact(self, name, phone):\n",
        "        self.contact_list.append({'name': name, 'phone': phone})\n",
        "\n",
        "    def load(self):\n",
        "        # Load the contacts from file, if it exists\n",
        "        if os.path.isfile(self.filename):\n",
        "            file = open(self.filename, 'r')\n",
        "            self.contact_list = json.load(file)\n",
        "            file.close()\n",
        "\n",
        "    def save(self):\n",
        "        # Save the contacts to file\n",
        "        file = open(self.filename, 'w')\n",
        "        json.dump(self.contact_list, file)\n",
        "        file.close()\n",
        "\n",
        "\n",
        "contacts = Contacts('contacts.json')\n",
        "contacts.load()\n",
        "\n",
        "adding_contacts = True\n",
        "while adding_contacts:\n",
        "    name = input('Name: ')\n",
        "    phone = input('Phone number: ')\n",
        "    contacts.add_contact(name, phone)\n",
        "    adding_contacts = input('Add another? (y/n): ').lower() == 'y'\n",
        "\n",
        "contacts.print_contacts()\n",
        "contacts.save()"
      ]
    },
    {
      "cell_type": "markdown",
      "source": [
        "# Lab 5.2 - Class\n",
        "## 1. Create classes\n",
        "## 2. Create functions\n",
        "## 3. Ask for input in while loop"
      ],
      "metadata": {
        "id": "d0JaFRJI1EKe"
      }
    },
    {
      "cell_type": "code",
      "source": [
        "FREE_LIMIT_KG = 0.5\n",
        "HALF_PRICE_LIMIT_KG = 2\n",
        "SHIPPING_PRICE = 10\n",
        "\n",
        "\n",
        "def price_from_weight(weight):\n",
        "    \"\"\"Returns the price to send a package of the given weight\"\"\"\n",
        "    if weight <= FREE_LIMIT_KG:\n",
        "        return 0\n",
        "    if weight <= HALF_PRICE_LIMIT_KG:\n",
        "        return SHIPPING_PRICE / 2\n",
        "    return SHIPPING_PRICE\n",
        "\n",
        "\n",
        "class Package:\n",
        "    def __init__(self):\n",
        "        self.item_weights = []\n",
        "    \n",
        "    def add_item(self, weight):\n",
        "        \"\"\"Adds an item weight to the package\"\"\"\n",
        "        self.item_weights.append(weight)\n",
        "    \n",
        "    def get_total_price(self):\n",
        "        \"\"\"Returns the total price for the package\"\"\"\n",
        "        total_weight = self.get_total_weight()\n",
        "        total_price = price_from_weight(total_weight)\n",
        "        return total_price\n",
        "    \n",
        "    def get_total_weight(self):\n",
        "        \"\"\"Returns the sum of the item weights for the package\"\"\"\n",
        "        total_weight = 0\n",
        "        for weight in self.item_weights:\n",
        "            total_weight = total_weight + weight\n",
        "        return total_weight\n",
        "\n",
        "\n",
        "package = Package()\n",
        "\n",
        "adding_items = True\n",
        "while adding_items:\n",
        "    weight = float(input('Item weight (kg): '))\n",
        "    package.add_item(weight)\n",
        "    adding_items = input('Add another? (y/n): ') == 'y'\n",
        "\n",
        "print(f'Total weight: {package.get_total_weight():.2f}kg')\n",
        "print(f'Total price : ${package.get_total_price():.2f}')"
      ],
      "metadata": {
        "id": "vLt-tOph04Lo"
      },
      "execution_count": null,
      "outputs": []
    },
    {
      "cell_type": "markdown",
      "source": [
        "## Assignment - class and try...except..."
      ],
      "metadata": {
        "id": "Uo8T7BMh5B2P"
      }
    },
    {
      "cell_type": "code",
      "source": [
        "# Paste your solution to Task 3 Part B here, then modify it as required\n",
        "class BankAccount:\n",
        "    def __init__(self, name, initial_balance):\n",
        "        self.name = name\n",
        "        self.balance = initial_balance\n",
        "\n",
        "    def deposit(self, amount):\n",
        "        self.balance = self.balance + amount\n",
        "\n",
        "    def withdraw(self, amount):\n",
        "        # Part B: Raise an exception as appropriate\n",
        "        if (self.balance - amount) < 0:\n",
        "            raise ValueError('Balance would be negative after withdrawal')\n",
        "        else:\n",
        "            self.balance = self.balance - amount\n",
        "    \n",
        "def print_balances(account_a, account_b):\n",
        "    print('== Account balances ==')    \n",
        "    print(f'  {account_a.name}: ${account_a.balance:.2f}')\n",
        "    print(f'  {account_b.name}: ${account_b.balance:.2f}')\n",
        "\n",
        "\n",
        "# Part A. Write your transfer_funds function here\n",
        "def transfer_funds(amt, from_account, to_account):\n",
        "    from_account.withdraw(amt)\n",
        "    to_account.deposit(amt)\n",
        "\n",
        "account_a = BankAccount('Alice', 100)\n",
        "account_b = BankAccount('Bob', 100)\n",
        "print_balances(account_a, account_b)\n",
        "\n",
        "another_transfer = 'y'\n",
        "while another_transfer == 'y':\n",
        "    amount = float(input('Enter transfer amount ($): '))\n",
        "\n",
        "    # Part C. Print an appropriate message if an exception is encountered\n",
        "    try:\n",
        "        transfer_funds(amount, account_a, account_b)\n",
        "    except ValueError:\n",
        "        print(\"<< Error transferring funds >>\")\n",
        "\n",
        "    print_balances(account_a, account_b)\n",
        "    another_transfer = input('Perform another transfer? (y/n): ')"
      ],
      "metadata": {
        "id": "6XrPiwK65AeW"
      },
      "execution_count": null,
      "outputs": []
    },
    {
      "cell_type": "markdown",
      "source": [
        "# Pandas and matplotlib"
      ],
      "metadata": {
        "id": "S6cy80153hgB"
      }
    },
    {
      "cell_type": "code",
      "source": [
        "import matplotlib.pyplot as plt\n",
        "\n",
        "fig, ax = plt.subplots()\n",
        "ax.plot(distances, velocities) \n",
        "\n",
        "ax.set_title('Velocity Required to Orbit Earth')\n",
        "ax.set_xlabel('Distance from Earth centre (m)')\n",
        "ax.set_ylabel('Required velocity (m/s)')\n",
        "plt.show()\n",
        "\n",
        "URL = 'https://gist.githubusercontent.com/anibali/28680d7e10f2833092f001308ce239c8/raw/46e14202e109b9b0dcf671086cf54e6e59037d8c/tips.csv'\n",
        "\n",
        "import pandas as pd\n",
        "\n",
        "df = pd.read_csv(URL)\n",
        "df.head()\n",
        "\n",
        "df['tip_percentage'] = (df['tip'] / df['total_bill']) * 100\n",
        "\n",
        "# Print the first few rows\n",
        "df.head()"
      ],
      "metadata": {
        "id": "nylQsFSc3nuz"
      },
      "execution_count": null,
      "outputs": []
    },
    {
      "cell_type": "markdown",
      "source": [
        "# Assignment - Pandas and matplotlib"
      ],
      "metadata": {
        "id": "Jx5oyXdG7Euw"
      }
    },
    {
      "cell_type": "code",
      "source": [
        "# Paste and modify the code from Part B\n",
        "# Write your solution here\n",
        "import matplotlib.pyplot as plt\n",
        "\n",
        "# Create a new column 'bill_proportion'\n",
        "df['bill_proportion'] = df['bill_length_mm']/df['bill_depth_mm']\n",
        "df.head()\n",
        "\n",
        "# Create three new dataframes for each species of penguins\n",
        "df_a = df[df['species'] == 'Adelie']\n",
        "df_c = df[df['species'] == 'Chinstrap']\n",
        "df_g = df[df['species'] == 'Gentoo']\n",
        "\n",
        "# Create x and y from the new dataframes for each species of penguins\n",
        "x1 = df_a['body_mass_g']\n",
        "y1 = df_a['bill_proportion']\n",
        "\n",
        "x2 = df_c['body_mass_g']\n",
        "y2 = df_c['bill_proportion']\n",
        "\n",
        "x3 = df_g['body_mass_g']\n",
        "y3 = df_g['bill_proportion']\n",
        "\n",
        "# Plot body_mass (x-axis) against bill-length (y-axis) as a scatter graph\n",
        "fig, ax = plt.subplots()\n",
        "ax.scatter(x1, y1, color = 'steelblue', label = 'Adelie')\n",
        "ax.scatter(x2, y2, color = 'orange', label = 'Chinstrap')\n",
        "ax.scatter(x3, y3, color = 'forestgreen', label = 'Gentoo')\n",
        "\n",
        "# Label the axes\n",
        "ax.set_title('Penguin Proportions by Species')\n",
        "ax.set_xlabel('Body mass (g)')\n",
        "ax.set_ylabel('Bill proportion (length/width)')\n",
        "\n",
        "# Show a legend\n",
        "ax.legend()\n",
        "\n",
        "# Show the figure and pause the program\n",
        "plt.show()"
      ],
      "metadata": {
        "id": "nDk-3Unb5Psz"
      },
      "execution_count": null,
      "outputs": []
    },
    {
      "cell_type": "markdown",
      "source": [
        "# Recursion\n",
        "## Base case and recursive case"
      ],
      "metadata": {
        "id": "D1O9YYiy7kP_"
      }
    },
    {
      "cell_type": "code",
      "source": [
        "def recursive_factorial(n):\n",
        "    if n == 1:\n",
        "        return 1\n",
        "    return n * recursive_factorial(n - 1)\n",
        "\n",
        "print(recursive_factorial(4))\n",
        "\n",
        "# Run some test cases - uncomment it when you're ready\n",
        "# for n in range(1, 10):\n",
        "#     print(iterative_factorial(n) == recursive_factorial(n))"
      ],
      "metadata": {
        "id": "E-IADe3K7izn"
      },
      "execution_count": null,
      "outputs": []
    },
    {
      "cell_type": "markdown",
      "source": [
        "# ALgorithm - bubble sorting"
      ],
      "metadata": {
        "id": "0ORbql2x7Zm9"
      }
    },
    {
      "cell_type": "code",
      "source": [
        "def swap(arr, index_1, index_2):\n",
        "    temp = arr[index_1]\n",
        "    arr[index_1] = arr[index_2]\n",
        "    arr[index_2] = temp\n",
        "\n",
        "my_list = [5, 2, 6, 1, 3, 4]\n",
        "# my_list = [1, 2, 3, 4, 5, 6] # A sorted list. Uncomment this line to try it\n",
        "\n",
        "swapped = False\n",
        "for i in range(len(my_list) -  1):\n",
        "    if my_list[i] > my_list[i + 1]:\n",
        "        swapped = True\n",
        "        swap(my_list, i, i + 1)\n",
        "\n",
        "print(my_list)\n",
        "print(swapped)"
      ],
      "metadata": {
        "id": "JTq4mmG57Npg"
      },
      "execution_count": null,
      "outputs": []
    },
    {
      "cell_type": "markdown",
      "source": [
        "# List.sort()"
      ],
      "metadata": {
        "id": "tWOrFRVDHV1N"
      }
    },
    {
      "cell_type": "code",
      "source": [
        "def find_largest(the_list):\n",
        "    the_list.sort()\n",
        "    return the_list[-1]\n",
        "\n",
        "\n",
        "my_list = [86, 80, 63, 48, 29, 97, 5, 2, 78, 0]\n",
        "largest = find_largest(my_list)\n",
        "\n",
        "print(f'The largest value in the below list is {largest}')\n",
        "print(my_list)"
      ],
      "metadata": {
        "id": "CiH5AhUVHVea"
      },
      "execution_count": null,
      "outputs": []
    },
    {
      "cell_type": "markdown",
      "source": [
        "# set().add()"
      ],
      "metadata": {
        "id": "O4QXxcINITjY"
      }
    },
    {
      "cell_type": "code",
      "source": [
        "class UserManagement:\n",
        "    def __init__(self):\n",
        "        self.administrators = set()\n",
        "\n",
        "    # Implement the add_admin method here\n",
        "    def add_admin(self, name):\n",
        "        self.administrators.add(name)\n",
        "\n",
        "    # Implement the is_admin method here\n",
        "    def is_admin(self,name):\n",
        "        return name in self.administrators\n",
        "\n",
        "\n",
        "userMgmt = UserManagement()\n",
        "userMgmt.add_admin('l.torvalds')\n",
        "userMgmt.add_admin('d.ritchie')\n",
        "\n",
        "# Should return False\n",
        "print(userMgmt.is_admin('m.zuckerberg'))\n",
        "\n",
        "# Should return True\n",
        "print(userMgmt.is_admin('l.torvalds'))"
      ],
      "metadata": {
        "id": "hDxbQaz0ISS-"
      },
      "execution_count": null,
      "outputs": []
    },
    {
      "cell_type": "markdown",
      "source": [
        "# Set uniquniess"
      ],
      "metadata": {
        "id": "pFTzT2KJJiRw"
      }
    },
    {
      "cell_type": "code",
      "source": [
        "def lottery_numbers_valid(numbers):\n",
        "    num_selected = len(numbers)\n",
        "    if num_selected != 6:\n",
        "        return False\n",
        "\n",
        "    # Write your uniqueness check here and return False if there are non-unique values\n",
        "    if len(set(numbers)) != len(numbers):\n",
        "        return False\n",
        "    return True\n",
        "\n",
        "\n",
        "# Should be invalid, as only 5 were selected\n",
        "print(lottery_numbers_valid([32, 41, 17, 1, 9]))\n",
        "\n",
        "# Should be invalid, as there are duplicated numbers\n",
        "print(lottery_numbers_valid([32, 41, 17, 1, 9, 32]))\n",
        "\n",
        "# Should be valid\n",
        "print(lottery_numbers_valid([32, 41, 17, 1, 9, 25]))"
      ],
      "metadata": {
        "id": "O0qylQvwJmRC"
      },
      "execution_count": null,
      "outputs": []
    },
    {
      "cell_type": "markdown",
      "source": [
        "# Lab 4.1 Dictionary\n",
        "### check if item is IN disctionary"
      ],
      "metadata": {
        "id": "wum_LIhnKd2B"
      }
    },
    {
      "cell_type": "code",
      "source": [
        "sales = ['hat', 'pants', 'pants', 'shirt', 'pants', 'shirt']\n",
        "\n",
        "counts = {}\n",
        "for item in sales:\n",
        "    if item in counts:\n",
        "        counts[item] = counts[item] + 1\n",
        "    else:\n",
        "        counts[item] = 1\n",
        "    \n",
        "print(counts)"
      ],
      "metadata": {
        "id": "tHKYKCerKkDG"
      },
      "execution_count": null,
      "outputs": []
    },
    {
      "cell_type": "markdown",
      "source": [
        "## check if item is NOT IN dictionary"
      ],
      "metadata": {
        "id": "Lzb0WIwLQehy"
      }
    },
    {
      "cell_type": "code",
      "source": [
        "product_codes = {\n",
        "    '5467312287': 'hat',\n",
        "    '1565467432': 'pants',\n",
        "    '8534743578': 'shirt'\n",
        "}\n",
        "prices = {\n",
        "    '5467312287': 21.70,\n",
        "    '1565467432': 55,\n",
        "    '8534743578': 22.90\n",
        "}\n",
        "\n",
        "sales = ['5467312287', '1565467432', '1565467432', '8496485676', '8496485676', '8534743578']\n",
        "\n",
        "for code in sales:\n",
        "    # Write code to ask the user for missing details when required\n",
        "    if code not in product_codes:\n",
        "        print(f'Product code: {code} not found.')\n",
        "        product_codes[code] = input(\"Enter item name: \")\n",
        "        prices[code] = float(input(\"Enter item price: \"))\n",
        "\n",
        "    print(f'{product_codes[code]}: ${prices[code]:.2f}')"
      ],
      "metadata": {
        "id": "lSa_Xu2vQcMv"
      },
      "execution_count": null,
      "outputs": []
    },
    {
      "cell_type": "markdown",
      "source": [
        "# Lab 4.2 Assertion\n",
        "## Black-Box Testing, Equivalence Partitioning,Boundary Testing"
      ],
      "metadata": {
        "id": "5a5W43OdRyMq"
      }
    },
    {
      "cell_type": "code",
      "source": [
        "def predict_rainfall(rain_mm_0, rain_mm_1):\n",
        "    # Predict rainfall using the previous two days' observations\n",
        "    rain_mm_diff = rain_mm_1 - rain_mm_0\n",
        "    prediction_mm = rain_mm_1 + rain_mm_diff\n",
        "\n",
        "    assert prediction_mm >= 0, 'Predicted rainfall cannot be negative'\n",
        "    return prediction_mm\n",
        "\n",
        "print(predict_rainfall(0, 5))\n",
        "print(predict_rainfall(32, 17))\n",
        "print(predict_rainfall(15, 15))\n",
        "print(predict_rainfall(20, 7))\n",
        "print(predict_rainfall(0, 0))\n",
        "print(predict_rainfall(2, 0))"
      ],
      "metadata": {
        "colab": {
          "base_uri": "https://localhost:8080/",
          "height": 402
        },
        "id": "jCDp0MrwR0ni",
        "outputId": "987dd43e-f7ed-49b6-8324-70b4ad5ea3c8"
      },
      "execution_count": null,
      "outputs": [
        {
          "output_type": "stream",
          "name": "stdout",
          "text": [
            "10\n",
            "2\n",
            "15\n"
          ]
        },
        {
          "output_type": "error",
          "ename": "AssertionError",
          "evalue": "ignored",
          "traceback": [
            "\u001b[0;31m---------------------------------------------------------------------------\u001b[0m",
            "\u001b[0;31mAssertionError\u001b[0m                            Traceback (most recent call last)",
            "\u001b[0;32m<ipython-input-1-029339545ba4>\u001b[0m in \u001b[0;36m<cell line: 12>\u001b[0;34m()\u001b[0m\n\u001b[1;32m     10\u001b[0m \u001b[0mprint\u001b[0m\u001b[0;34m(\u001b[0m\u001b[0mpredict_rainfall\u001b[0m\u001b[0;34m(\u001b[0m\u001b[0;36m32\u001b[0m\u001b[0;34m,\u001b[0m \u001b[0;36m17\u001b[0m\u001b[0;34m)\u001b[0m\u001b[0;34m)\u001b[0m\u001b[0;34m\u001b[0m\u001b[0;34m\u001b[0m\u001b[0m\n\u001b[1;32m     11\u001b[0m \u001b[0mprint\u001b[0m\u001b[0;34m(\u001b[0m\u001b[0mpredict_rainfall\u001b[0m\u001b[0;34m(\u001b[0m\u001b[0;36m15\u001b[0m\u001b[0;34m,\u001b[0m \u001b[0;36m15\u001b[0m\u001b[0;34m)\u001b[0m\u001b[0;34m)\u001b[0m\u001b[0;34m\u001b[0m\u001b[0;34m\u001b[0m\u001b[0m\n\u001b[0;32m---> 12\u001b[0;31m \u001b[0mprint\u001b[0m\u001b[0;34m(\u001b[0m\u001b[0mpredict_rainfall\u001b[0m\u001b[0;34m(\u001b[0m\u001b[0;36m20\u001b[0m\u001b[0;34m,\u001b[0m \u001b[0;36m7\u001b[0m\u001b[0;34m)\u001b[0m\u001b[0;34m)\u001b[0m\u001b[0;34m\u001b[0m\u001b[0;34m\u001b[0m\u001b[0m\n\u001b[0m\u001b[1;32m     13\u001b[0m \u001b[0mprint\u001b[0m\u001b[0;34m(\u001b[0m\u001b[0mpredict_rainfall\u001b[0m\u001b[0;34m(\u001b[0m\u001b[0;36m0\u001b[0m\u001b[0;34m,\u001b[0m \u001b[0;36m0\u001b[0m\u001b[0;34m)\u001b[0m\u001b[0;34m)\u001b[0m\u001b[0;34m\u001b[0m\u001b[0;34m\u001b[0m\u001b[0m\n\u001b[1;32m     14\u001b[0m \u001b[0mprint\u001b[0m\u001b[0;34m(\u001b[0m\u001b[0mpredict_rainfall\u001b[0m\u001b[0;34m(\u001b[0m\u001b[0;36m2\u001b[0m\u001b[0;34m,\u001b[0m \u001b[0;36m0\u001b[0m\u001b[0;34m)\u001b[0m\u001b[0;34m)\u001b[0m\u001b[0;34m\u001b[0m\u001b[0;34m\u001b[0m\u001b[0m\n",
            "\u001b[0;32m<ipython-input-1-029339545ba4>\u001b[0m in \u001b[0;36mpredict_rainfall\u001b[0;34m(rain_mm_0, rain_mm_1)\u001b[0m\n\u001b[1;32m      4\u001b[0m     \u001b[0mprediction_mm\u001b[0m \u001b[0;34m=\u001b[0m \u001b[0mrain_mm_1\u001b[0m \u001b[0;34m+\u001b[0m \u001b[0mrain_mm_diff\u001b[0m\u001b[0;34m\u001b[0m\u001b[0;34m\u001b[0m\u001b[0m\n\u001b[1;32m      5\u001b[0m \u001b[0;34m\u001b[0m\u001b[0m\n\u001b[0;32m----> 6\u001b[0;31m     \u001b[0;32massert\u001b[0m \u001b[0mprediction_mm\u001b[0m \u001b[0;34m>=\u001b[0m \u001b[0;36m0\u001b[0m\u001b[0;34m,\u001b[0m \u001b[0;34m'Predicted rainfall cannot be negative'\u001b[0m\u001b[0;34m\u001b[0m\u001b[0;34m\u001b[0m\u001b[0m\n\u001b[0m\u001b[1;32m      7\u001b[0m     \u001b[0;32mreturn\u001b[0m \u001b[0mprediction_mm\u001b[0m\u001b[0;34m\u001b[0m\u001b[0;34m\u001b[0m\u001b[0m\n\u001b[1;32m      8\u001b[0m \u001b[0;34m\u001b[0m\u001b[0m\n",
            "\u001b[0;31mAssertionError\u001b[0m: Predicted rainfall cannot be negative"
          ]
        }
      ]
    },
    {
      "cell_type": "markdown",
      "source": [
        "# Lab 4.2 Raise valueError and Handle exceptions"
      ],
      "metadata": {
        "id": "sCJEivMoTKj8"
      }
    },
    {
      "cell_type": "code",
      "source": [
        "def take_payment(amount):\n",
        "    print(f'Taking payment of ${amount:.2f}...')\n",
        "\n",
        "\n",
        "class OnlineOrder:\n",
        "    def __init__(self):\n",
        "        self.items = []\n",
        "\n",
        "    def add_to_cart(self, item, price):\n",
        "        if price <= 0:\n",
        "            raise ValueError('Price must be greater than $0')\n",
        "        self.items.append([item, price])\n",
        "\n",
        "    def check_out(self):\n",
        "        total = 0\n",
        "        for [item, price] in self.items:\n",
        "            total = total + price\n",
        "\n",
        "        take_payment(total)\n",
        "\n",
        "\n",
        "order = OnlineOrder()\n",
        "\n",
        "menu_char = ''\n",
        "while menu_char != 'c':\n",
        "    item_name = input('Enter item name: ')\n",
        "    item_price = float(input('Enter item price: '))\n",
        "    try:\n",
        "        order.add_to_cart(item_name, item_price)\n",
        "    except ValueError:\n",
        "        print('Error adding item to cart')\n",
        "\n",
        "    menu_char = input('Check out (c) or Add another item (a): ')\n",
        "\n",
        "order.check_out()"
      ],
      "metadata": {
        "id": "KQ49j350R1fc"
      },
      "execution_count": null,
      "outputs": []
    },
    {
      "cell_type": "markdown",
      "source": [
        "# Lab 4.2 Raise RuntimeError and Handle exceptions"
      ],
      "metadata": {
        "id": "Fq7ZgYbUVl-n"
      }
    },
    {
      "cell_type": "code",
      "source": [
        "def take_payment(amount):\n",
        "    print(f'Taking payment of ${amount:.2f}...')\n",
        "\n",
        "\n",
        "class OnlineOrder:\n",
        "    def __init__(self):\n",
        "        self.items = []\n",
        "\n",
        "    def add_to_cart(self, item, price):\n",
        "        if price <= 0:\n",
        "            raise ValueError('Price must be greater than $0')\n",
        "        self.items.append([item, price])\n",
        "\n",
        "    def check_out(self):\n",
        "        total = 0\n",
        "        for [item, price] in self.items:\n",
        "            total = total + price\n",
        "        if total <=0:\n",
        "            raise RuntimeError('<<Crash>>')\n",
        "        take_payment(total)\n",
        "\n",
        "\n",
        "order = OnlineOrder()\n",
        "\n",
        "menu_char = ''\n",
        "while menu_char != 'c':\n",
        "    item_name = input('Enter item name: ')\n",
        "    item_price = float(input('Enter item price: '))\n",
        "    try:\n",
        "        order.add_to_cart(item_name, item_price)\n",
        "    except ValueError:\n",
        "        print('Error adding item to cart')\n",
        "\n",
        "    menu_char = input('Check out (c) or Add another item (a): ')\n",
        "\n",
        "try:\n",
        "    order.check_out()\n",
        "except RuntimeError:\n",
        "    print('Error checking out - try again later')"
      ],
      "metadata": {
        "id": "_W2v4WOqVclT"
      },
      "execution_count": null,
      "outputs": []
    },
    {
      "cell_type": "markdown",
      "source": [
        "# Lab 3.1 Bonus task (Functions, Classes and Methods)"
      ],
      "metadata": {
        "id": "KHk3t4C3lx-O"
      }
    },
    {
      "cell_type": "code",
      "source": [
        "SERVICE_KM = 10000\n",
        "\n",
        "class Car:\n",
        "    def __init__(self, make, model):\n",
        "        self.make = make\n",
        "        self.model = model\n",
        "        self.km_travelled = 0\n",
        "        self.last_service_km = 0\n",
        "\n",
        "    def travel(self, km):\n",
        "        self.km_travelled = self.km_travelled + km\n",
        "\n",
        "    def service(self):\n",
        "        self.last_service_km = self.km_travelled\n",
        "\n",
        "    def km_since_last_service(self):\n",
        "        return self.km_travelled - self.last_service_km\n",
        "\n",
        "    def is_service_due(self):\n",
        "        return self.km_since_last_service() > SERVICE_KM\n",
        "\n",
        "    # Add your print_service_status method here\n",
        "    def print_service_status(self):\n",
        "        print(f'{self.make} {self.model}')\n",
        "        print(f\"{'Current:':>15s} {self.km_travelled}km\")\n",
        "        print(f\"{'Last service:':>15s} {self.last_service_km}km\")\n",
        "        print(f\"{'Next service:':>15s} {self.last_service_km + 10000}km\")\n",
        "        print(f\"{'Service due:':>15s} {self.is_service_due()}\")\n",
        "\n",
        "car = Car('Toyota', 'Prius')\n",
        "\n",
        "car.travel(4500)\n",
        "car.travel(6500)\n",
        "# car.travel(1500)\n",
        "car.service()\n",
        "car.travel(1500)\n",
        "\n",
        "car.print_service_status()"
      ],
      "metadata": {
        "id": "Sfp4PlXslwhw"
      },
      "execution_count": null,
      "outputs": []
    },
    {
      "cell_type": "markdown",
      "source": [
        "# Lab 3.2 Strings and text files"
      ],
      "metadata": {
        "id": "IfMB4O8Ymk_A"
      }
    },
    {
      "cell_type": "code",
      "source": [
        "print('My dog\\'s name is \"Fido\"\\nand he isn\\'t very smart.')\n",
        "# OR\n",
        "print(\"My dog's name is \\\"Fido\\\"\\nand he isn't very smart.\")"
      ],
      "metadata": {
        "id": "qDAmLsDemhCB"
      },
      "execution_count": null,
      "outputs": []
    },
    {
      "cell_type": "code",
      "source": [
        "# Write your `username_from_name` function here\n",
        "def username_from_name(full_name):\n",
        "    return full_name.lower().replace(' ', '_')\n",
        "\n",
        "name = 'Alice Adams'\n",
        "print(username_from_name(name))"
      ],
      "metadata": {
        "id": "ezg80ASanHBj"
      },
      "execution_count": null,
      "outputs": []
    },
    {
      "cell_type": "code",
      "source": [
        "# Write your `username_from_email` function here\n",
        "def username_from_email(email):\n",
        "    at_index = email.find('@')\n",
        "    return email[:at_index].lower()\n",
        "\n",
        "email_address = 'Alice_a.au@gmail.com'\n",
        "print(username_from_email(email_address))"
      ],
      "metadata": {
        "id": "MzD5QEQ-nT8u"
      },
      "execution_count": null,
      "outputs": []
    },
    {
      "cell_type": "markdown",
      "source": [
        "# Lab 3.2 Writing Text Files"
      ],
      "metadata": {
        "id": "Sz-1QVeYoUcE"
      }
    },
    {
      "cell_type": "code",
      "source": [
        "def get_receipt_line(name, price):\n",
        "    return f'{name:20}: ${price:5.2f}'\n",
        "\n",
        "file = open('receipt.txt', 'w')\n",
        "\n",
        "file.write(get_receipt_line('Rice 1kg', 2.99) + '\\n')\n",
        "file.write(get_receipt_line('Pasta sauce 500g', 3.20) + '\\n')\n",
        "file.write(get_receipt_line('Grass fed beef 2kg', 32.99) + '\\n')\n",
        "\n",
        "file.close()"
      ],
      "metadata": {
        "id": "EIObOHTWnxXn"
      },
      "execution_count": null,
      "outputs": []
    },
    {
      "cell_type": "markdown",
      "source": [
        "# Lab 3.2 Checking for File Existence"
      ],
      "metadata": {
        "id": "vUpAw1z0oLeb"
      }
    },
    {
      "cell_type": "code",
      "source": [
        "import os\n",
        "\n",
        "filename = input('Enter receipt filename: ')\n",
        "\n",
        "if os.path.isfile(filename):\n",
        "    file = open(filename, 'r')\n",
        "\n",
        "    for line in file:\n",
        "        print(line[:-1])\n",
        "\n",
        "    file.close()\n",
        "else:\n",
        "    print('Receipt file doesn\\'t exist!')"
      ],
      "metadata": {
        "id": "jsBIcbDVoIZl"
      },
      "execution_count": null,
      "outputs": []
    },
    {
      "cell_type": "markdown",
      "source": [
        "# Lab 3.2 Bonus Question (Open file and print out)"
      ],
      "metadata": {
        "id": "jsldC_ZWu16T"
      }
    },
    {
      "cell_type": "code",
      "source": [
        "# Write your receipt processing program here\n",
        "import os\n",
        "filename = input('Enter receipt filename: ')\n",
        "\n",
        "counts = 0\n",
        "total_price = 0\n",
        "if os.path.isfile(filename):\n",
        "    file = open(filename,'r')\n",
        "\n",
        "    for line in file:\n",
        "        counts += 1\n",
        "        print(f\"{line[:-1]}\")\n",
        "        is_index = line.find('$') + 1\n",
        "        total_price += float(line[is_index:-1])\n",
        "\n",
        "    file.close()\n",
        "\n",
        "print(f\"{counts} items\")\n",
        "print(f\"{'Total price':20s}: ${total_price:.2f}\")"
      ],
      "metadata": {
        "id": "ooPHZSffuwXa"
      },
      "execution_count": null,
      "outputs": []
    }
  ]
}