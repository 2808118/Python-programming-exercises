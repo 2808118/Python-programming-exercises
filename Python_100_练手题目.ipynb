{
  "nbformat": 4,
  "nbformat_minor": 0,
  "metadata": {
    "colab": {
      "provenance": [],
      "authorship_tag": "ABX9TyNpCEZmGc1ArbuHqZsI7C3U",
      "include_colab_link": true
    },
    "kernelspec": {
      "name": "python3",
      "display_name": "Python 3"
    },
    "language_info": {
      "name": "python"
    }
  },
  "cells": [
    {
      "cell_type": "markdown",
      "metadata": {
        "id": "view-in-github",
        "colab_type": "text"
      },
      "source": [
        "<a href=\"https://colab.research.google.com/github/2808118/Python-programming-exercises/blob/master/Python_100_%E7%BB%83%E6%89%8B%E9%A2%98%E7%9B%AE.ipynb\" target=\"_parent\"><img src=\"https://colab.research.google.com/assets/colab-badge.svg\" alt=\"Open In Colab\"/></a>"
      ]
    },
    {
      "cell_type": "code",
      "execution_count": null,
      "metadata": {
        "colab": {
          "base_uri": "https://localhost:8080/"
        },
        "id": "64wqDIdNM1l7",
        "outputId": "a593ffa1-cca9-48e9-97d5-0fe1a2737c98"
      },
      "outputs": [
        {
          "output_type": "stream",
          "name": "stdout",
          "text": [
            "['2002', '2009', '2016', '2023', '2037', '2044', '2051', '2058', '2072', '2079', '2086', '2093', '2107', '2114', '2121', '2128', '2142', '2149', '2156', '2163', '2177', '2184', '2191', '2198', '2212', '2219', '2226', '2233', '2247', '2254', '2261', '2268', '2282', '2289', '2296', '2303', '2317', '2324', '2331', '2338', '2352', '2359', '2366', '2373', '2387', '2394', '2401', '2408', '2422', '2429', '2436', '2443', '2457', '2464', '2471', '2478', '2492', '2499', '2506', '2513', '2527', '2534', '2541', '2548', '2562', '2569', '2576', '2583', '2597', '2604', '2611', '2618', '2632', '2639', '2646', '2653', '2667', '2674', '2681', '2688', '2702', '2709', '2716', '2723', '2737', '2744', '2751', '2758', '2772', '2779', '2786', '2793', '2807', '2814', '2821', '2828', '2842', '2849', '2856', '2863', '2877', '2884', '2891', '2898', '2912', '2919', '2926', '2933', '2947', '2954', '2961', '2968', '2982', '2989', '2996', '3003', '3017', '3024', '3031', '3038', '3052', '3059', '3066', '3073', '3087', '3094', '3101', '3108', '3122', '3129', '3136', '3143', '3157', '3164', '3171', '3178', '3192', '3199']\n"
          ]
        }
      ],
      "source": [
        "# Question 1\n",
        "l = []\n",
        "for i in range(2000, 3200):\n",
        "  if (i % 7 == 0 ) and (i % 5 != 0):\n",
        "    l.append(str(i))\n",
        "print (l)"
      ]
    },
    {
      "cell_type": "code",
      "source": [
        "# Question 2\n",
        "# use input() to take in initial numbers\n",
        "# use int() to convert to integer\n",
        "n = int(input())\n",
        "# initialise parameters\n",
        "fact = 1\n",
        "i = 1\n",
        "while i <= n:\n",
        "  fact = fact*i\n",
        "  i += 1\n",
        "  print(fact,i)\n"
      ],
      "metadata": {
        "colab": {
          "base_uri": "https://localhost:8080/"
        },
        "id": "bWzd8UOYNbBF",
        "outputId": "7e61c401-c10a-4902-9ef6-733f9985472b"
      },
      "execution_count": null,
      "outputs": [
        {
          "output_type": "stream",
          "name": "stdout",
          "text": [
            "15\n",
            "1 2\n",
            "2 3\n",
            "6 4\n",
            "24 5\n",
            "120 6\n",
            "720 7\n",
            "5040 8\n",
            "40320 9\n",
            "362880 10\n",
            "3628800 11\n",
            "39916800 12\n",
            "479001600 13\n",
            "6227020800 14\n",
            "87178291200 15\n",
            "1307674368000 16\n"
          ]
        }
      ]
    },
    {
      "cell_type": "code",
      "source": [
        "# Question 2\n",
        "# use for loop to \n",
        "# use input() function to take in n\n",
        "# use int() to convert the n to integer\n",
        "n = int(input(\"Enter a number:\"))\n",
        "# initialise fact and i from 1\n",
        "fact = 1\n",
        "\n",
        "# there is no need to set i = 1;\n",
        "# there is no need to compare i and n as i always falls in the range of (1, n+1)\n",
        "# \n",
        "for i in range(1,n+1):\n",
        "    fact = fact*i\n",
        "    i += 1\n",
        "    print(fact, i)\n"
      ],
      "metadata": {
        "colab": {
          "base_uri": "https://localhost:8080/"
        },
        "id": "aCfLsYOcPHTN",
        "outputId": "056b11d6-c43f-411a-f132-2010f498972f"
      },
      "execution_count": null,
      "outputs": [
        {
          "output_type": "stream",
          "name": "stdout",
          "text": [
            "Enter a number:15\n",
            "1 2\n",
            "2 3\n",
            "6 4\n",
            "24 5\n",
            "120 6\n",
            "720 7\n",
            "5040 8\n",
            "40320 9\n",
            "362880 10\n",
            "3628800 11\n",
            "39916800 12\n",
            "479001600 13\n",
            "6227020800 14\n",
            "87178291200 15\n",
            "1307674368000 16\n"
          ]
        }
      ]
    },
    {
      "cell_type": "code",
      "source": [
        "# use lambda function (bu hui zuo)\n",
        "n = int(input())\n",
        "fact = 1\n",
        "def shortFact(x): \n",
        "  for x in range(1, n+1):\n",
        "    if x <= n:\n",
        "      fact = fact*i\n",
        "    print(fact, i)\n"
      ],
      "metadata": {
        "colab": {
          "base_uri": "https://localhost:8080/"
        },
        "id": "eBK0NC2VY-G5",
        "outputId": "26c698e1-dcaf-4b21-8891-a978f44b3e4f"
      },
      "execution_count": null,
      "outputs": [
        {
          "name": "stdout",
          "output_type": "stream",
          "text": [
            "15\n"
          ]
        }
      ]
    },
    {
      "cell_type": "code",
      "source": [],
      "metadata": {
        "id": "aQUNidWsZd_R"
      },
      "execution_count": null,
      "outputs": []
    },
    {
      "cell_type": "markdown",
      "source": [
        "问题3\n",
        "\n",
        "问题：使用给定的整数n，编写程序以生成包含（i，ixi）的字典，该字典为1到n之间的整数（都包括在内）。然后程序应打印字典。假设向程序提供了以下输入：8\\\n",
        "然后，输出应为：\n",
        "{1: 1, 2: 4, 3: 9, 4: 16, 5: 25, 6: 36, 7: 49, 8: 64}\n",
        "提示：\n",
        "如果将输入数据提供给问题，则应假定它是控制台输入。考虑使用dict（）"
      ],
      "metadata": {
        "id": "s5T2PWOGbVKm"
      }
    },
    {
      "cell_type": "code",
      "source": [
        "# use for loop\n",
        "\n",
        "n = int(input(\"Enter an integer:\"))\n",
        "ans = {}\n",
        "for i in range (1, n+1):\n",
        "  ans[i] = i * i\n",
        "print(ans)"
      ],
      "metadata": {
        "colab": {
          "base_uri": "https://localhost:8080/"
        },
        "id": "2XuLEp3lbYup",
        "outputId": "b0113eaf-3669-4970-b40b-5ab653a0f816"
      },
      "execution_count": null,
      "outputs": [
        {
          "output_type": "stream",
          "name": "stdout",
          "text": [
            "Enter an integer:15\n",
            "{1: 1, 2: 4, 3: 9, 4: 16, 5: 25, 6: 36, 7: 49, 8: 64, 9: 81, 10: 100, 11: 121, 12: 144, 13: 169, 14: 196, 15: 225}\n"
          ]
        }
      ]
    },
    {
      "cell_type": "code",
      "source": [
        "# use dictionary to code\n",
        "\n",
        "n = int(input(\"Enter an interger:\"))\n",
        "ans  = {i: i**2 for i in range(1, n+1)}\n",
        "print(ans)"
      ],
      "metadata": {
        "colab": {
          "base_uri": "https://localhost:8080/"
        },
        "id": "2Iw7Qa8Wb0gF",
        "outputId": "a1e8a191-11d4-4c2d-a928-d8d44fe9a8c4"
      },
      "execution_count": null,
      "outputs": [
        {
          "output_type": "stream",
          "name": "stdout",
          "text": [
            "Enter an interger:15\n",
            "{1: 1, 2: 4, 3: 9, 4: 16, 5: 25, 6: 36, 7: 49, 8: 64, 9: 81, 10: 100, 11: 121, 12: 144, 13: 169, 14: 196, 15: 225}\n"
          ]
        }
      ]
    },
    {
      "cell_type": "code",
      "source": [
        "# 演进\n",
        "\n",
        "try:\n",
        "    num = int(input(\"Enter a number: \")) # After try is the condition that needs to be met.\n",
        "except ValueError as err: # to handle errors\n",
        "    print(err)\n",
        "\n",
        "# to set dictio to be a dictionary\n",
        "dictio = dict()\n",
        "for item in range(1,num+1):\n",
        "   # if item == 0:\n",
        "       # continue\n",
        "    #else:\n",
        "      dictio[item] = item * item\n",
        "print(dictio)"
      ],
      "metadata": {
        "colab": {
          "base_uri": "https://localhost:8080/"
        },
        "id": "YGR5agH0cEaw",
        "outputId": "aa80d621-93f7-44f8-e6a4-9bdab3eec608"
      },
      "execution_count": null,
      "outputs": [
        {
          "output_type": "stream",
          "name": "stdout",
          "text": [
            "Enter a number: 15\n",
            "{1: 1, 2: 4, 3: 9, 4: 16, 5: 25, 6: 36, 7: 49, 8: 64, 9: 81, 10: 100, 11: 121, 12: 144, 13: 169, 14: 196, 15: 225}\n"
          ]
        }
      ]
    },
    {
      "cell_type": "code",
      "source": [
        "values = [\"a\", \"b\", \"c\", \"d\"]\n",
        "for index, value in enumerate(values, start=1):\n",
        "  print(index, value)"
      ],
      "metadata": {
        "colab": {
          "base_uri": "https://localhost:8080/"
        },
        "id": "VyLZG3pUcnXH",
        "outputId": "ef108888-95a8-4e7e-f4d4-9d0cb0fb9381"
      },
      "execution_count": null,
      "outputs": [
        {
          "output_type": "stream",
          "name": "stdout",
          "text": [
            "1 a\n",
            "2 b\n",
            "3 c\n",
            "4 d\n"
          ]
        }
      ]
    },
    {
      "cell_type": "code",
      "source": [
        "try:\n",
        "  n = int(input(\"Enter an integer:\"))\n",
        "except ValueError as err:\n",
        "  Print(err)\n",
        "\n",
        "print(dict(enumerate([i*i for i in range(1, n+1)],1)))"
      ],
      "metadata": {
        "colab": {
          "base_uri": "https://localhost:8080/"
        },
        "id": "zfBgfaUbeL6M",
        "outputId": "170f40d2-9e50-4f07-be9e-c5195629111f"
      },
      "execution_count": null,
      "outputs": [
        {
          "output_type": "stream",
          "name": "stdout",
          "text": [
            "Enter an integer:15\n",
            "{1: 1, 2: 4, 3: 9, 4: 16, 5: 25, 6: 36, 7: 49, 8: 64, 9: 81, 10: 100, 11: 121, 12: 144, 13: 169, 14: 196, 15: 225}\n"
          ]
        }
      ]
    },
    {
      "cell_type": "code",
      "source": [
        "# Question 4 Fibonacci sequence\n",
        "# F1 = 1 (n=1)\n",
        "# Fn = F[n-1] + F[n-2] (n>=2)\n",
        "\n",
        "# take in the number of n and initialise a and b\n",
        "def fib(n):\n",
        "  n = int(input(\"Enter an integer:\"))\n",
        "  a = b = 1\n",
        "  for i in range (n):\n",
        "    print(a, end = \" \")\n",
        "    temp = b\n",
        "    b = a + b\n",
        "    a = temp\n",
        "fib(n)\n",
        "# I dont see the print function, why does it print here?"
      ],
      "metadata": {
        "colab": {
          "base_uri": "https://localhost:8080/"
        },
        "id": "AoPTm-RpfFXr",
        "outputId": "f0571b5f-b4bb-4901-99df-1c3ba2c619eb"
      },
      "execution_count": null,
      "outputs": [
        {
          "output_type": "stream",
          "name": "stdout",
          "text": [
            "Enter an integer:15\n",
            "1 1 2 3 5 8 13 21 34 55 89 144 233 377 610 "
          ]
        }
      ]
    },
    {
      "cell_type": "markdown",
      "source": [],
      "metadata": {
        "id": "PQSB2OZWgAj8"
      }
    },
    {
      "cell_type": "code",
      "source": [
        "from re import A\n",
        "a = int(input(\"Enter an integer - a:\"))\n",
        "n = int(input(\"Enter an integer - n:\"))\n",
        "s = 0\n",
        "sn = [] #use [] to create an array\n",
        "for i in range(n):\n",
        "  s = a + s #add a before upgrade a's value\n",
        "  a = a * 10\n",
        "  print(s)\n",
        "  sn.append(s) #use .append to add elements to arrays\n",
        "print(\"The sum of the first {} number is:{}\".format(n,sum(sn))) #need to practice the format print"
      ],
      "metadata": {
        "colab": {
          "base_uri": "https://localhost:8080/"
        },
        "id": "oLpsP-zNi615",
        "outputId": "db7f7f6a-face-4586-9789-013e04148020"
      },
      "execution_count": null,
      "outputs": [
        {
          "output_type": "stream",
          "name": "stdout",
          "text": [
            "Enter an integer - a:6\n",
            "Enter an integer - n:5\n",
            "6\n",
            "66\n",
            "666\n",
            "6666\n",
            "66666\n",
            "The sum of the first 5 number is:74070\n"
          ]
        }
      ]
    },
    {
      "cell_type": "code",
      "source": [],
      "metadata": {
        "id": "ywVIYoWGkJWX"
      },
      "execution_count": null,
      "outputs": []
    },
    {
      "cell_type": "markdown",
      "source": [
        "Question 6\n",
        "\n",
        "Level 2\n",
        "\n",
        "Question: Write a program that calculates and prints the value according to the given formula: Q = Square root of [(2 * C * D)/H] Following are the fixed values of C and H: C is 50. H is 30. D is the variable whose values should be input to your program in a comma-separated sequence. Example Let us assume the following comma separated input sequence is given to the program: 100,150,180 The output of the program should be: 18,22,24\n",
        "\n",
        "Hints: If the output received is in decimal form, it should be rounded off to its nearest value (for example, if the output received is 26.0, it should be printed as 26) In case of input data being supplied to the question, it should be assumed to be a console input."
      ],
      "metadata": {
        "id": "zDm8faV-o-pu"
      }
    },
    {
      "cell_type": "code",
      "source": [
        "import math\n",
        "C = 50\n",
        "H = 30\n",
        "Q = [] # array could print to array\n",
        "D = [x for x in input().split(',')] # at first, the input could be an array splited by comma with for loop\n",
        "for d in D:\n",
        "  Q.append(str(int(round(math.sqrt((2*C*float(d))/H))))) # remeber D as an array cannot be calculated in this formula\n",
        " #use .append to store elements to array\n",
        "print(Q)"
      ],
      "metadata": {
        "colab": {
          "base_uri": "https://localhost:8080/"
        },
        "id": "xonYEcNypAOl",
        "outputId": "25d1b765-cf82-4fd2-e05e-278779d8192e"
      },
      "execution_count": null,
      "outputs": [
        {
          "output_type": "stream",
          "name": "stdout",
          "text": [
            "100,150,180\n",
            "['18', '22', '24']\n"
          ]
        }
      ]
    },
    {
      "cell_type": "code",
      "source": [],
      "metadata": {
        "id": "Aj3tHtiwp8V9"
      },
      "execution_count": null,
      "outputs": []
    },
    {
      "cell_type": "markdown",
      "source": [
        "Question 7\n",
        "\n",
        "Level 2\n",
        "\n",
        "Question: Write a program which takes 2 digits, X,Y as input and generates a 2-dimensional array. The element value in the i-th row and j-th column of the array should be i*j. Note: i=0,1.., X-1; j=0,1,¡­Y-1. Example Suppose the following inputs are given to the program: 3,5 Then, the output of the program should be: [[0, 0, 0, 0, 0], [0, 1, 2, 3, 4], [0, 2, 4, 6, 8]]\n",
        "\n",
        "Hints: Note: In case of input data being supplied to the question, it should be assumed to be a console input in a comma-separated form."
      ],
      "metadata": {
        "id": "pyKllYVGq_rX"
      }
    },
    {
      "cell_type": "code",
      "source": [
        "dimensions = [int(x) for x in input().split(',')]\n",
        "print(dimensions)\n",
        "X = dimensions[0]\n",
        "Y = dimensions[1]\n",
        "print(X,Y)\n",
        "a = [[0 for j in range(Y)] for i in range(X)] # dont quite understand. would like to learn how to create a array in certain row and col\n",
        "for i in range(X):\n",
        "  for j in range(Y):\n",
        "    a[i][j] = i*j\n",
        "    # a.append(a[i][j]) can not be used as the above function has already allocated elements to array\n",
        "print(a)"
      ],
      "metadata": {
        "colab": {
          "base_uri": "https://localhost:8080/"
        },
        "id": "Ekoq0GZFrAaA",
        "outputId": "79ab9b3e-0568-4125-bb42-37867593b5c3"
      },
      "execution_count": null,
      "outputs": [
        {
          "output_type": "stream",
          "name": "stdout",
          "text": [
            "3,5\n",
            "[3, 5]\n",
            "3 5\n",
            "[[0, 0, 0, 0, 0], [0, 1, 2, 3, 4], [0, 2, 4, 6, 8]]\n"
          ]
        }
      ]
    },
    {
      "cell_type": "code",
      "source": [],
      "metadata": {
        "id": "OeYqzmF9rszQ"
      },
      "execution_count": null,
      "outputs": []
    },
    {
      "cell_type": "markdown",
      "source": [
        "Question 8\n",
        "\n",
        "Level 2\n",
        "\n",
        "Question: Write a program that accepts a comma separated sequence of words as input and prints the words in a comma-separated sequence after sorting them alphabetically. Suppose the following input is supplied to the program: without,hello,bag,world Then, the output should be: bag,hello,without,world\n",
        "\n",
        "Hints: In case of input data being supplied to the question, it should be assumed to be a console input."
      ],
      "metadata": {
        "id": "pl9ccdY2vsJB"
      }
    },
    {
      "cell_type": "code",
      "source": [
        "items  = [x for x in input().split(',')] # create a console input to create an array\n",
        "items.sort() # use .sort() to sort the results alphabetically\n",
        "print(\" \".join(items)) # use join() function to print not as an array\n"
      ],
      "metadata": {
        "colab": {
          "base_uri": "https://localhost:8080/"
        },
        "id": "qP1yFBTvvtEE",
        "outputId": "b9b693bd-afe7-4002-b166-1bb97d74d3a1"
      },
      "execution_count": null,
      "outputs": [
        {
          "output_type": "stream",
          "name": "stdout",
          "text": [
            "without, hello, bag, world\n",
            " bag  hello  world without\n"
          ]
        }
      ]
    },
    {
      "cell_type": "code",
      "source": [],
      "metadata": {
        "id": "OPXNIZeMwSeu"
      },
      "execution_count": null,
      "outputs": []
    },
    {
      "cell_type": "markdown",
      "source": [
        "Question 9\n",
        "\n",
        "Level 2\n",
        "\n",
        "Question£º Write a program that accepts sequence of lines as input and prints the lines after making all characters in the sentence capitalized. Suppose the following input is supplied to the program: Hello world Practice makes perfect Then, the output should be: HELLO WORLD PRACTICE MAKES PERFECT\n",
        "\n",
        "Hints: In case of input data being supplied to the question, it should be assumed to be a console input."
      ],
      "metadata": {
        "id": "Kw8ktQvLZpVr"
      }
    },
    {
      "cell_type": "code",
      "source": [
        "lines = []\n",
        "s = input()\n",
        "while True:\n",
        "  s = input()\n",
        "  if s:\n",
        "    lines.append(s.upper()) # print capital letter.\n",
        "  else:\n",
        "    break;\n",
        "\n",
        "for sentence in lines: # loop the lines to print the sentence.\n",
        "    print(sentence)"
      ],
      "metadata": {
        "colab": {
          "base_uri": "https://localhost:8080/"
        },
        "id": "S0y_k1pJZqUh",
        "outputId": "1429ba50-3e28-41c3-ab3a-c1ee7fd24507"
      },
      "execution_count": null,
      "outputs": [
        {
          "output_type": "stream",
          "name": "stdout",
          "text": [
            "Hello\n",
            "world\n",
            "Practice\n",
            "makes\n",
            "perfect\n",
            "\n",
            "WORLD\n",
            "PRACTICE\n",
            "MAKES\n",
            "PERFECT\n"
          ]
        }
      ]
    },
    {
      "cell_type": "markdown",
      "source": [
        "Question 10\n",
        "\n",
        "Level 2\n",
        "\n",
        "Question: Write a program that accepts a sequence of whitespace separated words as input and prints the words after removing all duplicate words and sorting them alphanumerically. Suppose the following input is supplied to the program: hello world and practice makes perfect and hello world again Then, the output should be: again and hello makes perfect practice world\n",
        "\n",
        "Hints: In case of input data being supplied to the question, it should be assumed to be a console input. We use set container to remove duplicated data automatically and then use sorted() to sort the data."
      ],
      "metadata": {
        "id": "dfc8HlRM6ZZN"
      }
    },
    {
      "cell_type": "code",
      "source": [
        "# remove duplicate values\n",
        "s = input()\n",
        "words = [word for word in s.split(\" \")] # this is an array\n",
        "print(\" \".join(sorted(list(set(words))))) # remember how to join, sorted, list and use set to eliminate duplicates."
      ],
      "metadata": {
        "colab": {
          "base_uri": "https://localhost:8080/"
        },
        "id": "3AGZE2nH6cXP",
        "outputId": "11601be5-7c38-49a2-e1e3-daff6ef41e75"
      },
      "execution_count": null,
      "outputs": [
        {
          "output_type": "stream",
          "name": "stdout",
          "text": [
            "hello world and practice makes perfect and hello world again\n",
            "again and hello makes perfect practice world\n"
          ]
        }
      ]
    },
    {
      "cell_type": "markdown",
      "source": [
        "Question 11\n",
        "\n",
        "Level 2\n",
        "\n",
        "Question: Write a program which accepts a sequence of comma separated 4 digit binary numbers as its input and then check whether they are divisible by 5 or not. The numbers that are divisible by 5 are to be printed in a comma separated sequence. Example: 0100,0011,1010,1001 Then the output should be: 1010 Notes: Assume the data is input by console.\n",
        "\n",
        "Hints: In case of input data being supplied to the question, it should be assumed to be a console input."
      ],
      "metadata": {
        "id": "il98mGJO7iwD"
      }
    },
    {
      "cell_type": "code",
      "source": [
        "# don't quite understand this coding\n",
        "value = []\n",
        "items = [x for x in input().split(',')]\n",
        "for p in items:\n",
        "  intp = int(p,2) # don't quite understand this code\n",
        "  if not intp%5:\n",
        "    value.append(p)\n",
        "print(','.join(value))"
      ],
      "metadata": {
        "colab": {
          "base_uri": "https://localhost:8080/"
        },
        "id": "o1dTiV6l7jhu",
        "outputId": "4f21bfa8-4e24-4439-8bbc-2439a8576c1e"
      },
      "execution_count": null,
      "outputs": [
        {
          "output_type": "stream",
          "name": "stdout",
          "text": [
            "0100,0011,1010,1001\n",
            "1010\n"
          ]
        }
      ]
    },
    {
      "cell_type": "markdown",
      "source": [
        "Question 12\n",
        "\n",
        "Level 2\n",
        "\n",
        "Question: Write a program, which will find all such numbers between 1000 and 3000 (both included) such that each digit of the number is an even number. The numbers obtained should be printed in a comma-separated sequence on a single line.\n",
        "\n",
        "Hints: In case of input data being supplied to the question, it should be assumed to be a console input."
      ],
      "metadata": {
        "id": "EPdioO_Z9dHG"
      }
    },
    {
      "cell_type": "code",
      "source": [
        "# Don't quite understand\n",
        "value = []\n",
        "for i in range(1000, 3001):\n",
        "  s = str(i) # why do we need to convert to str()\n",
        "  if (int(s[0])%2==0) and (int(s[1])%2==0) and (int(s[2])%2==0) and (int(s[3])%2==0): #why is it like this?\n",
        "    value.append(s)\n",
        "print(\",\".join(value))"
      ],
      "metadata": {
        "colab": {
          "base_uri": "https://localhost:8080/"
        },
        "id": "T83PCMYI9dnk",
        "outputId": "53147873-aa25-4bfe-c329-f1643af600bd"
      },
      "execution_count": null,
      "outputs": [
        {
          "output_type": "stream",
          "name": "stdout",
          "text": [
            "2000,2002,2004,2006,2008,2020,2022,2024,2026,2028,2040,2042,2044,2046,2048,2060,2062,2064,2066,2068,2080,2082,2084,2086,2088,2200,2202,2204,2206,2208,2220,2222,2224,2226,2228,2240,2242,2244,2246,2248,2260,2262,2264,2266,2268,2280,2282,2284,2286,2288,2400,2402,2404,2406,2408,2420,2422,2424,2426,2428,2440,2442,2444,2446,2448,2460,2462,2464,2466,2468,2480,2482,2484,2486,2488,2600,2602,2604,2606,2608,2620,2622,2624,2626,2628,2640,2642,2644,2646,2648,2660,2662,2664,2666,2668,2680,2682,2684,2686,2688,2800,2802,2804,2806,2808,2820,2822,2824,2826,2828,2840,2842,2844,2846,2848,2860,2862,2864,2866,2868,2880,2882,2884,2886,2888\n"
          ]
        }
      ]
    },
    {
      "cell_type": "markdown",
      "source": [
        "Question 13\n",
        "\n",
        "Level 2\n",
        "\n",
        "Question: Write a program that accepts a sentence and calculate the number of letters and digits. Suppose the following input is supplied to the program: hello world! 123 Then, the output should be: LETTERS 10 DIGITS 3\n",
        "\n",
        "Hints: In case of input data being supplied to the question, it should be assumed to be a console input.\n",
        "\n"
      ],
      "metadata": {
        "id": "spJRZL7l-qir"
      }
    },
    {
      "cell_type": "code",
      "source": [
        "s = input()\n",
        "d = {\"DIGITS\":0, \"LETTERS\":0}\n",
        "for c in s:\n",
        "  if c.isdigit():\n",
        "    d[\"DIGITS\"]+=1\n",
        "  elif c.isalpha():\n",
        "    d[\"LETTERS\"]+=1\n",
        "  else:\n",
        "    pass\n",
        "print(\"LETTERS\", d[\"LETTERS\"])\n",
        "print(\"DIGITS\", d[\"DIGITS\"])\n",
        "\n",
        "# the other way to do it without using dictionary\n",
        "p = input()\n",
        "DIGITS = 0\n",
        "LETTERS = 0\n",
        "for c in p:\n",
        "  if c.isdigit():\n",
        "    DIGITS += 1\n",
        "  elif c.isalpha():\n",
        "    LETTERS += 1\n",
        "  else:\n",
        "    pass\n",
        "print(\"LETTERS {0} DIGITS {1}\".format(LETTERS,DIGITS))"
      ],
      "metadata": {
        "colab": {
          "base_uri": "https://localhost:8080/"
        },
        "id": "v-q_WUSJ-O4u",
        "outputId": "4ec2a4db-9778-47a4-e2be-60956bcad3ff"
      },
      "execution_count": null,
      "outputs": [
        {
          "output_type": "stream",
          "name": "stdout",
          "text": [
            "hello world! 123\n",
            "LETTERS 10\n",
            "DIGITS 3\n",
            "hello world! 123\n",
            "LETTERS 10 DIGITS 3\n"
          ]
        }
      ]
    },
    {
      "cell_type": "markdown",
      "source": [
        "Question 14\n",
        "\n",
        "Level 2\n",
        "\n",
        "Question: Write a program that accepts a sentence and calculate the number of upper case letters and lower case letters. Suppose the following input is supplied to the program: Hello world! Then, the output should be: UPPER CASE 1 LOWER CASE 9\n",
        "\n",
        "Hints: In case of input data being supplied to the question, it should be assumed to be a console input."
      ],
      "metadata": {
        "id": "7MMmYRsdBSCM"
      }
    },
    {
      "cell_type": "code",
      "source": [
        "from io import UnsupportedOperation\n",
        "p = input()\n",
        "u = 0\n",
        "l = 0\n",
        "for c in p: # for loop could loop through strings to check each letter or numbers\n",
        "  if c.isupper():\n",
        "    u += 1\n",
        "  elif c.islower():\n",
        "    l += 1\n",
        "  else:\n",
        "    pass\n",
        "print(\"UPPER CASE {0} LOWER CASE {1}\".format(u,l))"
      ],
      "metadata": {
        "colab": {
          "base_uri": "https://localhost:8080/"
        },
        "id": "8YYIRdi1_dMK",
        "outputId": "8fb5da78-888a-44f6-8260-97e48a28d36b"
      },
      "execution_count": null,
      "outputs": [
        {
          "output_type": "stream",
          "name": "stdout",
          "text": [
            "Hello world!\n",
            "UPPER CASE 1 LOWER CASE 9\n"
          ]
        }
      ]
    },
    {
      "cell_type": "markdown",
      "source": [
        "Question 15\n",
        "\n",
        "Level 2\n",
        "\n",
        "Question: Write a program that computes the value of a+aa+aaa+aaaa with a given digit as the value of a. Suppose the following input is supplied to the program: 9 Then, the output should be: 11106\n",
        "\n",
        "Hints: In case of input data being supplied to the question, it should be assumed to be a console input."
      ],
      "metadata": {
        "id": "1L7Rl2FyB-QW"
      }
    },
    {
      "cell_type": "code",
      "source": [
        "# Solution 01 use %s to add the number together\n",
        "a = input()\n",
        "n1 = int( \"%s\" % a )\n",
        "n2 = int( \"%s%s\" % (a,a) )\n",
        "n3 = int( \"%s%s%s\" % (a,a,a) )\n",
        "n4 = int( \"%s%s%s%s\" % (a,a,a,a) )\n",
        "print(n1+n2+n3+n4)"
      ],
      "metadata": {
        "colab": {
          "base_uri": "https://localhost:8080/"
        },
        "id": "cYdUSzlkByWD",
        "outputId": "89d8ae1b-d45e-4b77-8748-6944ba8ef1f4"
      },
      "execution_count": null,
      "outputs": [
        {
          "output_type": "stream",
          "name": "stdout",
          "text": [
            "9\n",
            "11106\n"
          ]
        }
      ]
    },
    {
      "cell_type": "code",
      "source": [
        "# Solution 02\n",
        "a = int(input())\n",
        "n = 4\n",
        "\n",
        "b1 = a\n",
        "b2 = a*10 + a\n",
        "b3 = a*(10**2) + a*(10**1) + a * (10**0)\n",
        "b4 = a*(10**3) + a*(10**2) + a*(10**1) + a * (10**0)\n",
        "\n",
        "print(b1)\n",
        "print(b1)\n",
        "print(b3)\n",
        "print(b4)\n",
        "print(b1+b2+b3+b4)"
      ],
      "metadata": {
        "colab": {
          "base_uri": "https://localhost:8080/"
        },
        "id": "TjA4kKsXCuid",
        "outputId": "ec250f09-ff83-427d-f3fa-ddb23dac970d"
      },
      "execution_count": null,
      "outputs": [
        {
          "output_type": "stream",
          "name": "stdout",
          "text": [
            "9\n",
            "9\n",
            "9\n",
            "999\n",
            "9999\n",
            "11106\n"
          ]
        }
      ]
    },
    {
      "cell_type": "code",
      "source": [
        "# Solution 03\n",
        "a = int(input())\n",
        "b = 0\n",
        "c = 0\n",
        "n = 4\n",
        "\n",
        "for i in range(1,n+1):\n",
        "  b += a * (10**(i-1)) \n",
        "  # find the patterns by calculate the difference of two numbers\n",
        "  # use loop and b += a*(10**(i-1)) to calculate individual \"aaaa\"\n",
        "  # when i = 1, b1 =  0 + a * (10**(1-1)) = 9;\n",
        "  # when i = 2, b2 = b1 + a * (10**(2-1)) = 9 + 90 = 99;\n",
        "  # when i = 3, b3 = b2 + a * (10**(3-1)) = 99 + 900 = 999;\n",
        "  # when i = 4, b4 = b3 + a * (10**(4-1)) = 999+ 9000 = 9999.\n",
        "  print(\"b: {}\".format(b))\n",
        "  c += b\n",
        "  # use loop and c += b to calculate total of a + aa + aaa + aaaa.\n",
        "  # when i = 1, b1 = 9;    c1 =  0 + b1 = 0 + 9 = 9;\n",
        "  # when i = 2, b2 = 99;   c2 = c1 + b2 = 9 + 99 = 108;\n",
        "  # when i = 3, b3 = 999;  c3 = c2 + b3 = 108 + 999 = 1107;\n",
        "  # when i = 4, b4 = 9999; c4 = c3 + b4 = 9999 + 1107 = 11106.\n",
        "  print(\"c: {}\".format(c))\n",
        "\n",
        "print(\"Total: {}\".format(c))"
      ],
      "metadata": {
        "colab": {
          "base_uri": "https://localhost:8080/"
        },
        "id": "Jh3VAyecDu2V",
        "outputId": "a9cce2ae-397c-4d01-d580-8aff33ca48bc"
      },
      "execution_count": null,
      "outputs": [
        {
          "output_type": "stream",
          "name": "stdout",
          "text": [
            "9\n",
            "b: 9\n",
            "c: 9\n",
            "b: 99\n",
            "c: 108\n",
            "b: 999\n",
            "c: 1107\n",
            "b: 9999\n",
            "c: 11106\n",
            "Total: 11106\n"
          ]
        }
      ]
    },
    {
      "cell_type": "markdown",
      "source": [
        "Question 16\n",
        "\n",
        "Level 2\n",
        "\n",
        "Question: Use a list comprehension to square each odd number in a list. The list is input by a sequence of comma-separated numbers. Suppose the following input is supplied to the program: 1,2,3,4,5,6,7,8,9 Then, the output should be: 1,3,5,7,9\n",
        "\n",
        "Hints: In case of input data being supplied to the question, it should be assumed to be a console input."
      ],
      "metadata": {
        "id": "Oc0h--R6T9mS"
      }
    },
    {
      "cell_type": "code",
      "source": [
        "# Solution 02\n",
        "values = []\n",
        "items = [int(x) for x in input().split(',')]\n",
        "print(items)\n",
        "for p in items:\n",
        "  if int(p)%2 != 0:\n",
        "    values.append(p)\n",
        "# print(values)\n",
        "print(\",\".join(str(x) for x in values)) \n",
        "# as values are an array, join can not connecct them.\n",
        "# use for loop to loop through values array and then use str() to turn int to str."
      ],
      "metadata": {
        "colab": {
          "base_uri": "https://localhost:8080/"
        },
        "id": "oD3DalW6MZ0O",
        "outputId": "87a4cc76-6e14-4b03-edfc-0c2785857248"
      },
      "execution_count": null,
      "outputs": [
        {
          "output_type": "stream",
          "name": "stdout",
          "text": [
            "1,2,3,4,5,6,7,8,9\n",
            "[1, 2, 3, 4, 5, 6, 7, 8, 9]\n",
            "1,3,5,7,9\n"
          ]
        }
      ]
    },
    {
      "cell_type": "code",
      "source": [
        "# Solution 01\n",
        "values = input()\n",
        "numbers = [x for x in values.split(\",\") if int(x)%2!=0]\n",
        "print(numbers)\n",
        "print(\",\".join(numbers))"
      ],
      "metadata": {
        "colab": {
          "base_uri": "https://localhost:8080/"
        },
        "id": "TSjMBtlFUtjT",
        "outputId": "ec87b4b4-b2fe-4396-9bfd-fe75345d50e7"
      },
      "execution_count": null,
      "outputs": [
        {
          "output_type": "stream",
          "name": "stdout",
          "text": [
            "1,2,3,4,5,6,7,8,9\n",
            "['1', '3', '5', '7', '9']\n",
            "1,3,5,7,9\n"
          ]
        }
      ]
    },
    {
      "cell_type": "code",
      "source": [],
      "metadata": {
        "id": "xrJHsNKjV3hw"
      },
      "execution_count": null,
      "outputs": []
    },
    {
      "cell_type": "markdown",
      "source": [
        "Question 17\n",
        "\n",
        "Level 2\n",
        "\n",
        "Question: Write a program that computes the net amount of a bank account based a transaction log from console input. The transaction log format is shown as following: D 100 W 200\n",
        "\n",
        "D means deposit while W means withdrawal. Suppose the following input is supplied to the program: D 300 D 300 W 200 D 100 Then, the output should be: 500\n",
        "\n",
        "Hints: In case of input data being supplied to the question, it should be assumed to be a console input."
      ],
      "metadata": {
        "id": "CExIoe80uQ-C"
      }
    },
    {
      "cell_type": "code",
      "source": [
        "# dont understand\n",
        "netAmount = 0\n",
        "while True:\n",
        "    s = input()\n",
        "    if not s:\n",
        "        break\n",
        "    values = s.split(\" \")\n",
        "    operation = values[0]\n",
        "    amount = int(values[1])\n",
        "    if operation==\"D\":\n",
        "        netAmount+=amount\n",
        "    elif operation==\"W\":\n",
        "        netAmount-=amount\n",
        "    else:\n",
        "        pass\n",
        "print(netAmount)"
      ],
      "metadata": {
        "colab": {
          "base_uri": "https://localhost:8080/",
          "height": 392
        },
        "id": "a6omIsHSuRkX",
        "outputId": "6692b3d7-df23-4209-ba10-eae9178bacc0"
      },
      "execution_count": null,
      "outputs": [
        {
          "output_type": "error",
          "ename": "KeyboardInterrupt",
          "evalue": "ignored",
          "traceback": [
            "\u001b[0;31m---------------------------------------------------------------------------\u001b[0m",
            "\u001b[0;31mKeyboardInterrupt\u001b[0m                         Traceback (most recent call last)",
            "\u001b[0;32m<ipython-input-2-a388202991c3>\u001b[0m in \u001b[0;36m<module>\u001b[0;34m\u001b[0m\n\u001b[1;32m      2\u001b[0m \u001b[0mnetAmount\u001b[0m \u001b[0;34m=\u001b[0m \u001b[0;36m0\u001b[0m\u001b[0;34m\u001b[0m\u001b[0;34m\u001b[0m\u001b[0m\n\u001b[1;32m      3\u001b[0m \u001b[0;32mwhile\u001b[0m \u001b[0;32mTrue\u001b[0m\u001b[0;34m:\u001b[0m\u001b[0;34m\u001b[0m\u001b[0;34m\u001b[0m\u001b[0m\n\u001b[0;32m----> 4\u001b[0;31m     \u001b[0ms\u001b[0m \u001b[0;34m=\u001b[0m \u001b[0minput\u001b[0m\u001b[0;34m(\u001b[0m\u001b[0;34m)\u001b[0m\u001b[0;34m\u001b[0m\u001b[0;34m\u001b[0m\u001b[0m\n\u001b[0m\u001b[1;32m      5\u001b[0m     \u001b[0;32mif\u001b[0m \u001b[0;32mnot\u001b[0m \u001b[0ms\u001b[0m\u001b[0;34m:\u001b[0m\u001b[0;34m\u001b[0m\u001b[0;34m\u001b[0m\u001b[0m\n\u001b[1;32m      6\u001b[0m         \u001b[0;32mbreak\u001b[0m\u001b[0;34m\u001b[0m\u001b[0;34m\u001b[0m\u001b[0m\n",
            "\u001b[0;32m/usr/local/lib/python3.8/dist-packages/ipykernel/kernelbase.py\u001b[0m in \u001b[0;36mraw_input\u001b[0;34m(self, prompt)\u001b[0m\n\u001b[1;32m    858\u001b[0m                 \u001b[0;34m\"raw_input was called, but this frontend does not support input requests.\"\u001b[0m\u001b[0;34m\u001b[0m\u001b[0;34m\u001b[0m\u001b[0m\n\u001b[1;32m    859\u001b[0m             )\n\u001b[0;32m--> 860\u001b[0;31m         return self._input_request(str(prompt),\n\u001b[0m\u001b[1;32m    861\u001b[0m             \u001b[0mself\u001b[0m\u001b[0;34m.\u001b[0m\u001b[0m_parent_ident\u001b[0m\u001b[0;34m,\u001b[0m\u001b[0;34m\u001b[0m\u001b[0;34m\u001b[0m\u001b[0m\n\u001b[1;32m    862\u001b[0m             \u001b[0mself\u001b[0m\u001b[0;34m.\u001b[0m\u001b[0m_parent_header\u001b[0m\u001b[0;34m,\u001b[0m\u001b[0;34m\u001b[0m\u001b[0;34m\u001b[0m\u001b[0m\n",
            "\u001b[0;32m/usr/local/lib/python3.8/dist-packages/ipykernel/kernelbase.py\u001b[0m in \u001b[0;36m_input_request\u001b[0;34m(self, prompt, ident, parent, password)\u001b[0m\n\u001b[1;32m    902\u001b[0m             \u001b[0;32mexcept\u001b[0m \u001b[0mKeyboardInterrupt\u001b[0m\u001b[0;34m:\u001b[0m\u001b[0;34m\u001b[0m\u001b[0;34m\u001b[0m\u001b[0m\n\u001b[1;32m    903\u001b[0m                 \u001b[0;31m# re-raise KeyboardInterrupt, to truncate traceback\u001b[0m\u001b[0;34m\u001b[0m\u001b[0;34m\u001b[0m\u001b[0;34m\u001b[0m\u001b[0m\n\u001b[0;32m--> 904\u001b[0;31m                 \u001b[0;32mraise\u001b[0m \u001b[0mKeyboardInterrupt\u001b[0m\u001b[0;34m(\u001b[0m\u001b[0;34m\"Interrupted by user\"\u001b[0m\u001b[0;34m)\u001b[0m \u001b[0;32mfrom\u001b[0m \u001b[0;32mNone\u001b[0m\u001b[0;34m\u001b[0m\u001b[0;34m\u001b[0m\u001b[0m\n\u001b[0m\u001b[1;32m    905\u001b[0m             \u001b[0;32mexcept\u001b[0m \u001b[0mException\u001b[0m \u001b[0;32mas\u001b[0m \u001b[0me\u001b[0m\u001b[0;34m:\u001b[0m\u001b[0;34m\u001b[0m\u001b[0;34m\u001b[0m\u001b[0m\n\u001b[1;32m    906\u001b[0m                 \u001b[0mself\u001b[0m\u001b[0;34m.\u001b[0m\u001b[0mlog\u001b[0m\u001b[0;34m.\u001b[0m\u001b[0mwarning\u001b[0m\u001b[0;34m(\u001b[0m\u001b[0;34m\"Invalid Message:\"\u001b[0m\u001b[0;34m,\u001b[0m \u001b[0mexc_info\u001b[0m\u001b[0;34m=\u001b[0m\u001b[0;32mTrue\u001b[0m\u001b[0;34m)\u001b[0m\u001b[0;34m\u001b[0m\u001b[0;34m\u001b[0m\u001b[0m\n",
            "\u001b[0;31mKeyboardInterrupt\u001b[0m: Interrupted by user"
          ]
        }
      ]
    },
    {
      "cell_type": "markdown",
      "source": [
        "Question 18\n",
        "\n",
        "Level 3\n",
        "\n",
        "Question: A website requires the users to input username and password to register. Write a program to check the validity of password input by users. Following are the criteria for checking the password:\n",
        "\n",
        "At least 1 letter between [a-z]\n",
        "At least 1 number between [0-9]\n",
        "At least 1 letter between [A-Z]\n",
        "At least 1 character from [$#@]\n",
        "Minimum length of transaction password: 6\n",
        "Maximum length of transaction password: 12 Your program should accept a sequence of comma separated passwords and will check them according to the above criteria. Passwords that match the criteria are to be printed, each separated by a comma. Example If the following passwords are given as input to the program: ABd1234@1,a F1#,2w3E*,2We3345 Then, the output of the program should be: ABd1234@1\n",
        "Hints: In case of input data being supplied to the question, it should be assumed to be a console input."
      ],
      "metadata": {
        "id": "p57ghdO8vTg6"
      }
    },
    {
      "cell_type": "code",
      "source": [
        "import re\n",
        "pwd = (x for x in input().split(',')) \n",
        "# manual input() would need split with comma\n",
        "value = []\n",
        "\n",
        "for p in pwd:\n",
        "  if len(p) >= 6 and len(p) <= 12:\n",
        "    # check is p length is less than 6 or more than 12;\n",
        "    # if so,continue to the next line\n",
        "    # if not, pass the whole loop\n",
        "    pass \n",
        "    # \"pass\": the execution would be passed to other codes. \n",
        "  else:\n",
        "    continue\n",
        "    # \"continue\": to skip the execution of other codes.\n",
        "  \n",
        "  if not re.search(\"[a-z]\",p): \n",
        "    # use re.search(\"[a-z]\",x) to search if, within x, there are a-z;\n",
        "    # if not, skip this step to move onto next step\n",
        "    continue\n",
        "  elif not re.search(\"[A-Z]\",p):\n",
        "    # use re.search(\"[A-Z]\",x) to search if, within x, there are A-Z;\n",
        "    # if not, skip this step to move on to the next step\n",
        "    continue\n",
        "  elif not re.search(\"[1-9]\",p):\n",
        "    # use re.search(\"[1-9]\",x) to search if, within x, there are 1-9;\n",
        "    # if not, skip this step to move on to the next step\n",
        "    continue\n",
        "  elif not re.search(\"[$#@]\",p):\n",
        "    # use re.search(\"[$#@]\",x) to search if, within x, there are signs;\n",
        "    # if not, skip this step to move one to the next step\n",
        "    continue\n",
        "  elif re.search(\"\\s\",p):\n",
        "    continue\n",
        "  else:\n",
        "    pass\n",
        "  value.append(p)\n",
        "\n",
        "\n",
        "print(\",\".join(value)) # to print the password separated by comma"
      ],
      "metadata": {
        "colab": {
          "base_uri": "https://localhost:8080/"
        },
        "id": "dE3MDlNKu2Pw",
        "outputId": "9eae7c11-59fc-4e63-c561-f37812a03572"
      },
      "execution_count": null,
      "outputs": [
        {
          "output_type": "stream",
          "name": "stdout",
          "text": [
            "ABd1234@1,a F1#,2w3E*,2We3345\n",
            "ABd1234@1\n"
          ]
        }
      ]
    },
    {
      "cell_type": "markdown",
      "source": [
        "Question 19 comments:\n",
        "PASS VS. CONTINUE IN PYTHON EXPLAINED\n",
        "\n",
        "**Break:** A break statement in Python alters the flow of a loop by terminating it once a specified condition is met.\n",
        "\n",
        "**Continue:** The continue statement in Python is used to skip the remaining code inside a loop for the current iteration only.\n",
        "\n",
        "**Pass:** The pass statement in Python is used when a statement or a condition is required to be present in the program, but we don’t want any command or code to execute. It’s typically used as a placeholder for future code."
      ],
      "metadata": {
        "id": "ztkeXuh043ei"
      }
    },
    {
      "cell_type": "markdown",
      "source": [
        "Question 19\n",
        "\n",
        "Level 3\n",
        "\n",
        "Question: You are required to write a program to sort the (name, age, height) tuples by ascending order where name is string, age and height are numbers. The tuples are input by console. The sort criteria is: 1: Sort based on name; 2: Then sort based on age; 3: Then sort by score. The priority is that name > age > score. If the following tuples are given as input to the program: Tom,19,80 John,20,90 Jony,17,91 Jony,17,93 Json,21,85 Then, the output of the program should be: [('John', '20', '90'), ('Jony', '17', '91'), ('Jony', '17', '93'), ('Json', '21', '85'), ('Tom', '19', '80')]\n",
        "\n",
        "Hints: In case of input data being supplied to the question, it should be assumed to be a console input. We use itemgetter to enable multiple sort keys."
      ],
      "metadata": {
        "id": "VpYDDnCj8YUy"
      }
    },
    {
      "cell_type": "code",
      "source": [
        "# dont understand. the code cannot be executed.\n",
        "names = []\n",
        "while True:\n",
        "  s = input().split(',')\n",
        "  if not s:\n",
        "    break\n",
        "  names.append(tuple(s))\n",
        "\n",
        "print(sorted(names, key=itemgetter(0,1,2)))\n"
      ],
      "metadata": {
        "colab": {
          "base_uri": "https://localhost:8080/",
          "height": 494
        },
        "id": "bPf5ryaHxlYo",
        "outputId": "fc4285f1-7846-4f3e-d6c1-9dcc2a412202"
      },
      "execution_count": null,
      "outputs": [
        {
          "name": "stdout",
          "output_type": "stream",
          "text": [
            "Tom,19,80\n",
            "John,20,90\n",
            "John,20,90\n",
            "Jony,17,93\n",
            "Json,21,85\n",
            "\n"
          ]
        },
        {
          "output_type": "error",
          "ename": "KeyboardInterrupt",
          "evalue": "ignored",
          "traceback": [
            "\u001b[0;31m---------------------------------------------------------------------------\u001b[0m",
            "\u001b[0;31mKeyboardInterrupt\u001b[0m                         Traceback (most recent call last)",
            "\u001b[0;32m<ipython-input-3-6faf47efe4a1>\u001b[0m in \u001b[0;36m<module>\u001b[0;34m\u001b[0m\n\u001b[1;32m      1\u001b[0m \u001b[0mnames\u001b[0m \u001b[0;34m=\u001b[0m \u001b[0;34m[\u001b[0m\u001b[0;34m]\u001b[0m\u001b[0;34m\u001b[0m\u001b[0;34m\u001b[0m\u001b[0m\n\u001b[1;32m      2\u001b[0m \u001b[0;32mwhile\u001b[0m \u001b[0;32mTrue\u001b[0m\u001b[0;34m:\u001b[0m\u001b[0;34m\u001b[0m\u001b[0;34m\u001b[0m\u001b[0m\n\u001b[0;32m----> 3\u001b[0;31m   \u001b[0ms\u001b[0m \u001b[0;34m=\u001b[0m \u001b[0minput\u001b[0m\u001b[0;34m(\u001b[0m\u001b[0;34m)\u001b[0m\u001b[0;34m.\u001b[0m\u001b[0msplit\u001b[0m\u001b[0;34m(\u001b[0m\u001b[0;34m','\u001b[0m\u001b[0;34m)\u001b[0m\u001b[0;34m\u001b[0m\u001b[0;34m\u001b[0m\u001b[0m\n\u001b[0m\u001b[1;32m      4\u001b[0m   \u001b[0;32mif\u001b[0m \u001b[0;32mnot\u001b[0m \u001b[0ms\u001b[0m\u001b[0;34m:\u001b[0m\u001b[0;34m\u001b[0m\u001b[0;34m\u001b[0m\u001b[0m\n\u001b[1;32m      5\u001b[0m     \u001b[0;32mbreak\u001b[0m\u001b[0;34m\u001b[0m\u001b[0;34m\u001b[0m\u001b[0m\n",
            "\u001b[0;32m/usr/local/lib/python3.8/dist-packages/ipykernel/kernelbase.py\u001b[0m in \u001b[0;36mraw_input\u001b[0;34m(self, prompt)\u001b[0m\n\u001b[1;32m    858\u001b[0m                 \u001b[0;34m\"raw_input was called, but this frontend does not support input requests.\"\u001b[0m\u001b[0;34m\u001b[0m\u001b[0;34m\u001b[0m\u001b[0m\n\u001b[1;32m    859\u001b[0m             )\n\u001b[0;32m--> 860\u001b[0;31m         return self._input_request(str(prompt),\n\u001b[0m\u001b[1;32m    861\u001b[0m             \u001b[0mself\u001b[0m\u001b[0;34m.\u001b[0m\u001b[0m_parent_ident\u001b[0m\u001b[0;34m,\u001b[0m\u001b[0;34m\u001b[0m\u001b[0;34m\u001b[0m\u001b[0m\n\u001b[1;32m    862\u001b[0m             \u001b[0mself\u001b[0m\u001b[0;34m.\u001b[0m\u001b[0m_parent_header\u001b[0m\u001b[0;34m,\u001b[0m\u001b[0;34m\u001b[0m\u001b[0;34m\u001b[0m\u001b[0m\n",
            "\u001b[0;32m/usr/local/lib/python3.8/dist-packages/ipykernel/kernelbase.py\u001b[0m in \u001b[0;36m_input_request\u001b[0;34m(self, prompt, ident, parent, password)\u001b[0m\n\u001b[1;32m    902\u001b[0m             \u001b[0;32mexcept\u001b[0m \u001b[0mKeyboardInterrupt\u001b[0m\u001b[0;34m:\u001b[0m\u001b[0;34m\u001b[0m\u001b[0;34m\u001b[0m\u001b[0m\n\u001b[1;32m    903\u001b[0m                 \u001b[0;31m# re-raise KeyboardInterrupt, to truncate traceback\u001b[0m\u001b[0;34m\u001b[0m\u001b[0;34m\u001b[0m\u001b[0;34m\u001b[0m\u001b[0m\n\u001b[0;32m--> 904\u001b[0;31m                 \u001b[0;32mraise\u001b[0m \u001b[0mKeyboardInterrupt\u001b[0m\u001b[0;34m(\u001b[0m\u001b[0;34m\"Interrupted by user\"\u001b[0m\u001b[0;34m)\u001b[0m \u001b[0;32mfrom\u001b[0m \u001b[0;32mNone\u001b[0m\u001b[0;34m\u001b[0m\u001b[0;34m\u001b[0m\u001b[0m\n\u001b[0m\u001b[1;32m    905\u001b[0m             \u001b[0;32mexcept\u001b[0m \u001b[0mException\u001b[0m \u001b[0;32mas\u001b[0m \u001b[0me\u001b[0m\u001b[0;34m:\u001b[0m\u001b[0;34m\u001b[0m\u001b[0;34m\u001b[0m\u001b[0m\n\u001b[1;32m    906\u001b[0m                 \u001b[0mself\u001b[0m\u001b[0;34m.\u001b[0m\u001b[0mlog\u001b[0m\u001b[0;34m.\u001b[0m\u001b[0mwarning\u001b[0m\u001b[0;34m(\u001b[0m\u001b[0;34m\"Invalid Message:\"\u001b[0m\u001b[0;34m,\u001b[0m \u001b[0mexc_info\u001b[0m\u001b[0;34m=\u001b[0m\u001b[0;32mTrue\u001b[0m\u001b[0;34m)\u001b[0m\u001b[0;34m\u001b[0m\u001b[0;34m\u001b[0m\u001b[0m\n",
            "\u001b[0;31mKeyboardInterrupt\u001b[0m: Interrupted by user"
          ]
        }
      ]
    },
    {
      "cell_type": "markdown",
      "source": [
        "Question 20\n",
        "\n",
        "Level 3\n",
        "\n",
        "Question: Define a class with a generator which can iterate the numbers, which are divisible by 7, between a given range 0 and n.\n",
        "\n",
        "Hints: Consider use yield"
      ],
      "metadata": {
        "id": "zS_VZG0rBIqe"
      }
    },
    {
      "cell_type": "code",
      "source": [
        "# Nothing happened when the code is executed.\n",
        "def putNumbers(n):\n",
        "  i = 0\n",
        "  while i<n:\n",
        "    j=i\n",
        "    i=i+1\n",
        "    if j%7==0:\n",
        "      yield j\n",
        "      print(j)"
      ],
      "metadata": {
        "id": "XAfVZM5sBMuz"
      },
      "execution_count": null,
      "outputs": []
    },
    {
      "cell_type": "markdown",
      "source": [
        "### What is generator?\n",
        "Introduced with PEP 255, generator functions are a special kind of function that return a lazy iterator. These are objects that you can loop over like a list. However, unlike lists, lazy iterators do not store their contents in memory. \n",
        "\n",
        "### Yield vs. Return\n",
        "When the Python yield statement is hit, the program suspends function execution and returns the yielded value to the caller. (In contrast, return stops function execution completely.) When a function is suspended, the state of that function is saved. This includes any variable bindings local to the generator, the instruction pointer, the internal stack, and any exception handling.\n",
        "\n",
        "This allows you to resume function execution whenever you call one of the generator’s methods. In this way, all function evaluation picks back up right after yield. "
      ],
      "metadata": {
        "id": "zqtcFUGDDQY5"
      }
    },
    {
      "cell_type": "markdown",
      "source": [
        "# Question 21\n",
        "\n",
        "Level 3\n",
        "\n",
        "Question A robot moves in a plane starting from the original point (0,0). The robot can move toward UP, DOWN, LEFT and RIGHT with a given steps. The trace of robot movement is shown as the following: UP 5 DOWN 3 LEFT 3 RIGHT 2 ¡­ The numbers after the direction are steps. Please write a program to compute the distance from current position after a sequence of movement and original point. If the distance is a float, then just print the nearest integer. Example: If the following tuples are given as input to the program: UP 5 DOWN 3 LEFT 3 RIGHT 2 Then, the output of the program should be: 2\n",
        "\n",
        "Hints: In case of input data being supplied to the question, it should be assumed to be a console input."
      ],
      "metadata": {
        "id": "jAfDbl3ZFII1"
      }
    },
    {
      "cell_type": "code",
      "source": [
        "### Standard Solution:\n",
        "# use tuple to calculate movements\n",
        "import math # use math module to calculate square root;\n",
        "pos = [0,0] # locate the original location;\n",
        "while True: # this while loop will run forever without break;\n",
        "    s = input()\n",
        "    if not s:\n",
        "        break # this break will end the while loop;\n",
        "    movement = s.split(\" \") # create a tuple;\n",
        "    direction = movement[0] # allocate tuple name;\n",
        "    steps = int(movement[1]) # allocate tuple value;\n",
        "    if direction==\"UP\": # check tuple first column;\n",
        "        pos[0]+=steps # calculate tuple second column value;\n",
        "    elif direction==\"DOWN\": \n",
        "        pos[0]-=steps\n",
        "    elif direction==\"LEFT\":\n",
        "        pos[1]-=steps\n",
        "    elif direction==\"RIGHT\":\n",
        "        pos[1]+=steps\n",
        "    else:\n",
        "        pass # Pass is part of while True loop.\n",
        "\n",
        "print(int(round(math.sqrt(pos[1]**2+pos[0]**2))))\n",
        "# use gogoo Therom to calculate the distance."
      ],
      "metadata": {
        "colab": {
          "base_uri": "https://localhost:8080/"
        },
        "id": "TZ2GwLLuBxYz",
        "outputId": "3067ea8c-253f-42d6-f5d0-a925f748e5e5"
      },
      "execution_count": null,
      "outputs": [
        {
          "output_type": "stream",
          "name": "stdout",
          "text": [
            "UP 5\n",
            "DOWN 3\n",
            "LEFT 3\n",
            "RIGHT 2\n",
            "\n",
            "2\n"
          ]
        }
      ]
    },
    {
      "cell_type": "markdown",
      "source": [
        "## Tuple index\n",
        "Tuple items are ordered, unchangeable, and allow duplicate values.\n",
        "\n",
        "Tuple items are indexed, the first item has index [0], the second item has index [1] etc."
      ],
      "metadata": {
        "id": "9HTGYndYJxMi"
      }
    },
    {
      "cell_type": "markdown",
      "source": [
        "# Question 22\n",
        "\n",
        "Level 3\n",
        "\n",
        "Question: Write a program to compute the frequency of the words from the input. The output should output after sorting the key alphanumerically. Suppose the following input is supplied to the program: New to Python or choosing between Python 2 and Python 3? Read Python 2 or Python 3. Then, the output should be: 2:2 3.:1 3?:1 New:1 Python:5 Read:1 and:1 between:1 choosing:1 or:2 to:1\n",
        "\n",
        "Hints In case of input data being supplied to the question, it should be assumed to be a console input."
      ],
      "metadata": {
        "id": "ILdHfqapKoB7"
      }
    },
    {
      "cell_type": "code",
      "source": [
        "### Standard Solution:\n",
        "\n",
        "freq = {}   # create a dictionary\n",
        "line = input().split() # take inputs\n",
        "for word in line: #loop all the word in line\n",
        "    freq[word] = freq.get(word,0)+1\n",
        "    # use .get() to count the number of word\n",
        "    ### remember first; dont really understand this apoproach;\n",
        "    print(freq)\n",
        "\n",
        "words = freq.keys() # count the number of keys in the dictionary\n",
        "print(words)\n",
        "print(type(words))\n",
        "# words.sort()\n",
        "\n",
        "for w in words:\n",
        "    print(\"%s:%d\" % (w,freq[w]))"
      ],
      "metadata": {
        "colab": {
          "base_uri": "https://localhost:8080/"
        },
        "id": "Sb500qq0KsGZ",
        "outputId": "3304ce7f-700b-449c-e27a-24c15cee61f7"
      },
      "execution_count": null,
      "outputs": [
        {
          "output_type": "stream",
          "name": "stdout",
          "text": [
            "New to Python or choosing between Python 2 and Python 3? Read Python 2 or Python 3\n",
            "{'New': 1}\n",
            "{'New': 1, 'to': 1}\n",
            "{'New': 1, 'to': 1, 'Python': 1}\n",
            "{'New': 1, 'to': 1, 'Python': 1, 'or': 1}\n",
            "{'New': 1, 'to': 1, 'Python': 1, 'or': 1, 'choosing': 1}\n",
            "{'New': 1, 'to': 1, 'Python': 1, 'or': 1, 'choosing': 1, 'between': 1}\n",
            "{'New': 1, 'to': 1, 'Python': 2, 'or': 1, 'choosing': 1, 'between': 1}\n",
            "{'New': 1, 'to': 1, 'Python': 2, 'or': 1, 'choosing': 1, 'between': 1, '2': 1}\n",
            "{'New': 1, 'to': 1, 'Python': 2, 'or': 1, 'choosing': 1, 'between': 1, '2': 1, 'and': 1}\n",
            "{'New': 1, 'to': 1, 'Python': 3, 'or': 1, 'choosing': 1, 'between': 1, '2': 1, 'and': 1}\n",
            "{'New': 1, 'to': 1, 'Python': 3, 'or': 1, 'choosing': 1, 'between': 1, '2': 1, 'and': 1, '3?': 1}\n",
            "{'New': 1, 'to': 1, 'Python': 3, 'or': 1, 'choosing': 1, 'between': 1, '2': 1, 'and': 1, '3?': 1, 'Read': 1}\n",
            "{'New': 1, 'to': 1, 'Python': 4, 'or': 1, 'choosing': 1, 'between': 1, '2': 1, 'and': 1, '3?': 1, 'Read': 1}\n",
            "{'New': 1, 'to': 1, 'Python': 4, 'or': 1, 'choosing': 1, 'between': 1, '2': 2, 'and': 1, '3?': 1, 'Read': 1}\n",
            "{'New': 1, 'to': 1, 'Python': 4, 'or': 2, 'choosing': 1, 'between': 1, '2': 2, 'and': 1, '3?': 1, 'Read': 1}\n",
            "{'New': 1, 'to': 1, 'Python': 5, 'or': 2, 'choosing': 1, 'between': 1, '2': 2, 'and': 1, '3?': 1, 'Read': 1}\n",
            "{'New': 1, 'to': 1, 'Python': 5, 'or': 2, 'choosing': 1, 'between': 1, '2': 2, 'and': 1, '3?': 1, 'Read': 1, '3': 1}\n",
            "dict_keys(['New', 'to', 'Python', 'or', 'choosing', 'between', '2', 'and', '3?', 'Read', '3'])\n",
            "<class 'dict_keys'>\n",
            "New:1\n",
            "to:1\n",
            "Python:5\n",
            "or:2\n",
            "choosing:1\n",
            "between:1\n",
            "2:2\n",
            "and:1\n",
            "3?:1\n",
            "Read:1\n",
            "3:1\n"
          ]
        }
      ]
    },
    {
      "cell_type": "markdown",
      "source": [
        "# Question 23\n",
        "\n",
        "level 1\n",
        "\n",
        "Question: Write a method which can calculate square value of number\n",
        "\n",
        "Hints: Using the ** operator"
      ],
      "metadata": {
        "id": "SJ8b3XgJPvFV"
      }
    },
    {
      "cell_type": "code",
      "source": [
        "# Solution 1\n",
        "def square(x):\n",
        "  return int(x)**2\n",
        "\n",
        "print(square(input()))"
      ],
      "metadata": {
        "colab": {
          "base_uri": "https://localhost:8080/"
        },
        "id": "v4XafZ2XNEVx",
        "outputId": "eb6a51ca-4328-4b98-831e-0c7a4aa3e357"
      },
      "execution_count": null,
      "outputs": [
        {
          "output_type": "stream",
          "name": "stdout",
          "text": [
            "15\n",
            "225\n"
          ]
        }
      ]
    },
    {
      "cell_type": "code",
      "source": [
        "# Solution 2:\n",
        "\n",
        "def square(num):\n",
        "    return num ** 2\n",
        "\n",
        "print(square(2))\n",
        "print(square(3))"
      ],
      "metadata": {
        "id": "gHNx3hGGQZmV"
      },
      "execution_count": null,
      "outputs": []
    },
    {
      "cell_type": "markdown",
      "source": [
        "# Question 24\n",
        "\n",
        "Level 1\n",
        "\n",
        "Question:\n",
        "\n",
        "Python has many built-in functions, and if you do not know how to use it, you can read document online or find some books. But Python has a built-in document function for every built-in functions.\n",
        "\n",
        "Please write a program to print some Python built-in functions documents, such as abs(), int(), raw_input()\n",
        "\n",
        "And add document for your own function Hints: The built-in document method is doc"
      ],
      "metadata": {
        "id": "wCtdwqjOQji9"
      }
    },
    {
      "cell_type": "code",
      "source": [
        "# Standard Solution:\n",
        "# the built-in document method ._doc_\n",
        "\n",
        "print(abs.__doc__)\n",
        "print(int.__doc__)\n",
        "print(input.__doc__)\n",
        "\n",
        "def square(num):\n",
        "    '''Return the square value of the input number.\n",
        "    \n",
        "    The input number must be integer.\n",
        "    '''\n",
        "    return num ** 2\n",
        "\n",
        "print(square(2))\n",
        "print(square.__doc__)"
      ],
      "metadata": {
        "colab": {
          "base_uri": "https://localhost:8080/"
        },
        "id": "q15VqVmgQDGK",
        "outputId": "d66a771d-c59d-4736-9935-b3bfde3956e9"
      },
      "execution_count": null,
      "outputs": [
        {
          "output_type": "stream",
          "name": "stdout",
          "text": [
            "Return the absolute value of the argument.\n",
            "int([x]) -> integer\n",
            "int(x, base=10) -> integer\n",
            "\n",
            "Convert a number or string to an integer, or return 0 if no arguments\n",
            "are given.  If x is a number, return x.__int__().  For floating point\n",
            "numbers, this truncates towards zero.\n",
            "\n",
            "If x is not a number or if base is given, then x must be a string,\n",
            "bytes, or bytearray instance representing an integer literal in the\n",
            "given base.  The literal can be preceded by '+' or '-' and be surrounded\n",
            "by whitespace.  The base defaults to 10.  Valid bases are 0 and 2-36.\n",
            "Base 0 means to interpret the base from the string as an integer literal.\n",
            ">>> int('0b100', base=0)\n",
            "4\n",
            "Forward raw_input to frontends\n",
            "\n",
            "        Raises\n",
            "        ------\n",
            "        StdinNotImplentedError if active frontend doesn't support stdin.\n",
            "        \n",
            "4\n",
            "Return the square value of the input number.\n",
            "    \n",
            "    The input number must be integer.\n",
            "    \n"
          ]
        }
      ]
    },
    {
      "cell_type": "code",
      "source": [
        "# Slolution:\n",
        "\n",
        "def square(x):\n",
        "  return x**2\n",
        "\n",
        "print(square.__doc__)"
      ],
      "metadata": {
        "colab": {
          "base_uri": "https://localhost:8080/"
        },
        "id": "QxymNBaMRKX7",
        "outputId": "fea7515c-759e-46c0-db2d-26c5a1412471"
      },
      "execution_count": null,
      "outputs": [
        {
          "output_type": "stream",
          "name": "stdout",
          "text": [
            "None\n"
          ]
        }
      ]
    },
    {
      "cell_type": "code",
      "source": [
        "# .__doc__ explanation\n",
        "The signs beside doc are two underscore signs."
      ],
      "metadata": {
        "id": "nuVTOig2RbYY"
      },
      "execution_count": null,
      "outputs": []
    },
    {
      "cell_type": "markdown",
      "source": [
        "# Question 26:\n",
        "\n",
        "Define a function which can compute the sum of two numbers.\n",
        "\n",
        "Hints: Define a function with two numbers as arguments. You can compute the sum in the function and return the value."
      ],
      "metadata": {
        "id": "QlzqbNONSA24"
      }
    },
    {
      "cell_type": "code",
      "source": [
        "def sum(x, y):\n",
        "  return x + y\n",
        "print(sum(44,44))"
      ],
      "metadata": {
        "colab": {
          "base_uri": "https://localhost:8080/"
        },
        "id": "z80oLGstSTtA",
        "outputId": "23ffc276-bd0a-4543-acc5-4fe796385723"
      },
      "execution_count": null,
      "outputs": [
        {
          "output_type": "stream",
          "name": "stdout",
          "text": [
            "88\n"
          ]
        }
      ]
    },
    {
      "cell_type": "markdown",
      "source": [
        "# Question 27\n",
        "\n",
        "Define a function that can convert a integer into a string and print it in console.\n",
        "\n",
        "Hints:\n",
        "\n",
        "Use str() to convert a number to string.\n",
        "\n"
      ],
      "metadata": {
        "id": "t2iRAEjbSkPq"
      }
    },
    {
      "cell_type": "code",
      "source": [
        "# Solution 1:\n",
        "def int_to_str(x):\n",
        "  return str(x)\n",
        "\n",
        "y = int_to_str(10)\n",
        "print(y)\n",
        "print(type(y))"
      ],
      "metadata": {
        "colab": {
          "base_uri": "https://localhost:8080/"
        },
        "id": "Z6N5SsCmSfVf",
        "outputId": "3f07730c-f81d-446f-db55-5c1a1f908809"
      },
      "execution_count": null,
      "outputs": [
        {
          "output_type": "stream",
          "name": "stdout",
          "text": [
            "10\n",
            "<class 'str'>\n"
          ]
        }
      ]
    },
    {
      "cell_type": "code",
      "source": [
        "# Standard Solution:\n",
        "\n",
        "def printValue(n):\n",
        "    print(str(n))\n",
        "\n",
        "printValue(3)"
      ],
      "metadata": {
        "id": "gw0BlnkKSzLI"
      },
      "execution_count": null,
      "outputs": []
    },
    {
      "cell_type": "markdown",
      "source": [
        "# Question 29\n",
        "\n",
        "Define a function that can receive two integral numbers in string form and compute their sum and then print it in console.\n",
        "\n",
        "Hints:\n",
        "\n",
        "Use int() to convert a string to integer."
      ],
      "metadata": {
        "id": "gLpTUa50TEqu"
      }
    },
    {
      "cell_type": "code",
      "source": [
        "def convert(x,y):\n",
        "  print(int(x)+int(y))\n",
        "\n",
        "print(convert(\"3\",\"4\"))"
      ],
      "metadata": {
        "colab": {
          "base_uri": "https://localhost:8080/"
        },
        "id": "ESaFjJhgTHMg",
        "outputId": "f0ae9646-1831-4d45-f799-abdf98fe1f3a"
      },
      "execution_count": null,
      "outputs": [
        {
          "output_type": "stream",
          "name": "stdout",
          "text": [
            "7\n",
            "None\n"
          ]
        }
      ]
    },
    {
      "cell_type": "markdown",
      "source": [
        "# Question 30\n",
        "\n",
        "Define a function that can accept two strings as input and concatenate them and then print it in console.\n",
        "\n",
        "Hints:\n",
        "\n",
        "Use + to concatenate the strings"
      ],
      "metadata": {
        "id": "No-vQeBJTzix"
      }
    },
    {
      "cell_type": "code",
      "source": [
        "def con(x,y):\n",
        "  print(x+y)\n",
        "\n",
        "con(\"God's\", \" Help\")"
      ],
      "metadata": {
        "colab": {
          "base_uri": "https://localhost:8080/"
        },
        "id": "rlDHxOkSTtZS",
        "outputId": "dd6d1a3d-1518-47dd-be22-428191707652"
      },
      "execution_count": null,
      "outputs": [
        {
          "output_type": "stream",
          "name": "stdout",
          "text": [
            "God's Help\n"
          ]
        }
      ]
    },
    {
      "cell_type": "markdown",
      "source": [
        "# Question 31\n",
        "\n",
        "Define a function that can accept two strings as input and print the string with maximum length in console. If two strings have the same length, then the function should print al l strings line by line.\n",
        "\n",
        "Hints:\n",
        "\n",
        "Use len() function to get the length of a string"
      ],
      "metadata": {
        "id": "mqoT_EqvUXv1"
      }
    },
    {
      "cell_type": "code",
      "source": [
        "s1 = input(\"Enter s1:\",)\n",
        "s2 = input(\"Enter s2:\",)\n",
        "\n",
        "def ComV(x, y):\n",
        "  if len(x) > len(y):\n",
        "    print(x)\n",
        "  elif len(x)< len(y):\n",
        "    print(y)\n",
        "  else:\n",
        "    print(x)\n",
        "    print(y)\n",
        "\n",
        "ComV(s1,s2)\n",
        "\n",
        "  "
      ],
      "metadata": {
        "colab": {
          "base_uri": "https://localhost:8080/"
        },
        "id": "TnUP1MrqUSlL",
        "outputId": "26199fa2-6f73-47e3-e78a-f6e3d9b8cfe6"
      },
      "execution_count": null,
      "outputs": [
        {
          "output_type": "stream",
          "name": "stdout",
          "text": [
            "Enter s1:God's\n",
            "Enter s2:help\n",
            "God's\n"
          ]
        }
      ]
    },
    {
      "cell_type": "markdown",
      "source": [
        "# Question 32\n",
        "\n",
        "Define a function that can accept an integer number as input and print the \"It is an even number\" if the number is even, otherwise print \"It is an odd number\".\n",
        "\n",
        "Hints:\n",
        "\n",
        "Use % operator to check if a number is even or odd."
      ],
      "metadata": {
        "id": "FGKBFKYcTAt6"
      }
    },
    {
      "cell_type": "code",
      "source": [
        "# Solution:\n",
        "\n",
        "def f(x): \n",
        "  # When defining the function, there is no need to add in input()\n",
        "  # you can add in input() to replace x in f(x)\n",
        "  if x%2 == 0:\n",
        "    print(\"This is an even number\")\n",
        "  else:\n",
        "    print(\"This is an odd number\")\n",
        "\n",
        "n = int(input())\n",
        "f(n)"
      ],
      "metadata": {
        "colab": {
          "base_uri": "https://localhost:8080/"
        },
        "id": "cyY_pEXAU_wj",
        "outputId": "c71a603c-47f8-4bce-ab1d-9a066ba53e8a"
      },
      "execution_count": null,
      "outputs": [
        {
          "output_type": "stream",
          "name": "stdout",
          "text": [
            "90\n",
            "This is an even number\n"
          ]
        }
      ]
    },
    {
      "cell_type": "markdown",
      "source": [
        "# Question 33\n",
        "\n",
        "Define a function which can print a dictionary where the keys are numbers between 1 and 3 (both included) and the values are square of keys.\n",
        "\n",
        "Hints:\n",
        "\n",
        "Use dict[key]=value pattern to put entry into a dictionary.\n",
        "\n",
        "Use ** operator to get power of a number.\n"
      ],
      "metadata": {
        "id": "o5SFtPMTUhOK"
      }
    },
    {
      "cell_type": "code",
      "source": [
        "# Solution:\n",
        "def PDict():\n",
        "  d = dict() # create a dictionary\n",
        "  d[1] = 1\n",
        "  d[2] = 2**2\n",
        "  d[3] = 3**2\n",
        "  print(d)\n",
        "\n",
        "PDict()"
      ],
      "metadata": {
        "colab": {
          "base_uri": "https://localhost:8080/"
        },
        "id": "ezXa2Lc_Tpsm",
        "outputId": "8dc10c94-de8e-44d3-8bb5-85fa3170cbff"
      },
      "execution_count": null,
      "outputs": [
        {
          "output_type": "stream",
          "name": "stdout",
          "text": [
            "{1: 1, 2: 4, 3: 9}\n"
          ]
        }
      ]
    },
    {
      "cell_type": "code",
      "source": [
        "# one further solution\n",
        "# generate any dictionary object\n",
        "\n",
        "def Pdict():\n",
        "  n = int(input())\n",
        "  d = dict() #create a dictionary\n",
        "  for i in range(1,n+1):\n",
        "    d[i] = i**2\n",
        "  print(d)\n",
        "\n",
        "Pdict()  "
      ],
      "metadata": {
        "colab": {
          "base_uri": "https://localhost:8080/"
        },
        "id": "qDdm_2mtVXSZ",
        "outputId": "eaa47626-c1d5-41d9-958f-4e5200c9a3da"
      },
      "execution_count": null,
      "outputs": [
        {
          "output_type": "stream",
          "name": "stdout",
          "text": [
            "20\n",
            "{1: 1, 2: 4, 3: 9, 4: 16, 5: 25, 6: 36, 7: 49, 8: 64, 9: 81, 10: 100, 11: 121, 12: 144, 13: 169, 14: 196, 15: 225, 16: 256, 17: 289, 18: 324, 19: 361, 20: 400}\n"
          ]
        }
      ]
    },
    {
      "cell_type": "markdown",
      "source": [
        "# Question 34\n",
        "\n",
        "Define a function which can print a dictionary where the keys are numbers between 1 and 20 (both included) and the values are square of keys.\n",
        "\n",
        "Hints:\n",
        "\n",
        "Use dict[key]=value pattern to put entry into a dictionary. Use ** operator to get power of a number. Use range() for loops."
      ],
      "metadata": {
        "id": "QAA6hXZ9W7XA"
      }
    },
    {
      "cell_type": "code",
      "source": [
        "# Solution\n",
        "\n",
        "def create_dict(x):\n",
        "  d = dict()\n",
        "  for i in range(1,x+1):\n",
        "    d[i] = i**2\n",
        "  print(d)\n",
        "\n",
        "create_dict(20)\n",
        "\n"
      ],
      "metadata": {
        "colab": {
          "base_uri": "https://localhost:8080/"
        },
        "id": "ki1i1-_lWMAC",
        "outputId": "c4e12a4f-c64b-4fa7-d48d-bd3a1dade5c7"
      },
      "execution_count": null,
      "outputs": [
        {
          "output_type": "stream",
          "name": "stdout",
          "text": [
            "{1: 1, 2: 4, 3: 9, 4: 16, 5: 25, 6: 36, 7: 49, 8: 64, 9: 81, 10: 100, 11: 121, 12: 144, 13: 169, 14: 196, 15: 225, 16: 256, 17: 289, 18: 324, 19: 361, 20: 400}\n"
          ]
        }
      ]
    },
    {
      "cell_type": "markdown",
      "source": [
        "# Question 35\n",
        "\n",
        "Define a function which can generate a dictionary where the keys are numbers between 1 and 20 (both included) and the values are square of keys. The function should just print the values only.\n",
        "\n",
        "Hints:\n",
        "\n",
        "Use dict[key]=value pattern to put entry into a dictionary. Use ** operator to get power of a number. Use range() for loops. Use keys() to iterate keys in the dictionary. Also we can use item() to get key/value pairs."
      ],
      "metadata": {
        "id": "B9v0XTGZX4at"
      }
    },
    {
      "cell_type": "code",
      "source": [
        "# solution 1:\n",
        "\n",
        "def print_dict(n):\n",
        "  d = dict()\n",
        "  e = []\n",
        "  for i in range(1, n+1):\n",
        "    d[i] = i**2 \n",
        "    # allocate keys and values to the dictionary\n",
        "  for k, v in d.items():\n",
        "    # use for loop to fetch values from dictionary via d.items()\n",
        "    e.append(v)\n",
        "  print(e)\n",
        "\n",
        "print_dict(20)"
      ],
      "metadata": {
        "colab": {
          "base_uri": "https://localhost:8080/"
        },
        "id": "ifrVJ48cXw_4",
        "outputId": "f9825956-344c-4a61-9bca-95f138cd1b68"
      },
      "execution_count": null,
      "outputs": [
        {
          "output_type": "stream",
          "name": "stdout",
          "text": [
            "[1, 4, 9, 16, 25, 36, 49, 64, 81, 100, 121, 144, 169, 196, 225, 256, 289, 324, 361, 400]\n"
          ]
        }
      ]
    },
    {
      "cell_type": "code",
      "source": [
        "# solution 2:\n",
        "\n",
        "def print_dict(n):\n",
        "  d = dict()\n",
        "  e = []\n",
        "  for i in range(1, n+1):\n",
        "    d[i] = i**2 \n",
        "    # allocate keys and values to the dictionary\n",
        "  for k, v in d.items():\n",
        "    # use for loop to fetch values from dictionary via d.items()\n",
        "    print(v)\n",
        "\n",
        "print_dict(20)"
      ],
      "metadata": {
        "colab": {
          "base_uri": "https://localhost:8080/"
        },
        "id": "YabKXoNHY3aQ",
        "outputId": "bb5b73f0-58a1-45b6-c9de-b6f6a412daa2"
      },
      "execution_count": null,
      "outputs": [
        {
          "output_type": "stream",
          "name": "stdout",
          "text": [
            "1\n",
            "4\n",
            "9\n",
            "16\n",
            "25\n",
            "36\n",
            "49\n",
            "64\n",
            "81\n",
            "100\n",
            "121\n",
            "144\n",
            "169\n",
            "196\n",
            "225\n",
            "256\n",
            "289\n",
            "324\n",
            "361\n",
            "400\n"
          ]
        }
      ]
    },
    {
      "cell_type": "code",
      "source": [
        "# solution 3:\n",
        "\n",
        "def print_dict(n):\n",
        "  d = dict()\n",
        "  e = []\n",
        "  for i in range(1, n+1):\n",
        "    d[i] = i**2 \n",
        "    # allocate keys and values to the dictionary\n",
        "  for k, v in d.items():\n",
        "    # use for loop to fetch values from dictionary via d.items()\n",
        "    e.append(str(v))\n",
        "    # allocate values to the list e\n",
        "    # e is an iterable \n",
        "  print(\",\".join(e))\n",
        "  # .join() is string join not integer join\n",
        "\n",
        "print_dict(20)"
      ],
      "metadata": {
        "colab": {
          "base_uri": "https://localhost:8080/"
        },
        "id": "DpqkbvYQZPUK",
        "outputId": "9b234624-6a31-41c2-d700-bddb7855a93f"
      },
      "execution_count": null,
      "outputs": [
        {
          "output_type": "stream",
          "name": "stdout",
          "text": [
            "1,4,9,16,25,36,49,64,81,100,121,144,169,196,225,256,289,324,361,400\n"
          ]
        }
      ]
    },
    {
      "cell_type": "markdown",
      "source": [
        "# Question 36\n",
        "\n",
        "Define a function which can generate a dictionary where the keys are numbers between 1 and 20 (both included) and the values are square of keys. The function should just print the keys only.\n",
        "\n",
        "Hints:\n",
        "\n",
        "Use dict[key]=value pattern to put entry into a dictionary. Use ** operator to get power of a number. Use range() for loops. Use keys() to iterate keys in the dictionary. Also we can use item() to get key/value pairs."
      ],
      "metadata": {
        "id": "RfaE-IH6aW00"
      }
    },
    {
      "cell_type": "code",
      "source": [
        "# Solution 1\n",
        "\n",
        "def PrintDict(x):\n",
        "  d = dict() # create an empty dict to hold the future dict\n",
        "  e = [] # create an empty list to hold keys and values\n",
        "  for i in range(1, x+1):\n",
        "    d[i] = i**2 # allocate keys and values to dict\n",
        "  print(d)\n",
        "  for k in d.keys(): # fetch keys from dict\n",
        "    e.append(str(k))\n",
        "  print(e)\n",
        "  print(\",\".join(e))\n",
        "\n",
        "PrintDict(20)  "
      ],
      "metadata": {
        "colab": {
          "base_uri": "https://localhost:8080/"
        },
        "id": "aFNfywRGaBH_",
        "outputId": "5dc5632e-a3fa-4bcf-fdc6-519d5eca8503"
      },
      "execution_count": null,
      "outputs": [
        {
          "output_type": "stream",
          "name": "stdout",
          "text": [
            "{1: 1, 2: 4, 3: 9, 4: 16, 5: 25, 6: 36, 7: 49, 8: 64, 9: 81, 10: 100, 11: 121, 12: 144, 13: 169, 14: 196, 15: 225, 16: 256, 17: 289, 18: 324, 19: 361, 20: 400}\n",
            "['1', '2', '3', '4', '5', '6', '7', '8', '9', '10', '11', '12', '13', '14', '15', '16', '17', '18', '19', '20']\n",
            "1,2,3,4,5,6,7,8,9,10,11,12,13,14,15,16,17,18,19,20\n"
          ]
        }
      ]
    },
    {
      "cell_type": "code",
      "source": [
        "# Solution 2\n",
        "def printDict():\n",
        "\td=dict()\n",
        "\tfor i in range(1,21):\n",
        "\t\td[i]=i**2\n",
        "\tfor (k,v) in d.items():\t# use d.items() to fetch keys and items\n",
        "\t\tprint(k)\n",
        "\n",
        "printDict()"
      ],
      "metadata": {
        "id": "i-Wliz7-bwCe"
      },
      "execution_count": null,
      "outputs": []
    },
    {
      "cell_type": "code",
      "source": [
        "# Solution 3\n",
        "def printDict():\n",
        "\td=dict()\n",
        "\tfor i in range(1,21):\n",
        "\t\td[i]=i**2\n",
        "\tfor k in d.keys():\t# use d.keys() to fetch keys only\n",
        "\t\tprint(k)\n",
        "\n",
        "printDict()"
      ],
      "metadata": {
        "id": "f0b35BdGcUuc"
      },
      "execution_count": null,
      "outputs": []
    },
    {
      "cell_type": "markdown",
      "source": [
        "# Question 37\n",
        "\n",
        "Define a function which can generate and print a list where the values are square of numbers between 1 and 20 (both included).\n",
        "\n",
        "Hints:\n",
        "\n",
        "Use ** operator to get power of a number. Use range() for loops. Use list.append() to add values into a list."
      ],
      "metadata": {
        "id": "_lIzpUUusI1f"
      }
    },
    {
      "cell_type": "code",
      "source": [
        "# Solution 1:\n",
        "def print_list(x):\n",
        "  list = [] # create an empty list to hold the future elements;\n",
        "  for i in range(1,x+1):\n",
        "    list.append(i**2) # allocate values to the list\n",
        "  print(list) # print list directly\n",
        "\n",
        "print_list(20)\n"
      ],
      "metadata": {
        "colab": {
          "base_uri": "https://localhost:8080/"
        },
        "id": "Nc70B5RccsK4",
        "outputId": "29c19d45-3b1b-4a30-da55-14a9ffcec154"
      },
      "execution_count": null,
      "outputs": [
        {
          "output_type": "stream",
          "name": "stdout",
          "text": [
            "[1, 4, 9, 16, 25, 36, 49, 64, 81, 100, 121, 144, 169, 196, 225, 256, 289, 324, 361, 400]\n"
          ]
        }
      ]
    },
    {
      "cell_type": "markdown",
      "source": [
        "# Question 38\n",
        "\n",
        "Define a function which can generate a list where the values are square of numbers between 1 and 20 (both included). Then the function needs to print the first 5 elements in the list.\n",
        "\n",
        "Hints:\n",
        "\n",
        "Use ** operator to get power of a number. Use range() for loops. Use list.append() to add values into a list. Use [n1:n2] to slice a list"
      ],
      "metadata": {
        "id": "89haNFvutuvO"
      }
    },
    {
      "cell_type": "code",
      "source": [
        "# Solution 1:\n",
        "\n",
        "def print_list5(x):\n",
        "  li = list() \n",
        "# the other way of creating a list;\n",
        "  for i in range(1, x+1):\n",
        "    li.append(i**2)\n",
        "  print(li[:5])\n",
        "\n",
        "print_list5(20)\n"
      ],
      "metadata": {
        "colab": {
          "base_uri": "https://localhost:8080/"
        },
        "id": "ivVh9j3us51U",
        "outputId": "6c1f90b4-5262-4d50-8472-a4350d1ed888"
      },
      "execution_count": null,
      "outputs": [
        {
          "output_type": "stream",
          "name": "stdout",
          "text": [
            "[1, 4, 9, 16, 25]\n"
          ]
        }
      ]
    },
    {
      "cell_type": "markdown",
      "source": [
        "# Create a list\n",
        "\n",
        "How to create an empty list using square brackets [].\n",
        "How to create an empty list using list().\n",
        "\n",
        "We will use the timeit module to compare them.\n",
        "\n",
        "# Add Elements to an Empty List\n",
        "\n",
        "You can add elements to an empty list using the methods append() and insert():\n",
        "\n",
        "append() adds the element to the end of the list.\n",
        "insert() adds the element at the particular index of the list that you choose.\n",
        "\n",
        "**Examples:**\n",
        "\n",
        "Append() and Insert()\n",
        "```\n",
        ">>> num = []\n",
        ">>> for i in range(3, 15, 2):\n",
        "\tnum.append(i)\n",
        "```\n",
        "\n",
        "```\n",
        ">>> num = []\n",
        ">>> num.insert(0, 1.5) # add the float 1.5 at index 0\n",
        ">>> num\n",
        "[1.5]\n",
        "```\n",
        "# List with First N Elements using Slicing\n",
        "```\n",
        "source_list = [8, 4, 7, 3, 6, 1, 9]\n",
        "N = 4\n",
        "new_list = source_list[:N]\n",
        "print(source_list)\n",
        "print(new_list)\n",
        "```"
      ],
      "metadata": {
        "id": "3f0TzbCcvEyy"
      }
    },
    {
      "cell_type": "markdown",
      "source": [
        "# Question 39\n",
        "\n",
        "Define a function which can generate a list where the values are square of numbers between 1 and 20 (both included). Then the function needs to print the last 5 elements in the list.\n",
        "\n",
        "Hints:\n",
        "\n",
        "Use ** operator to get power of a number. Use range() for loops. Use list.append() to add values into a list. Use [n1:n2] to slice a list\n",
        "\n"
      ],
      "metadata": {
        "id": "IOId62K1xpLI"
      }
    },
    {
      "cell_type": "code",
      "source": [
        "# Solution 1:\n",
        "\n",
        "def print_last(x):\n",
        "  li = list()\n",
        "  for i in range(1,x+1):\n",
        "    li.append(i**2)\n",
        "  print(li[16:20])\n",
        "\n",
        "print_last(20)"
      ],
      "metadata": {
        "colab": {
          "base_uri": "https://localhost:8080/"
        },
        "id": "QZYPAmKhuWfu",
        "outputId": "93a8f9be-6162-4c7f-a207-b1bf7443aa17"
      },
      "execution_count": null,
      "outputs": [
        {
          "output_type": "stream",
          "name": "stdout",
          "text": [
            "[289, 324, 361, 400]\n"
          ]
        }
      ]
    },
    {
      "cell_type": "code",
      "source": [
        "# Solution 2:\n",
        "def printList():\n",
        "\tli=list()\n",
        "\tfor i in range(1,21):\n",
        "\t\tli.append(i**2)\n",
        "\tprint(li[-5:])\n",
        "\n",
        "printList()"
      ],
      "metadata": {
        "colab": {
          "base_uri": "https://localhost:8080/"
        },
        "id": "wVZE0x64yfms",
        "outputId": "7cacc04c-c586-492e-c6b2-793ef9c580c9"
      },
      "execution_count": null,
      "outputs": [
        {
          "output_type": "stream",
          "name": "stdout",
          "text": [
            "[256, 289, 324, 361, 400]\n"
          ]
        }
      ]
    },
    {
      "cell_type": "markdown",
      "source": [
        "# Question 40\n",
        "\n",
        "Define a function which can generate a list where the values are square of numbers between 1 and 20 (both included). Then the function needs to print all values except the first 5 elements in the list.\n",
        "\n",
        "Hints:\n",
        "\n",
        "Use ** operator to get power of a number. Use range() for loops. Use list.append() to add values into a list. Use [n1:n2] to slice a list"
      ],
      "metadata": {
        "id": "uAKrwDZTcNWc"
      }
    },
    {
      "cell_type": "code",
      "source": [
        "# Solution 01\n",
        "\n",
        "def print_others(x):\n",
        "  li = list()\n",
        "  for i in range(1, x+1):\n",
        "    li.append(i**2)\n",
        "  print(li[5:]) # print the list from the first 5 elements in the list.\n",
        "\n",
        "print_others(20)"
      ],
      "metadata": {
        "colab": {
          "base_uri": "https://localhost:8080/"
        },
        "id": "qWayyR84y64I",
        "outputId": "2c133a34-7a26-4f94-9116-a30d3406d7de"
      },
      "execution_count": null,
      "outputs": [
        {
          "output_type": "stream",
          "name": "stdout",
          "text": [
            "[36, 49, 64, 81, 100, 121, 144, 169, 196, 225, 256, 289, 324, 361, 400]\n"
          ]
        }
      ]
    },
    {
      "cell_type": "markdown",
      "source": [
        "# Question 41\n",
        "\n",
        "Define a function which can generate and print a tuple where the value are square of numbers between 1 and 20 (both included).\n",
        "\n",
        "Hints:\n",
        "\n",
        "Use ** operator to get power of a number. Use range() for loops. Use list.append() to add values into a list. Use tuple() to get a tuple from a list."
      ],
      "metadata": {
        "id": "yjyxGEhDdDKX"
      }
    },
    {
      "cell_type": "code",
      "source": [
        "# Solution 01:\n",
        "\n",
        "def print_tuple(x):\n",
        "  li = list()\n",
        "  for i in range(1, x+1):\n",
        "    li.append(i**2)\n",
        "  print(tuple(li)) # use tuple() to get a tuple from a list\n",
        "\n",
        "print_tuple(20)"
      ],
      "metadata": {
        "colab": {
          "base_uri": "https://localhost:8080/"
        },
        "id": "JkdbKz7lcuZD",
        "outputId": "3bf99fc4-b23f-4979-d747-d9b4e2f734aa"
      },
      "execution_count": null,
      "outputs": [
        {
          "output_type": "stream",
          "name": "stdout",
          "text": [
            "(1, 4, 9, 16, 25, 36, 49, 64, 81, 100, 121, 144, 169, 196, 225, 256, 289, 324, 361, 400)\n"
          ]
        }
      ]
    },
    {
      "cell_type": "markdown",
      "source": [
        "# Question 42\n",
        "\n",
        "With a given tuple (1,2,3,4,5,6,7,8,9,10), write a program to print the first half values in one line and the last half values in one line.\n",
        "\n",
        "Hints:\n",
        "\n",
        "Use [n1:n2] notation to get a slice from a tuple."
      ],
      "metadata": {
        "id": "b31pUFC1dk3O"
      }
    },
    {
      "cell_type": "code",
      "source": [
        "# Solution 01:\n",
        "\n",
        "tuple = (1,2,3,4,5,6,7,8,9,10)\n",
        "print(tuple[:5])\n",
        "print(tuple[5:])"
      ],
      "metadata": {
        "colab": {
          "base_uri": "https://localhost:8080/"
        },
        "id": "2N22mDdldeHD",
        "outputId": "842a4ecb-f57d-4e22-8c90-19470666000c"
      },
      "execution_count": null,
      "outputs": [
        {
          "output_type": "stream",
          "name": "stdout",
          "text": [
            "(1, 2, 3, 4, 5)\n",
            "(6, 7, 8, 9, 10)\n"
          ]
        }
      ]
    },
    {
      "cell_type": "code",
      "source": [
        "# Standard Solution:\n",
        "\n",
        "tp=(1,2,3,4,5,6,7,8,9,10)\n",
        "tp1=tp[:5]\n",
        "tp2=tp[5:]\n",
        "print(tp1)\n",
        "print(tp2)"
      ],
      "metadata": {
        "id": "HON9ztacd67W"
      },
      "execution_count": null,
      "outputs": []
    },
    {
      "cell_type": "markdown",
      "source": [
        "# Question 43\n",
        "\n",
        "Write a program to generate and print another tuple whose values are even numbers in the given tuple (1,2,3,4,5,6,7,8,9,10).\n",
        "\n",
        "Hints:\n",
        "\n",
        "Use \"for\" to iterate the tuple Use tuple() to generate a tuple from a list."
      ],
      "metadata": {
        "id": "s71HS_OmeP9A"
      }
    },
    {
      "cell_type": "code",
      "source": [
        "# Solution 01:\n",
        "\n",
        "def printEven():\n",
        "  tp = (1,2,3,4,5,6,7,8,9,10)\n",
        "  li = list()\n",
        "  print(len(tp))\n",
        "  for i in range(len(tp)):\n",
        "    print(i)\n",
        "    if tp[i]%2==0:\n",
        "      # when loop through tuple index, remeber to loop through len() of tuple.\n",
        "      # or the index would be out of range.\n",
        "      li.append(tp[i])\n",
        "  \n",
        "  print(li)\n",
        "\n",
        "printEven()"
      ],
      "metadata": {
        "colab": {
          "base_uri": "https://localhost:8080/"
        },
        "id": "C3QYA5RleRG6",
        "outputId": "ade7d500-f34e-4107-d9df-028ad0ff9d86"
      },
      "execution_count": null,
      "outputs": [
        {
          "output_type": "stream",
          "name": "stdout",
          "text": [
            "10\n",
            "0\n",
            "1\n",
            "2\n",
            "3\n",
            "4\n",
            "5\n",
            "6\n",
            "7\n",
            "8\n",
            "9\n",
            "[2, 4, 6, 8, 10]\n"
          ]
        }
      ]
    },
    {
      "cell_type": "code",
      "source": [
        "# Solution 02\n",
        "\n",
        "def PrintList():\n",
        "  tp = (1,2,3,4,5,6,7,8,9,10)\n",
        "  li = list()\n",
        "  for i in tp: \n",
        "    # when loop though tuple values, i is the tuple value. \n",
        "    # note to compare with solution 01\n",
        "    if i%2 == 0:\n",
        "      li.append(i)\n",
        "  print(li) # dont know why tuple() does not work.\n",
        "\n",
        "PrintList()\n"
      ],
      "metadata": {
        "colab": {
          "base_uri": "https://localhost:8080/"
        },
        "id": "oCMZ95loi9jf",
        "outputId": "56b5a7b8-c9ee-468b-8cbb-8dd43a94712f"
      },
      "execution_count": null,
      "outputs": [
        {
          "output_type": "stream",
          "name": "stdout",
          "text": [
            "[2, 4, 6, 8, 10]\n"
          ]
        }
      ]
    },
    {
      "cell_type": "markdown",
      "source": [
        "# Question 44\n",
        "\n",
        "Write a program which accepts a string as input to print \"Yes\" if the string is \"yes\" or \"YES\" or \"Yes\", otherwise print \"No\".\n",
        "\n",
        "Hints:\n",
        "\n",
        "Use if statement to judge condition."
      ],
      "metadata": {
        "id": "08VZBsSMLXVK"
      }
    },
    {
      "cell_type": "code",
      "source": [
        "str = input()\n",
        "if str == \"yes\" or str == \"YES\" or str == \"Yes\":\n",
        "  print(\"Yes\")\n",
        "else:\n",
        "  print(\"No\")"
      ],
      "metadata": {
        "colab": {
          "base_uri": "https://localhost:8080/"
        },
        "id": "6XL50XsmgEEc",
        "outputId": "f8b678bf-6f8a-4d10-820f-df05d330601a"
      },
      "execution_count": null,
      "outputs": [
        {
          "output_type": "stream",
          "name": "stdout",
          "text": [
            "dsa\n",
            "No\n"
          ]
        }
      ]
    },
    {
      "cell_type": "markdown",
      "source": [
        "# Question 45\n",
        "\n",
        "Write a program which can filter even numbers in a list by using filter function. The list is: [1,2,3,4,5,6,7,8,9,10].\n",
        "\n",
        "Hints:\n",
        "\n",
        "Use filter() to filter some elements in a list. Use lambda to define anonymous functions."
      ],
      "metadata": {
        "id": "O5ex_gptL4uZ"
      }
    },
    {
      "cell_type": "code",
      "source": [
        "# Standard Solution:\n",
        "li = [1,2,3,4,5,6,7,8,9,10]\n",
        "evenNumber = list(filter(lambda x: x%2==0,li))\n",
        "# use filter to select even numbers from the list called \"li\"\n",
        "print(evenNumber)\n",
        "print(li)"
      ],
      "metadata": {
        "colab": {
          "base_uri": "https://localhost:8080/"
        },
        "id": "6sefv5sBLwAE",
        "outputId": "7d885361-dea0-4f9f-e5e2-e6c70581492b"
      },
      "execution_count": null,
      "outputs": [
        {
          "output_type": "stream",
          "name": "stdout",
          "text": [
            "[2, 4, 6, 8, 10]\n",
            "[1, 2, 3, 4, 5, 6, 7, 8, 9, 10]\n"
          ]
        }
      ]
    },
    {
      "cell_type": "markdown",
      "source": [
        "# Question 46\n",
        "\n",
        "Write a program which can map() to make a list whose elements are square of elements in [1,2,3,4,5,6,7,8,9,10].\n",
        "\n",
        "Hints Use map() to generate a list. Use lambda to define anonymous functions."
      ],
      "metadata": {
        "id": "p1wq29pMMrZp"
      }
    },
    {
      "cell_type": "code",
      "source": [
        "# Standard Solution:\n",
        "li = [1,2,3,4,5,6,7,8,9,10]\n",
        "squaredNumbers = list(map(lambda x: x**2, li))\n",
        "# Note map(func, list)\n",
        "print(squaredNumbers)"
      ],
      "metadata": {
        "colab": {
          "base_uri": "https://localhost:8080/"
        },
        "id": "8tspY_KjMjOc",
        "outputId": "e98748f5-5e80-4dbb-809e-31067888535c"
      },
      "execution_count": null,
      "outputs": [
        {
          "output_type": "stream",
          "name": "stdout",
          "text": [
            "[1, 4, 9, 16, 25, 36, 49, 64, 81, 100]\n"
          ]
        }
      ]
    },
    {
      "cell_type": "markdown",
      "source": [
        "# The map() Function\n",
        "\n",
        "As we have mentioned earlier, the advantage of the lambda operator can be seen when it is used in combination with the map() function. map() is a function which takes two arguments:\n",
        "\n",
        "r = map(func, seq)\n",
        "\n",
        "The first argument func is the name of a function and the second a sequence (e.g. a list) seq. map() applies the function func to all the elements of the sequence seq. "
      ],
      "metadata": {
        "id": "RIkjwF3jNqyg"
      }
    },
    {
      "cell_type": "markdown",
      "source": [
        "# The Filter() Function\n",
        "\n",
        "The function\n",
        "\n",
        "filter(function, sequence)\n",
        "\n",
        "offers an elegant way to filter out all the elements of a sequence \"sequence\", for which the function function returns True. i.e. an item will be produced by the iterator result of filter(function, sequence) if item is included in the sequence \"sequence\" and if function(item) returns True.\n",
        "\n",
        "In other words: The function filter(f,l) needs a function f as its first argument. f has to return a Boolean value, i.e. either True or False. This function will be applied to every element of the list l. Only if f returns True will the element be produced by the iterator, which is the return value of filter(function, sequence).\n",
        "\n",
        "In the following example, we filter out first the odd and then the even elements of the sequence of the first 11 Fibonacci numbers:\n",
        "```\n",
        "fibonacci = [0,1,1,2,3,5,8,13,21,34,55]\n",
        "odd_numbers = list(filter(lambda x: x % 2, fibonacci))\n",
        "print(odd_numbers)\n",
        "```"
      ],
      "metadata": {
        "id": "MFsBH9g6OSfR"
      }
    },
    {
      "cell_type": "markdown",
      "source": [
        "# Question 47\n",
        "\n",
        "Write a program which can map() and filter() to make a list whose elements are square of even number in [1,2,3,4,5,6,7,8,9,10].\n",
        "\n",
        "Hints Use map() to generate a list. Use filter() to filter elements of a list. Use lambda to define anonymous functions.\n",
        "\n"
      ],
      "metadata": {
        "id": "A_Z_5Pk3Os5d"
      }
    },
    {
      "cell_type": "code",
      "source": [
        "# Standard Solution:\n",
        "li = [1,2,3,4,5,6,7,8,9,10]\n",
        "evenNumbers = list(map(lambda x: x**2, list(filter(lambda x: x%2 == 0,li))))\n",
        "print(evenNumber)"
      ],
      "metadata": {
        "colab": {
          "base_uri": "https://localhost:8080/"
        },
        "id": "6cRXopqfMpLW",
        "outputId": "66a2e112-6747-42f6-faec-c67d0f1c59f5"
      },
      "execution_count": null,
      "outputs": [
        {
          "output_type": "stream",
          "name": "stdout",
          "text": [
            "[2, 4, 6, 8, 10]\n"
          ]
        }
      ]
    },
    {
      "cell_type": "markdown",
      "source": [
        "# Question 48\n",
        "\n",
        "Write a program which can filter() to make a list whose elements are even number between 1 and 20 (both included).\n",
        "\n",
        "Hints:\n",
        "\n",
        "Use filter() to filter elements of a list. Use lambda to define anonymous functions."
      ],
      "metadata": {
        "id": "kI45dkk2PWeQ"
      }
    },
    {
      "cell_type": "code",
      "source": [
        "# Solution 01:\n",
        "li = []\n",
        "for i in range(1,21):\n",
        "  li.append(i)\n",
        "\n",
        "evenNumbers = list(filter(lambda x: x%2 == 0,li))\n",
        "print(evenNumbers)\n"
      ],
      "metadata": {
        "colab": {
          "base_uri": "https://localhost:8080/"
        },
        "id": "1gPC7MmWPGYz",
        "outputId": "67845bb1-975b-484a-bb80-e692b15e771c"
      },
      "execution_count": null,
      "outputs": [
        {
          "output_type": "stream",
          "name": "stdout",
          "text": [
            "[2, 4, 6, 8, 10, 12, 14, 16, 18, 20]\n"
          ]
        }
      ]
    },
    {
      "cell_type": "code",
      "source": [
        "# Standard Soluiton:\n",
        "evenNumbers = list(filter(lambda x: x%2==0, range(1,21)))\n",
        "print(evenNumbers)"
      ],
      "metadata": {
        "colab": {
          "base_uri": "https://localhost:8080/"
        },
        "id": "Yb2G91ulP1iW",
        "outputId": "8798b3ca-4a09-4135-df07-49241461e9fd"
      },
      "execution_count": null,
      "outputs": [
        {
          "output_type": "stream",
          "name": "stdout",
          "text": [
            "[2, 4, 6, 8, 10, 12, 14, 16, 18, 20]\n"
          ]
        }
      ]
    },
    {
      "cell_type": "markdown",
      "source": [
        "# Question 49\n",
        "\n",
        "Write a program which can map() to make a list whose elements are square of numbers between 1 and 20 (both included).\n",
        "\n",
        "Hints Use map() to generate a list. Use lambda to define anonymous functions"
      ],
      "metadata": {
        "id": "9R0KfbBPQTDy"
      }
    },
    {
      "cell_type": "code",
      "source": [
        "#my solution:\n",
        "squaredNumbers = []\n",
        "squaredNumbers = list(map(lambda x: x**2, range(1,21)))\n",
        "print(squaredNumbers)"
      ],
      "metadata": {
        "colab": {
          "base_uri": "https://localhost:8080/"
        },
        "id": "rY6wqJH5QK6j",
        "outputId": "d4acccd8-78a7-449a-cc18-fdafb96a05ae"
      },
      "execution_count": null,
      "outputs": [
        {
          "output_type": "stream",
          "name": "stdout",
          "text": [
            "[1, 4, 9, 16, 25, 36, 49, 64, 81, 100, 121, 144, 169, 196, 225, 256, 289, 324, 361, 400]\n"
          ]
        }
      ]
    },
    {
      "cell_type": "code",
      "source": [
        "#Standard Solution:\n",
        "squaredNumbers = list(map(lambda x: x**2, range(1,21)))\n",
        "print(squaredNumbers)"
      ],
      "metadata": {
        "colab": {
          "base_uri": "https://localhost:8080/"
        },
        "id": "IEOSCBliQnID",
        "outputId": "0f575d62-fd3d-4fa3-91bd-930284a20ee9"
      },
      "execution_count": null,
      "outputs": [
        {
          "output_type": "stream",
          "name": "stdout",
          "text": [
            "[1, 4, 9, 16, 25, 36, 49, 64, 81, 100, 121, 144, 169, 196, 225, 256, 289, 324, 361, 400]\n"
          ]
        }
      ]
    },
    {
      "cell_type": "markdown",
      "source": [
        "# Question 50\n",
        "\n",
        "Define a class named American which has a static method called printNationality.\n",
        "\n",
        "Hints: Use @staticmethod decorator to define class static method."
      ],
      "metadata": {
        "id": "iJlgVuk4Q96x"
      }
    },
    {
      "cell_type": "code",
      "source": [
        "# Standard Solution:\n",
        "\n",
        "class American(object):\n",
        "    @staticmethod\n",
        "    def printNationality():\n",
        "        print(\"America\")\n",
        "\n",
        "anAmerican = American()\n",
        "anAmerican.printNationality()\n",
        "American.printNationality()"
      ],
      "metadata": {
        "colab": {
          "base_uri": "https://localhost:8080/"
        },
        "id": "e_2Wap1qQx_9",
        "outputId": "1d8c40c0-49fb-4f62-e666-42051c761079"
      },
      "execution_count": null,
      "outputs": [
        {
          "output_type": "stream",
          "name": "stdout",
          "text": [
            "America\n",
            "America\n"
          ]
        }
      ]
    },
    {
      "cell_type": "markdown",
      "source": [
        "# Question 51\n",
        "\n",
        "Define a class named American and its subclass NewYorker.\n",
        "\n",
        "Hints:\n",
        "\n",
        "Use class Subclass(ParentClass) to define a subclass.\n",
        "\n"
      ],
      "metadata": {
        "id": "ENw61Lu9kKQe"
      }
    },
    {
      "cell_type": "code",
      "source": [
        "class Amerian(object):\n",
        "  pass\n",
        "\n",
        "class NewYorker(American):\n",
        "  pass\n",
        "\n",
        "anAmerican = American()\n",
        "aNewYorker = NewYorker()\n",
        "print(anAmerican)\n",
        "print(aNewYorker)"
      ],
      "metadata": {
        "id": "zrll7VzoRIrn"
      },
      "execution_count": null,
      "outputs": []
    },
    {
      "cell_type": "code",
      "source": [
        "class American(object):\n",
        "    pass\n",
        "\n",
        "class NewYorker(American):\n",
        "    pass\n",
        "\n",
        "anAmerican = American()\n",
        "aNewYorker = NewYorker()\n",
        "print(anAmerican)\n",
        "print(aNewYorker)"
      ],
      "metadata": {
        "colab": {
          "base_uri": "https://localhost:8080/"
        },
        "id": "sHQm6WG0k2_i",
        "outputId": "f87b5c1a-fb31-4d28-ad6b-9a6909ee0b98"
      },
      "execution_count": null,
      "outputs": [
        {
          "output_type": "stream",
          "name": "stdout",
          "text": [
            "<__main__.American object at 0x7fd479eecd30>\n",
            "<__main__.NewYorker object at 0x7fd479eecca0>\n"
          ]
        }
      ]
    },
    {
      "cell_type": "markdown",
      "source": [
        "# Question 52\n",
        "\n",
        "Define a class named Circle which can be constructed by a radius. The Circle class has a method which can compute the area.\n",
        "\n",
        "Hints:\n",
        "\n",
        "Use def methodName(self) to define a method.\n",
        "\n"
      ],
      "metadata": {
        "id": "aCVqytE8koc8"
      }
    },
    {
      "cell_type": "code",
      "source": [
        "# Solution:\n",
        "\n",
        "class Circle:\n",
        "  def __init__(self,r):\n",
        "    self.radius = r\n",
        "\n",
        "  def area(self):\n",
        "    return self.radius**2*3.14\n",
        "\n",
        "Circle1 = Circle(2)\n",
        "Circle1.area() # can not use print"
      ],
      "metadata": {
        "colab": {
          "base_uri": "https://localhost:8080/"
        },
        "id": "fsggzJTVkp6Q",
        "outputId": "f95ed100-0a32-4156-e82c-c33b25c89305"
      },
      "execution_count": 8,
      "outputs": [
        {
          "output_type": "execute_result",
          "data": {
            "text/plain": [
              "12.56"
            ]
          },
          "metadata": {},
          "execution_count": 8
        }
      ]
    },
    {
      "cell_type": "code",
      "source": [
        "class Circle:\n",
        "  def __init__(self, r):\n",
        "    self.radius = r\n",
        "\n",
        "  def area(self):\n",
        "    return self.radius**2*3.14\n",
        "\n",
        "aCircle = Circle(2)\n",
        "aCircle.area()\n"
      ],
      "metadata": {
        "colab": {
          "base_uri": "https://localhost:8080/"
        },
        "id": "hVFy3zquloVm",
        "outputId": "34d389a6-4ad9-4114-8721-fe1f57a9c724"
      },
      "execution_count": 13,
      "outputs": [
        {
          "output_type": "execute_result",
          "data": {
            "text/plain": [
              "12.56"
            ]
          },
          "metadata": {},
          "execution_count": 13
        }
      ]
    },
    {
      "cell_type": "markdown",
      "source": [
        "# Question 53\n",
        "\n",
        "Define a class named Rectangle which can be constructed by a length and width. The Rectangle class has a method which can compute the area.\n",
        "\n",
        "Hints:\n",
        "\n",
        "Use def methodName(self) to define a method."
      ],
      "metadata": {
        "id": "bTROVEg8nMKL"
      }
    },
    {
      "cell_type": "code",
      "source": [
        "# Solution\n",
        "class Rectangle():\n",
        "  def __init__(self,l,w):\n",
        "    self.length = l\n",
        "    self.width = w\n",
        "  \n",
        "  def area(self):\n",
        "    return self.length*self.width\n",
        "\n",
        "aRectangle = Rectangle(100,48)\n",
        "\n",
        "aRectangle.area()"
      ],
      "metadata": {
        "colab": {
          "base_uri": "https://localhost:8080/"
        },
        "id": "4XyAQfY7nEnY",
        "outputId": "61bb7071-d012-4177-a547-121e9190095a"
      },
      "execution_count": 17,
      "outputs": [
        {
          "output_type": "execute_result",
          "data": {
            "text/plain": [
              "4800"
            ]
          },
          "metadata": {},
          "execution_count": 17
        }
      ]
    },
    {
      "cell_type": "markdown",
      "source": [
        "# Question 54\n",
        "\n",
        "Define a class named Shape and its subclass Square. The Square class has an init function which takes a length as argument. Both classes have a area function which can print the area of the shape where Shape's area is 0 by default.\n",
        "\n",
        "Hints:\n",
        "\n",
        "To override a method in super class, we can define a method with the same name in the super class."
      ],
      "metadata": {
        "id": "Q-S79U7UojEr"
      }
    },
    {
      "cell_type": "code",
      "source": [
        "# Standard Solution:\n",
        "\n",
        "class Shape(object):\n",
        "  def __init__(self):\n",
        "    pass\n",
        "\n",
        "  def area(self):\n",
        "    return 0\n",
        "# the rest is easy to understand, but dont know why we create the subclass\n",
        "class Square(Shape):\n",
        "  def __init__(self,length):\n",
        "    Shape.__init__(self)\n",
        "    self.length = 1\n",
        "\n",
        "  def area(self):\n",
        "    return self.length*self.length\n",
        "\n",
        "aSquare = Square(3)\n",
        "aSquare.area()"
      ],
      "metadata": {
        "colab": {
          "base_uri": "https://localhost:8080/"
        },
        "id": "QvR_0OqtokyB",
        "outputId": "37243ac7-acf9-4399-8e3e-9ce1958f1460"
      },
      "execution_count": 18,
      "outputs": [
        {
          "output_type": "execute_result",
          "data": {
            "text/plain": [
              "1"
            ]
          },
          "metadata": {},
          "execution_count": 18
        }
      ]
    },
    {
      "cell_type": "markdown",
      "source": [
        "# Question 55\n",
        "\n",
        "Please raise a RuntimeError exception.\n",
        "\n",
        "Hints:\n",
        "\n",
        "Use raise() to raise an exception."
      ],
      "metadata": {
        "id": "BPG7jIFgpmUk"
      }
    },
    {
      "cell_type": "code",
      "source": [
        "raise RuntimeError('something wrong')"
      ],
      "metadata": {
        "colab": {
          "base_uri": "https://localhost:8080/",
          "height": 164
        },
        "id": "9F3lEolTpoqL",
        "outputId": "50c474ab-1327-4070-cbd1-67c4fdfc0f35"
      },
      "execution_count": 19,
      "outputs": [
        {
          "output_type": "error",
          "ename": "RuntimeError",
          "evalue": "ignored",
          "traceback": [
            "\u001b[0;31m---------------------------------------------------------------------------\u001b[0m",
            "\u001b[0;31mRuntimeError\u001b[0m                              Traceback (most recent call last)",
            "\u001b[0;32m<ipython-input-19-53fba0153627>\u001b[0m in \u001b[0;36m<module>\u001b[0;34m\u001b[0m\n\u001b[0;32m----> 1\u001b[0;31m \u001b[0;32mraise\u001b[0m \u001b[0mRuntimeError\u001b[0m\u001b[0;34m(\u001b[0m\u001b[0;34m'something wrong'\u001b[0m\u001b[0;34m)\u001b[0m\u001b[0;34m\u001b[0m\u001b[0;34m\u001b[0m\u001b[0m\n\u001b[0m",
            "\u001b[0;31mRuntimeError\u001b[0m: something wrong"
          ]
        }
      ]
    },
    {
      "cell_type": "markdown",
      "source": [
        "# Question 56\n",
        "\n",
        "Write a function to compute 5/0 and use try/except to catch the exceptions.\n",
        "\n",
        "Hints:\n",
        "\n",
        "Use try/except to catch exceptions."
      ],
      "metadata": {
        "id": "HYBGcbZbpv_9"
      }
    },
    {
      "cell_type": "code",
      "source": [
        "# Old solution is not correct\n",
        "def throws():\n",
        "  return 5/0\n",
        "\n",
        "try:\n",
        "  throws()\n",
        "except ZeroDivisionError:\n",
        "  print(\"division by zero!\")\n",
        "except Exception as err:\n",
        "  print('Caught an exception'+err)\n",
        "finally:\n",
        "  print('In finally block for cleanup')\n"
      ],
      "metadata": {
        "colab": {
          "base_uri": "https://localhost:8080/"
        },
        "id": "n4gXFvZdpyWR",
        "outputId": "5a547571-81d2-4a7b-fbd3-18bf0ab17e19"
      },
      "execution_count": 23,
      "outputs": [
        {
          "output_type": "stream",
          "name": "stdout",
          "text": [
            "division by zero!\n",
            "In finally block for cleanup\n"
          ]
        }
      ]
    },
    {
      "cell_type": "markdown",
      "source": [
        "# Question 57\n",
        "\n",
        "Define a custom exception class which takes a string message as attribute.\n",
        "\n",
        "Hints:\n",
        "\n",
        "To define a custom exception, we need to define a class inherited from Exception."
      ],
      "metadata": {
        "id": "wbpsYK4nrCZv"
      }
    },
    {
      "cell_type": "code",
      "source": [
        "# Solution:\n",
        "\n",
        "class MyError(Exception):\n",
        "    \"\"\"My own exception class\n",
        "\n",
        "    Attributes:\n",
        "        msg  -- explanation of the error\n",
        "    \"\"\"\n",
        "    \n",
        "    def __init__(self, msg):\n",
        "        self.msg = msg\n",
        "\n",
        "error = MyError(\"something wrong\")\n",
        "error.msg # attribute should not have ()"
      ],
      "metadata": {
        "colab": {
          "base_uri": "https://localhost:8080/",
          "height": 37
        },
        "id": "4g4JmzlZqdp1",
        "outputId": "6f0bfa41-1396-4805-bcfa-d5d7d75b413c"
      },
      "execution_count": 28,
      "outputs": [
        {
          "output_type": "execute_result",
          "data": {
            "text/plain": [
              "'something wrong'"
            ],
            "application/vnd.google.colaboratory.intrinsic+json": {
              "type": "string"
            }
          },
          "metadata": {},
          "execution_count": 28
        }
      ]
    },
    {
      "cell_type": "code",
      "source": [],
      "metadata": {
        "id": "3Wis4DDQrJ08"
      },
      "execution_count": null,
      "outputs": []
    },
    {
      "cell_type": "markdown",
      "source": [
        "# Question 58\n",
        "\n",
        "Assuming that we have some email addresses in the \"username@companyname.com\" format, please write program to print the user name of a given email address. Both user names and company names are composed of letters only.\n",
        "\n",
        "Example: If the following email address is given as input to the program:\n",
        "\n",
        "john@google.com\n",
        "\n",
        "Then, the output of the program should be:\n",
        "\n",
        "john\n",
        "\n",
        "In case of input data being supplied to the question, it should be assumed to be a console input.\n",
        "\n"
      ],
      "metadata": {
        "id": "8Mly-GsQroBZ"
      }
    },
    {
      "cell_type": "code",
      "source": [
        "# Learn regular expression; this solution is wrong\n",
        "email = input()\n",
        "import re\n",
        "pat2 = \"(\\w+)@((\\w+\\.)+(com))\"\n",
        "r2 = re.match(pat2,email)\n",
        "print(r2.group(1))"
      ],
      "metadata": {
        "colab": {
          "base_uri": "https://localhost:8080/",
          "height": 215
        },
        "id": "1o8lwx8rrpOc",
        "outputId": "1df9dc5a-55e2-4518-ca78-c7f675766b47"
      },
      "execution_count": 29,
      "outputs": [
        {
          "name": "stdout",
          "output_type": "stream",
          "text": [
            "nickhan.ca@gmail.com\n"
          ]
        },
        {
          "output_type": "error",
          "ename": "AttributeError",
          "evalue": "ignored",
          "traceback": [
            "\u001b[0;31m---------------------------------------------------------------------------\u001b[0m",
            "\u001b[0;31mAttributeError\u001b[0m                            Traceback (most recent call last)",
            "\u001b[0;32m<ipython-input-29-0d572bc3e144>\u001b[0m in \u001b[0;36m<module>\u001b[0;34m\u001b[0m\n\u001b[1;32m      3\u001b[0m \u001b[0mpat2\u001b[0m \u001b[0;34m=\u001b[0m \u001b[0;34m\"(\\w+)@((\\w+\\.)+(com))\"\u001b[0m\u001b[0;34m\u001b[0m\u001b[0;34m\u001b[0m\u001b[0m\n\u001b[1;32m      4\u001b[0m \u001b[0mr2\u001b[0m \u001b[0;34m=\u001b[0m \u001b[0mre\u001b[0m\u001b[0;34m.\u001b[0m\u001b[0mmatch\u001b[0m\u001b[0;34m(\u001b[0m\u001b[0mpat2\u001b[0m\u001b[0;34m,\u001b[0m\u001b[0memail\u001b[0m\u001b[0;34m)\u001b[0m\u001b[0;34m\u001b[0m\u001b[0;34m\u001b[0m\u001b[0m\n\u001b[0;32m----> 5\u001b[0;31m \u001b[0mprint\u001b[0m\u001b[0;34m(\u001b[0m\u001b[0mr2\u001b[0m\u001b[0;34m.\u001b[0m\u001b[0mgroup\u001b[0m\u001b[0;34m(\u001b[0m\u001b[0;36m1\u001b[0m\u001b[0;34m)\u001b[0m\u001b[0;34m)\u001b[0m\u001b[0;34m\u001b[0m\u001b[0;34m\u001b[0m\u001b[0m\n\u001b[0m",
            "\u001b[0;31mAttributeError\u001b[0m: 'NoneType' object has no attribute 'group'"
          ]
        }
      ]
    },
    {
      "cell_type": "markdown",
      "source": [
        "# Question 59\n",
        "\n",
        "Assuming that we have some email addresses in the \"username@companyname.com\" format, please write program to print the company name of a given email address. Both user names and company names are composed of letters only.\n",
        "\n",
        "Example: If the following email address is given as input to the program:\n",
        "\n",
        "john@google.com\n",
        "\n",
        "Then, the output of the program should be:\n",
        "\n",
        "google\n",
        "\n",
        "In case of input data being supplied to the question, it should be assumed to be a console input.\n",
        "\n",
        "Hints:\n",
        "\n",
        "Use \\w to match letters."
      ],
      "metadata": {
        "id": "OFXrTTtMsgF4"
      }
    },
    {
      "cell_type": "code",
      "source": [
        "import re\n",
        "emailAddress = input()\n",
        "pat2 = \"(\\w+)@(\\w+)\\.(com)\"\n",
        "r2 = re.match(pat2,emailAddress)\n",
        "print(r2.group(2))"
      ],
      "metadata": {
        "colab": {
          "base_uri": "https://localhost:8080/",
          "height": 215
        },
        "id": "9NgsiX76sMZF",
        "outputId": "4cb2a2f1-4860-4677-fc9b-56e909748e66"
      },
      "execution_count": 31,
      "outputs": [
        {
          "name": "stdout",
          "output_type": "stream",
          "text": [
            "nickhan.ca@gmail.com\n"
          ]
        },
        {
          "output_type": "error",
          "ename": "AttributeError",
          "evalue": "ignored",
          "traceback": [
            "\u001b[0;31m---------------------------------------------------------------------------\u001b[0m",
            "\u001b[0;31mAttributeError\u001b[0m                            Traceback (most recent call last)",
            "\u001b[0;32m<ipython-input-31-ad9e1daa5a74>\u001b[0m in \u001b[0;36m<module>\u001b[0;34m\u001b[0m\n\u001b[1;32m      3\u001b[0m \u001b[0mpat2\u001b[0m \u001b[0;34m=\u001b[0m \u001b[0;34m\"(\\w+)@(\\w+)\\.(com)\"\u001b[0m\u001b[0;34m\u001b[0m\u001b[0;34m\u001b[0m\u001b[0m\n\u001b[1;32m      4\u001b[0m \u001b[0mr2\u001b[0m \u001b[0;34m=\u001b[0m \u001b[0mre\u001b[0m\u001b[0;34m.\u001b[0m\u001b[0mmatch\u001b[0m\u001b[0;34m(\u001b[0m\u001b[0mpat2\u001b[0m\u001b[0;34m,\u001b[0m\u001b[0memailAddress\u001b[0m\u001b[0;34m)\u001b[0m\u001b[0;34m\u001b[0m\u001b[0;34m\u001b[0m\u001b[0m\n\u001b[0;32m----> 5\u001b[0;31m \u001b[0mprint\u001b[0m\u001b[0;34m(\u001b[0m\u001b[0mr2\u001b[0m\u001b[0;34m.\u001b[0m\u001b[0mgroup\u001b[0m\u001b[0;34m(\u001b[0m\u001b[0;36m2\u001b[0m\u001b[0;34m)\u001b[0m\u001b[0;34m)\u001b[0m\u001b[0;34m\u001b[0m\u001b[0;34m\u001b[0m\u001b[0m\n\u001b[0m",
            "\u001b[0;31mAttributeError\u001b[0m: 'NoneType' object has no attribute 'group'"
          ]
        }
      ]
    },
    {
      "cell_type": "code",
      "source": [],
      "metadata": {
        "id": "d2cK1sfWsmBG"
      },
      "execution_count": null,
      "outputs": []
    },
    {
      "cell_type": "markdown",
      "source": [
        "# Question 60\n",
        "\n",
        "Write a program which accepts a sequence of words separated by whitespace as input to print the words composed of digits only.\n",
        "\n",
        "Example: If the following words is given as input to the program:\n",
        "\n",
        "2 cats and 3 dogs.\n",
        "\n",
        "Then, the output of the program should be:\n",
        "\n",
        "['2', '3']\n",
        "\n",
        "In case of input data being supplied to the question, it should be assumed to be a console input.\n",
        "\n",
        "Hints:\n",
        "\n",
        "Use re.findall() to find all substring using regex."
      ],
      "metadata": {
        "id": "pQgBW9pUs1Wy"
      }
    },
    {
      "cell_type": "code",
      "source": [
        "  import re\n",
        "  s = input().split(\" \")\n",
        "  re.findall(\"\\d+\",s)"
      ],
      "metadata": {
        "colab": {
          "base_uri": "https://localhost:8080/",
          "height": 334
        },
        "id": "9w7eeKS6s24j",
        "outputId": "12b7dc39-a852-4d9b-d71e-2a435cf764d3"
      },
      "execution_count": 2,
      "outputs": [
        {
          "name": "stdout",
          "output_type": "stream",
          "text": [
            "10 cats and 40 dogs\n"
          ]
        },
        {
          "output_type": "error",
          "ename": "TypeError",
          "evalue": "ignored",
          "traceback": [
            "\u001b[0;31m---------------------------------------------------------------------------\u001b[0m",
            "\u001b[0;31mTypeError\u001b[0m                                 Traceback (most recent call last)",
            "\u001b[0;32m<ipython-input-2-2d2005e5f756>\u001b[0m in \u001b[0;36m<module>\u001b[0;34m\u001b[0m\n\u001b[1;32m      1\u001b[0m \u001b[0;32mimport\u001b[0m \u001b[0mre\u001b[0m\u001b[0;34m\u001b[0m\u001b[0;34m\u001b[0m\u001b[0m\n\u001b[1;32m      2\u001b[0m \u001b[0ms\u001b[0m \u001b[0;34m=\u001b[0m \u001b[0minput\u001b[0m\u001b[0;34m(\u001b[0m\u001b[0;34m)\u001b[0m\u001b[0;34m.\u001b[0m\u001b[0msplit\u001b[0m\u001b[0;34m(\u001b[0m\u001b[0;34m\" \"\u001b[0m\u001b[0;34m)\u001b[0m\u001b[0;34m\u001b[0m\u001b[0;34m\u001b[0m\u001b[0m\n\u001b[0;32m----> 3\u001b[0;31m \u001b[0mre\u001b[0m\u001b[0;34m.\u001b[0m\u001b[0mfindall\u001b[0m\u001b[0;34m(\u001b[0m\u001b[0;34m\"\\d+\"\u001b[0m\u001b[0;34m,\u001b[0m\u001b[0ms\u001b[0m\u001b[0;34m)\u001b[0m\u001b[0;34m\u001b[0m\u001b[0;34m\u001b[0m\u001b[0m\n\u001b[0m",
            "\u001b[0;32m/usr/lib/python3.8/re.py\u001b[0m in \u001b[0;36mfindall\u001b[0;34m(pattern, string, flags)\u001b[0m\n\u001b[1;32m    239\u001b[0m \u001b[0;34m\u001b[0m\u001b[0m\n\u001b[1;32m    240\u001b[0m     Empty matches are included in the result.\"\"\"\n\u001b[0;32m--> 241\u001b[0;31m     \u001b[0;32mreturn\u001b[0m \u001b[0m_compile\u001b[0m\u001b[0;34m(\u001b[0m\u001b[0mpattern\u001b[0m\u001b[0;34m,\u001b[0m \u001b[0mflags\u001b[0m\u001b[0;34m)\u001b[0m\u001b[0;34m.\u001b[0m\u001b[0mfindall\u001b[0m\u001b[0;34m(\u001b[0m\u001b[0mstring\u001b[0m\u001b[0;34m)\u001b[0m\u001b[0;34m\u001b[0m\u001b[0;34m\u001b[0m\u001b[0m\n\u001b[0m\u001b[1;32m    242\u001b[0m \u001b[0;34m\u001b[0m\u001b[0m\n\u001b[1;32m    243\u001b[0m \u001b[0;32mdef\u001b[0m \u001b[0mfinditer\u001b[0m\u001b[0;34m(\u001b[0m\u001b[0mpattern\u001b[0m\u001b[0;34m,\u001b[0m \u001b[0mstring\u001b[0m\u001b[0;34m,\u001b[0m \u001b[0mflags\u001b[0m\u001b[0;34m=\u001b[0m\u001b[0;36m0\u001b[0m\u001b[0;34m)\u001b[0m\u001b[0;34m:\u001b[0m\u001b[0;34m\u001b[0m\u001b[0;34m\u001b[0m\u001b[0m\n",
            "\u001b[0;31mTypeError\u001b[0m: expected string or bytes-like object"
          ]
        }
      ]
    },
    {
      "cell_type": "markdown",
      "source": [
        "# Question 61\n",
        "\n",
        "Print a unicode string \"hello world\".\n",
        "\n",
        "Hints:\n",
        "\n",
        "Use u'strings' format to define unicode string.\n",
        "\n"
      ],
      "metadata": {
        "id": "YKSDEJgVtZif"
      }
    },
    {
      "cell_type": "code",
      "source": [
        "unicodeString = u\"hello world!\"\n",
        "print(unicodeString)"
      ],
      "metadata": {
        "colab": {
          "base_uri": "https://localhost:8080/"
        },
        "id": "2sqJoUrKtK0r",
        "outputId": "cf0c4a1f-fdc4-4b21-e061-7528c58637f4"
      },
      "execution_count": 3,
      "outputs": [
        {
          "output_type": "stream",
          "name": "stdout",
          "text": [
            "hello world!\n"
          ]
        }
      ]
    },
    {
      "cell_type": "markdown",
      "source": [
        "# Question 62\n",
        "\n",
        "Write a program to read an ASCII string and to convert it to a unicode string encoded by utf-8.\n",
        "\n",
        "Hints:\n",
        "\n",
        "Use unicode() function to convert."
      ],
      "metadata": {
        "id": "B-CC6434t9GL"
      }
    },
    {
      "cell_type": "code",
      "source": [
        "s = input()\n",
        "u = unicode(s, \"utf-8\")\n",
        "print(u)"
      ],
      "metadata": {
        "colab": {
          "base_uri": "https://localhost:8080/",
          "height": 215
        },
        "id": "UxlAWkhrtk6Z",
        "outputId": "860a00c3-19d8-4009-8ca2-5d65d970bdae"
      },
      "execution_count": 4,
      "outputs": [
        {
          "name": "stdout",
          "output_type": "stream",
          "text": [
            "hello world\n"
          ]
        },
        {
          "output_type": "error",
          "ename": "NameError",
          "evalue": "ignored",
          "traceback": [
            "\u001b[0;31m---------------------------------------------------------------------------\u001b[0m",
            "\u001b[0;31mNameError\u001b[0m                                 Traceback (most recent call last)",
            "\u001b[0;32m<ipython-input-4-f1319820d6a9>\u001b[0m in \u001b[0;36m<module>\u001b[0;34m\u001b[0m\n\u001b[1;32m      1\u001b[0m \u001b[0ms\u001b[0m \u001b[0;34m=\u001b[0m \u001b[0minput\u001b[0m\u001b[0;34m(\u001b[0m\u001b[0;34m)\u001b[0m\u001b[0;34m\u001b[0m\u001b[0;34m\u001b[0m\u001b[0m\n\u001b[0;32m----> 2\u001b[0;31m \u001b[0mu\u001b[0m \u001b[0;34m=\u001b[0m \u001b[0municode\u001b[0m\u001b[0;34m(\u001b[0m\u001b[0ms\u001b[0m\u001b[0;34m,\u001b[0m \u001b[0;34m\"utf-8\"\u001b[0m\u001b[0;34m)\u001b[0m\u001b[0;34m\u001b[0m\u001b[0;34m\u001b[0m\u001b[0m\n\u001b[0m\u001b[1;32m      3\u001b[0m \u001b[0mprint\u001b[0m\u001b[0;34m(\u001b[0m\u001b[0mu\u001b[0m\u001b[0;34m)\u001b[0m\u001b[0;34m\u001b[0m\u001b[0;34m\u001b[0m\u001b[0m\n",
            "\u001b[0;31mNameError\u001b[0m: name 'unicode' is not defined"
          ]
        }
      ]
    },
    {
      "cell_type": "code",
      "source": [],
      "metadata": {
        "id": "KBNhuWx9uQVd"
      },
      "execution_count": null,
      "outputs": []
    },
    {
      "cell_type": "markdown",
      "source": [
        "# Question 63\n",
        "\n",
        "Write a special comment to indicate a Python source code file is in unicode."
      ],
      "metadata": {
        "id": "GaFyANGZvBoi"
      }
    },
    {
      "cell_type": "code",
      "source": [
        "# -*- coding: utf-8 -*-\n",
        "\n",
        "#--------------------------------#"
      ],
      "metadata": {
        "id": "VAhS3XAhvE8r"
      },
      "execution_count": 5,
      "outputs": []
    },
    {
      "cell_type": "code",
      "source": [],
      "metadata": {
        "id": "UeJXB3sYvTT5"
      },
      "execution_count": null,
      "outputs": []
    },
    {
      "cell_type": "markdown",
      "source": [
        "# Question 64\n",
        "\n",
        "Write a program to compute 1/2+2/3+3/4+...+n/n+1 with a given n input by console (n>0).\n",
        "\n",
        "Example: If the following n is given as input to the program:\n",
        "\n",
        "5\n",
        "\n",
        "Then, the output of the program should be:\n",
        "\n",
        "3.55\n",
        "\n",
        "In case of input data being supplied to the question, it should be assumed to be a console input.\n",
        "\n",
        "Hints: Use float() to convert an integer to a float"
      ],
      "metadata": {
        "id": "sjfaPPD-vXHr"
      }
    },
    {
      "cell_type": "code",
      "source": [
        "# Solution:\n",
        "n = int(input())\n",
        "r = 0\n",
        "for i in range(1,n+1):\n",
        "  r = r + i/(i+1)\n",
        "  i += 1\n",
        "print(format(r,\".2f\"))\n",
        "print(round(r,2))"
      ],
      "metadata": {
        "colab": {
          "base_uri": "https://localhost:8080/",
          "height": 392
        },
        "id": "qSuzenRDvYP2",
        "outputId": "0c81115b-92e9-4ea3-f3cc-e5e1dfc9d3a5"
      },
      "execution_count": 17,
      "outputs": [
        {
          "output_type": "error",
          "ename": "KeyboardInterrupt",
          "evalue": "ignored",
          "traceback": [
            "\u001b[0;31m---------------------------------------------------------------------------\u001b[0m",
            "\u001b[0;31mKeyboardInterrupt\u001b[0m                         Traceback (most recent call last)",
            "\u001b[0;32m<ipython-input-17-a1dc821d0835>\u001b[0m in \u001b[0;36m<module>\u001b[0;34m\u001b[0m\n\u001b[1;32m      1\u001b[0m \u001b[0;31m# Solution:\u001b[0m\u001b[0;34m\u001b[0m\u001b[0;34m\u001b[0m\u001b[0;34m\u001b[0m\u001b[0m\n\u001b[0;32m----> 2\u001b[0;31m \u001b[0mn\u001b[0m \u001b[0;34m=\u001b[0m \u001b[0mint\u001b[0m\u001b[0;34m(\u001b[0m\u001b[0minput\u001b[0m\u001b[0;34m(\u001b[0m\u001b[0;34m)\u001b[0m\u001b[0;34m)\u001b[0m\u001b[0;34m\u001b[0m\u001b[0;34m\u001b[0m\u001b[0m\n\u001b[0m\u001b[1;32m      3\u001b[0m \u001b[0mr\u001b[0m \u001b[0;34m=\u001b[0m \u001b[0;36m0\u001b[0m\u001b[0;34m\u001b[0m\u001b[0;34m\u001b[0m\u001b[0m\n\u001b[1;32m      4\u001b[0m \u001b[0;32mfor\u001b[0m \u001b[0mi\u001b[0m \u001b[0;32min\u001b[0m \u001b[0mrange\u001b[0m\u001b[0;34m(\u001b[0m\u001b[0;36m1\u001b[0m\u001b[0;34m,\u001b[0m\u001b[0mn\u001b[0m\u001b[0;34m+\u001b[0m\u001b[0;36m1\u001b[0m\u001b[0;34m)\u001b[0m\u001b[0;34m:\u001b[0m\u001b[0;34m\u001b[0m\u001b[0;34m\u001b[0m\u001b[0m\n\u001b[1;32m      5\u001b[0m   \u001b[0mr\u001b[0m \u001b[0;34m=\u001b[0m \u001b[0mr\u001b[0m \u001b[0;34m+\u001b[0m \u001b[0mi\u001b[0m\u001b[0;34m/\u001b[0m\u001b[0;34m(\u001b[0m\u001b[0mi\u001b[0m\u001b[0;34m+\u001b[0m\u001b[0;36m1\u001b[0m\u001b[0;34m)\u001b[0m\u001b[0;34m\u001b[0m\u001b[0;34m\u001b[0m\u001b[0m\n",
            "\u001b[0;32m/usr/local/lib/python3.8/dist-packages/ipykernel/kernelbase.py\u001b[0m in \u001b[0;36mraw_input\u001b[0;34m(self, prompt)\u001b[0m\n\u001b[1;32m    858\u001b[0m                 \u001b[0;34m\"raw_input was called, but this frontend does not support input requests.\"\u001b[0m\u001b[0;34m\u001b[0m\u001b[0;34m\u001b[0m\u001b[0m\n\u001b[1;32m    859\u001b[0m             )\n\u001b[0;32m--> 860\u001b[0;31m         return self._input_request(str(prompt),\n\u001b[0m\u001b[1;32m    861\u001b[0m             \u001b[0mself\u001b[0m\u001b[0;34m.\u001b[0m\u001b[0m_parent_ident\u001b[0m\u001b[0;34m,\u001b[0m\u001b[0;34m\u001b[0m\u001b[0;34m\u001b[0m\u001b[0m\n\u001b[1;32m    862\u001b[0m             \u001b[0mself\u001b[0m\u001b[0;34m.\u001b[0m\u001b[0m_parent_header\u001b[0m\u001b[0;34m,\u001b[0m\u001b[0;34m\u001b[0m\u001b[0;34m\u001b[0m\u001b[0m\n",
            "\u001b[0;32m/usr/local/lib/python3.8/dist-packages/ipykernel/kernelbase.py\u001b[0m in \u001b[0;36m_input_request\u001b[0;34m(self, prompt, ident, parent, password)\u001b[0m\n\u001b[1;32m    902\u001b[0m             \u001b[0;32mexcept\u001b[0m \u001b[0mKeyboardInterrupt\u001b[0m\u001b[0;34m:\u001b[0m\u001b[0;34m\u001b[0m\u001b[0;34m\u001b[0m\u001b[0m\n\u001b[1;32m    903\u001b[0m                 \u001b[0;31m# re-raise KeyboardInterrupt, to truncate traceback\u001b[0m\u001b[0;34m\u001b[0m\u001b[0;34m\u001b[0m\u001b[0;34m\u001b[0m\u001b[0m\n\u001b[0;32m--> 904\u001b[0;31m                 \u001b[0;32mraise\u001b[0m \u001b[0mKeyboardInterrupt\u001b[0m\u001b[0;34m(\u001b[0m\u001b[0;34m\"Interrupted by user\"\u001b[0m\u001b[0;34m)\u001b[0m \u001b[0;32mfrom\u001b[0m \u001b[0;32mNone\u001b[0m\u001b[0;34m\u001b[0m\u001b[0;34m\u001b[0m\u001b[0m\n\u001b[0m\u001b[1;32m    905\u001b[0m             \u001b[0;32mexcept\u001b[0m \u001b[0mException\u001b[0m \u001b[0;32mas\u001b[0m \u001b[0me\u001b[0m\u001b[0;34m:\u001b[0m\u001b[0;34m\u001b[0m\u001b[0;34m\u001b[0m\u001b[0m\n\u001b[1;32m    906\u001b[0m                 \u001b[0mself\u001b[0m\u001b[0;34m.\u001b[0m\u001b[0mlog\u001b[0m\u001b[0;34m.\u001b[0m\u001b[0mwarning\u001b[0m\u001b[0;34m(\u001b[0m\u001b[0;34m\"Invalid Message:\"\u001b[0m\u001b[0;34m,\u001b[0m \u001b[0mexc_info\u001b[0m\u001b[0;34m=\u001b[0m\u001b[0;32mTrue\u001b[0m\u001b[0;34m)\u001b[0m\u001b[0;34m\u001b[0m\u001b[0;34m\u001b[0m\u001b[0m\n",
            "\u001b[0;31mKeyboardInterrupt\u001b[0m: Interrupted by user"
          ]
        }
      ]
    },
    {
      "cell_type": "code",
      "source": [
        "# Standard Solution:\n",
        "n=int(input())\n",
        "sum=0.0\n",
        "for i in range(1,n+1):\n",
        "    sum += float(float(i)/(i+1))\n",
        "print(sum)"
      ],
      "metadata": {
        "colab": {
          "base_uri": "https://localhost:8080/"
        },
        "id": "W17xe-f_wM0Y",
        "outputId": "d2922ce4-5f16-4194-bce1-07ef847bfd41"
      },
      "execution_count": 18,
      "outputs": [
        {
          "output_type": "stream",
          "name": "stdout",
          "text": [
            "5\n",
            "3.5500000000000003\n"
          ]
        }
      ]
    },
    {
      "cell_type": "markdown",
      "source": [
        "# Question 65\n",
        "\n",
        "Write a program to compute:\n",
        "\n",
        "f(n)=f(n-1)+100 when n>0 and f(0)=1\n",
        "\n",
        "with a given n input by console (n>0).\n",
        "\n",
        "Example: If the following n is given as input to the program:\n",
        "\n",
        "5\n",
        "\n",
        "Then, the output of the program should be:\n",
        "\n",
        "500\n",
        "\n",
        "In case of input data being supplied to the question, it should be assumed to be a console input.\n",
        "\n",
        "Hints: We can define recursive function in Python."
      ],
      "metadata": {
        "id": "K-gui1ejx0GT"
      }
    },
    {
      "cell_type": "code",
      "source": [
        "# Solution:\n",
        "\n",
        "n = int(input())\n",
        "def f(n):\n",
        "  if n == 0:\n",
        "    return 0\n",
        "  if n>0:\n",
        "    return f(n-1) +100\n",
        "\n",
        "f(n)\n"
      ],
      "metadata": {
        "id": "dT4VoIiLxjJH"
      },
      "execution_count": null,
      "outputs": []
    },
    {
      "cell_type": "code",
      "source": [
        "# Standard Solution:\n",
        "def f(n):\n",
        "    if n==0:\n",
        "        return 0\n",
        "    else:\n",
        "        return f(n-1)+100\n",
        "\n",
        "n=int(input())\n",
        "print(f(n))"
      ],
      "metadata": {
        "id": "B3v8BufsyjpC"
      },
      "execution_count": null,
      "outputs": []
    },
    {
      "cell_type": "markdown",
      "source": [
        "# Question 66\n",
        "\n",
        "The Fibonacci Sequence is computed based on the following formula:\n",
        "\n",
        "f(n)=0 if n=0 f(n)=1 if n=1 f(n)=f(n-1)+f(n-2) if n>1\n",
        "\n",
        "Please write a program to compute the value of f(n) with a given n input by console.\n",
        "\n",
        "Example: If the following n is given as input to the program:\n",
        "\n",
        "7\n",
        "\n",
        "Then, the output of the program should be:\n",
        "\n",
        "13\n",
        "\n",
        "In case of input data being supplied to the question, it should be assumed to be a console input.\n",
        "\n",
        "Hints: We can define recursive function in Python."
      ],
      "metadata": {
        "id": "hb5WOGhxy2EI"
      }
    },
    {
      "cell_type": "code",
      "source": [
        "# Solution:\n",
        "n = int(input())\n",
        "\n",
        "def f(n):\n",
        "  if n == 0:\n",
        "    return 0\n",
        "  if n == 1:\n",
        "    return 1\n",
        "  if n>1:\n",
        "    return f(n-1)+f(n-2)\n",
        "\n",
        "print(f(n)) "
      ],
      "metadata": {
        "colab": {
          "base_uri": "https://localhost:8080/"
        },
        "id": "cXv1ee-ly5G3",
        "outputId": "71eadb45-44c9-49cd-90d8-aa86f20da491"
      },
      "execution_count": 2,
      "outputs": [
        {
          "output_type": "stream",
          "name": "stdout",
          "text": [
            "7\n",
            "13\n"
          ]
        }
      ]
    },
    {
      "cell_type": "code",
      "source": [
        "# standard Solution:\n",
        "def f(n):\n",
        "    if n == 0: return 0\n",
        "    elif n == 1: return 1\n",
        "    else: return f(n-1)+f(n-2)\n",
        "\n",
        "n=int(input())\n",
        "print(f(n))"
      ],
      "metadata": {
        "id": "XEX2NVjUnlRG"
      },
      "execution_count": null,
      "outputs": []
    },
    {
      "cell_type": "markdown",
      "source": [
        "# Question 67\n",
        "\n",
        "The Fibonacci Sequence is computed based on the following formula:\n",
        "\n",
        "f(n)=0 if n=0 f(n)=1 if n=1 f(n)=f(n-1)+f(n-2) if n>1\n",
        "\n",
        "Please write a program using list comprehension to print the Fibonacci Sequence in comma separated form with a given n input by console.\n",
        "\n",
        "Example: If the following n is given as input to the program:\n",
        "\n",
        "7\n",
        "\n",
        "Then, the output of the program should be:\n",
        "\n",
        "0,1,1,2,3,5,8,13\n",
        "\n",
        "Hints: We can define recursive function in Python. Use list comprehension to generate a list from an existing list. Use string.join() to join a list of strings.\n",
        "\n",
        "In case of input data being supplied to the question, it should be assumed to be a console input."
      ],
      "metadata": {
        "id": "DWjtUUJqn54F"
      }
    },
    {
      "cell_type": "code",
      "source": [
        "# Solution:\n",
        "\n",
        "n = int(input())\n",
        "li = list()\n",
        "\n",
        "def f(n):\n",
        "  if n == 0: return 0\n",
        "  if n == 1: return 1\n",
        "  if n > 1: return f(n-1)+f(n-2)\n",
        "\n",
        "li = (str(f(x)) for x in range(0, n+1))\n",
        "print(li)\n",
        "print(\",\".join(li)) "
      ],
      "metadata": {
        "colab": {
          "base_uri": "https://localhost:8080/"
        },
        "id": "iTjXEHa_n7NB",
        "outputId": "15e7cfe0-8452-445e-d7cf-c8828849ce8f"
      },
      "execution_count": 6,
      "outputs": [
        {
          "output_type": "stream",
          "name": "stdout",
          "text": [
            "7\n",
            "<generator object <genexpr> at 0x7f12bb88bcf0>\n",
            "0,1,1,2,3,5,8,13\n"
          ]
        }
      ]
    },
    {
      "cell_type": "code",
      "source": [],
      "metadata": {
        "id": "qwyjlUEAojmV"
      },
      "execution_count": null,
      "outputs": []
    },
    {
      "cell_type": "markdown",
      "source": [
        "# Question 68\n",
        "\n",
        "Please write a program using generator to print the even numbers between 0 and n in comma separated form while n is input by console.\n",
        "\n",
        "Example: If the following n is given as input to the program:\n",
        "\n",
        "10\n",
        "\n",
        "Then, the output of the program should be:\n",
        "\n",
        "0,2,4,6,8,10\n",
        "\n",
        "Hints: Use yield to produce the next value in generator.\n",
        "\n",
        "In case of input data being supplied to the question, it should be assumed to be a console input."
      ],
      "metadata": {
        "id": "VRNO0UsycIyR"
      }
    },
    {
      "cell_type": "code",
      "source": [
        "# My Solution:\n",
        "n = int(input())\n",
        "li = [] # use list[] to store numbers\n",
        "for i in range(0,n+1): # use for loop to generate list elements\n",
        "  if i%2==0:\n",
        "    li.append(str(i))\n",
        "print(\",\".join(li)) # print list as separate numbers\n"
      ],
      "metadata": {
        "colab": {
          "base_uri": "https://localhost:8080/"
        },
        "id": "X4IAlmKNcKSB",
        "outputId": "e309e511-e3dc-48fa-ca87-85436192891a"
      },
      "execution_count": 4,
      "outputs": [
        {
          "output_type": "stream",
          "name": "stdout",
          "text": [
            "10\n",
            "0,2,4,6,8,10\n"
          ]
        }
      ]
    },
    {
      "cell_type": "code",
      "source": [
        "# Standard Solution:\n",
        "def EvenGenerator(n): # use while...if...yield...i+= 1 to replace for loop\n",
        "    i=0\n",
        "    while i<=n:\n",
        "        if i%2==0:\n",
        "            yield i\n",
        "        i+=1\n",
        "\n",
        "\n",
        "n=int(input())\n",
        "values = []\n",
        "for i in EvenGenerator(n):\n",
        "    values.append(str(i))\n",
        "\n",
        "print(\",\".join(values))"
      ],
      "metadata": {
        "colab": {
          "base_uri": "https://localhost:8080/"
        },
        "id": "7qIaFjDVc9KN",
        "outputId": "daa046a9-5d1a-4079-a160-a9ed4aa10dcb"
      },
      "execution_count": 7,
      "outputs": [
        {
          "output_type": "stream",
          "name": "stdout",
          "text": [
            "100\n",
            "0,2,4,6,8,10,12,14,16,18,20,22,24,26,28,30,32,34,36,38,40,42,44,46,48,50,52,54,56,58,60,62,64,66,68,70,72,74,76,78,80,82,84,86,88,90,92,94,96,98,100\n"
          ]
        }
      ]
    },
    {
      "cell_type": "markdown",
      "source": [
        "# Question 69\n",
        "\n",
        "Please write a program using generator to print the numbers which can be divisible by 5 and 7 between 0 and n in comma separated form while n is input by console.\n",
        "\n",
        "Example: If the following n is given as input to the program:\n",
        "\n",
        "100\n",
        "\n",
        "Then, the output of the program should be:\n",
        "\n",
        "0,35,70\n",
        "\n",
        "Hints: Use yield to produce the next value in generator.\n",
        "\n",
        "In case of input data being supplied to the question, it should be assumed to be a console input.\n",
        "\n"
      ],
      "metadata": {
        "id": "waxYuTo2ejdj"
      }
    },
    {
      "cell_type": "code",
      "source": [
        "# My Solutions: !!!why is while...if...i+=1 too slow?\n",
        "\n",
        "# Create a generator to judge if the number can be divisible by 5 and 7;\n",
        "def generator(n):\n",
        "  for i in range(0,n+1):\n",
        "    if i%5==0 and i%7==0:\n",
        "      yield i\n",
        "\n",
        "li = []\n",
        "n = int(input())\n",
        "for i in generator(n): # use the generator to judge the number\n",
        "  li.append(str(i))\n",
        "\n",
        "print(\",\".join(li))"
      ],
      "metadata": {
        "colab": {
          "base_uri": "https://localhost:8080/"
        },
        "id": "uaiPoynedijH",
        "outputId": "ca59f3e2-791b-4119-e904-34a01eee38ef"
      },
      "execution_count": 12,
      "outputs": [
        {
          "output_type": "stream",
          "name": "stdout",
          "text": [
            "100\n",
            "0,35,70\n"
          ]
        }
      ]
    },
    {
      "cell_type": "code",
      "source": [
        "# Standard Solution:\n",
        "\n",
        "def NumGenerator(n):\n",
        "    for i in range(n+1):\n",
        "        if i%5==0 and i%7==0:\n",
        "            yield i\n",
        "\n",
        "n=int(input())\n",
        "values = []\n",
        "for i in NumGenerator(n):\n",
        "    values.append(str(i))\n",
        "\n",
        "print(\",\".join(values))"
      ],
      "metadata": {
        "colab": {
          "base_uri": "https://localhost:8080/"
        },
        "id": "6XorWZvUfXtA",
        "outputId": "ac363893-c3d5-41ab-cd02-ca71e156fb13"
      },
      "execution_count": 10,
      "outputs": [
        {
          "output_type": "stream",
          "name": "stdout",
          "text": [
            "100\n",
            "0,35,70\n"
          ]
        }
      ]
    },
    {
      "cell_type": "markdown",
      "source": [
        "# Question 70\n",
        "\n",
        "Please write assert statements to verify that every number in the list [2,4,6,8] is even.\n",
        "\n",
        "Hints: Use \"assert expression\" to make assertion.\n",
        "\n"
      ],
      "metadata": {
        "id": "guMMv8LOg6SP"
      }
    },
    {
      "cell_type": "code",
      "source": [
        "# Standard Solution:\n",
        "\n",
        "li = [2,4,6,8]\n",
        "for i in li:\n",
        "  assert i%2==0"
      ],
      "metadata": {
        "id": "yLnl0X6rf1qL"
      },
      "execution_count": 14,
      "outputs": []
    },
    {
      "cell_type": "code",
      "source": [],
      "metadata": {
        "id": "7z9GCYiphIWz"
      },
      "execution_count": null,
      "outputs": []
    },
    {
      "cell_type": "markdown",
      "source": [
        "# Question 71\n",
        "\n",
        "Please write a program which accepts basic mathematic expression from console and print the evaluation result.\n",
        "\n",
        "Example: If the following string is given as input to the program:\n",
        "\n",
        "35+3\n",
        "\n",
        "Then, the output of the program should be:\n",
        "\n",
        "38\n",
        "\n",
        "Hints: Use eval() to evaluate an expression."
      ],
      "metadata": {
        "id": "5agKEWshi08S"
      }
    },
    {
      "cell_type": "code",
      "source": [
        "exp = input()\n",
        "print(eval(exp))"
      ],
      "metadata": {
        "colab": {
          "base_uri": "https://localhost:8080/"
        },
        "id": "SYbyF8I_i3YW",
        "outputId": "8d33bcc3-ef14-40fb-b74e-8294e6dafa3d"
      },
      "execution_count": 15,
      "outputs": [
        {
          "output_type": "stream",
          "name": "stdout",
          "text": [
            "35+3\n",
            "38\n"
          ]
        }
      ]
    },
    {
      "cell_type": "markdown",
      "source": [
        "# Question 72\n",
        "\n",
        "Please write a binary search function which searches an item in a sorted list. The function should return the index of element to be searched in the list.\n",
        "\n",
        "Hints: Use if/elif to deal with conditions."
      ],
      "metadata": {
        "id": "Y0DeZEstjE9x"
      }
    },
    {
      "cell_type": "code",
      "source": [
        "# Standard Solution: Don't understand; Try to learn math module;\n",
        "\n",
        "import math\n",
        "def bin_search(li, element):\n",
        "    bottom = 0\n",
        "    top = len(li)-1\n",
        "    index = -1\n",
        "    while top>=bottom and index==-1:\n",
        "        mid = int(math.floor((top+bottom)/2.0))\n",
        "        if li[mid]==element:\n",
        "            index = mid\n",
        "        elif li[mid]>element:\n",
        "            top = mid-1\n",
        "        else:\n",
        "            bottom = mid+1\n",
        "\n",
        "    return index\n",
        "\n",
        "li=[2,5,7,9,11,17,222]\n",
        "print(len(li))\n",
        "print(bin_search(li,11))\n",
        "print(bin_search(li,12))"
      ],
      "metadata": {
        "colab": {
          "base_uri": "https://localhost:8080/"
        },
        "id": "5trz-2nfjARh",
        "outputId": "67240cc3-f4fd-40fc-8ac6-b7ff3781691c"
      },
      "execution_count": 18,
      "outputs": [
        {
          "output_type": "stream",
          "name": "stdout",
          "text": [
            "7\n",
            "4\n",
            "-1\n"
          ]
        }
      ]
    },
    {
      "cell_type": "markdown",
      "source": [
        "# Question 73\n",
        "\n",
        "Please write a binary search function which searches an item in a sorted list. The function should return the index of element to be searched in the list.\n",
        "\n",
        "Hints: Use if/elif to deal with conditions.\n",
        "\n"
      ],
      "metadata": {
        "id": "hIQhpaMxj_Wg"
      }
    },
    {
      "cell_type": "code",
      "source": [
        "import math\n",
        "def bin_search(li, element):\n",
        "    bottom = 0\n",
        "    top = len(li)-1\n",
        "    index = -1\n",
        "    while top>=bottom and index==-1:\n",
        "        mid = int(math.floor((top+bottom)/2.0))\n",
        "        if li[mid]==element:\n",
        "            index = mid\n",
        "        elif li[mid]>element:\n",
        "            top = mid-1\n",
        "        else:\n",
        "            bottom = mid+1\n",
        "\n",
        "    return index\n",
        "\n",
        "li=[2,5,7,9,11,17,222]\n",
        "print(bin_search(li,11))\n",
        "print(bin_search(li,12))"
      ],
      "metadata": {
        "colab": {
          "base_uri": "https://localhost:8080/"
        },
        "id": "UP1gFbQtjhHv",
        "outputId": "8f9fbbce-520c-4838-bf3c-b5ea7498b2c0"
      },
      "execution_count": 19,
      "outputs": [
        {
          "output_type": "stream",
          "name": "stdout",
          "text": [
            "4\n",
            "-1\n"
          ]
        }
      ]
    },
    {
      "cell_type": "markdown",
      "source": [
        "# Question 74\n",
        "\n",
        "Please generate a random float where the value is between 10 and 100 using Python math module.\n",
        "\n",
        "Hints: Use random.random() to generate a random float in [0,1].\n",
        "\n"
      ],
      "metadata": {
        "id": "ruPB3d-2kIf_"
      }
    },
    {
      "cell_type": "code",
      "source": [
        "# why does this could generate a random float between 10 and 100?\n",
        "import random\n",
        "print(random.random()*100)"
      ],
      "metadata": {
        "colab": {
          "base_uri": "https://localhost:8080/"
        },
        "id": "r_uK7dT0kKMi",
        "outputId": "5dc48629-34f9-4e03-a4d9-bf4f611241ea"
      },
      "execution_count": 30,
      "outputs": [
        {
          "output_type": "stream",
          "name": "stdout",
          "text": [
            "88.79685786392747\n"
          ]
        }
      ]
    },
    {
      "cell_type": "markdown",
      "source": [
        "# Question 75\n",
        "\n",
        "Please generate a random float where the value is between 5 and 95 using Python math module.\n",
        "\n",
        "Hints: Use random.random() to generate a random float in [0,1]."
      ],
      "metadata": {
        "id": "aaw6Kn7EkmhL"
      }
    },
    {
      "cell_type": "code",
      "source": [
        "# Generate a random float: how to use this random.random()\n",
        "import random\n",
        "print(random.random()*(95-5))"
      ],
      "metadata": {
        "colab": {
          "base_uri": "https://localhost:8080/"
        },
        "id": "Jrlna_xDkW0w",
        "outputId": "387b11ad-27e1-4211-b6f0-4158999dc342"
      },
      "execution_count": 35,
      "outputs": [
        {
          "output_type": "stream",
          "name": "stdout",
          "text": [
            "80.87991920046844\n"
          ]
        }
      ]
    },
    {
      "cell_type": "code",
      "source": [],
      "metadata": {
        "id": "DhqtDtC-kvQc"
      },
      "execution_count": null,
      "outputs": []
    },
    {
      "cell_type": "markdown",
      "source": [
        "# Question 76\n",
        "\n",
        "Please write a program to output a random even number between 0 and 10 inclusive using random module and list comprehension.\n",
        "\n",
        "Hints: Use random.choice() to a random element from a list."
      ],
      "metadata": {
        "id": "mFu7Ck7cljGu"
      }
    },
    {
      "cell_type": "code",
      "source": [
        "# Standard Solution\n",
        "\n",
        "import random\n",
        "print(random.choice([i for i in range(11) if i%2==0]))"
      ],
      "metadata": {
        "colab": {
          "base_uri": "https://localhost:8080/"
        },
        "id": "sHAzucQ3lpw_",
        "outputId": "c028b8ee-38d8-4925-90f7-952d0eeb64d4"
      },
      "execution_count": 37,
      "outputs": [
        {
          "output_type": "stream",
          "name": "stdout",
          "text": [
            "6\n"
          ]
        }
      ]
    },
    {
      "cell_type": "code",
      "source": [],
      "metadata": {
        "id": "pDYiNWZvlviI"
      },
      "execution_count": null,
      "outputs": []
    },
    {
      "cell_type": "markdown",
      "source": [
        "# Question 77\n",
        "\n",
        "Please write a program to output a random number, which is divisible by 5 and 7, between 0 and 10 inclusive using random module and list comprehension.\n",
        "\n",
        "Hints: Use random.choice() to a random element from a list."
      ],
      "metadata": {
        "id": "egR5vQLnl7Jp"
      }
    },
    {
      "cell_type": "code",
      "source": [
        "# Standard Solution\n",
        "\n",
        "import random\n",
        "print(random.choice([i for i in range(200) if i%5==0 and i%7==0]))"
      ],
      "metadata": {
        "colab": {
          "base_uri": "https://localhost:8080/"
        },
        "id": "NxjD5n9Dl9ev",
        "outputId": "176d6d48-fee7-4734-eeae-30b7cf785da6"
      },
      "execution_count": 43,
      "outputs": [
        {
          "output_type": "stream",
          "name": "stdout",
          "text": [
            "175\n"
          ]
        }
      ]
    },
    {
      "cell_type": "code",
      "source": [],
      "metadata": {
        "id": "2oZ6BOx8mGmY"
      },
      "execution_count": null,
      "outputs": []
    },
    {
      "cell_type": "markdown",
      "source": [
        "# Question 78\n",
        "\n",
        "Please write a program to generate a list with 5 random numbers between 100 and 200 inclusive.\n",
        "\n",
        "Hints: Use random.sample() to generate a list of random values."
      ],
      "metadata": {
        "id": "WMsUil1mmUPI"
      }
    },
    {
      "cell_type": "code",
      "source": [
        "import random\n",
        "# this is the 2nd way to generate a certain number of random numbers within a range\n",
        "print(random.sample(range(100),5))"
      ],
      "metadata": {
        "colab": {
          "base_uri": "https://localhost:8080/"
        },
        "id": "DQjDImowmXJs",
        "outputId": "69939afd-769d-4548-add0-fd64d6dfc0c1"
      },
      "execution_count": 44,
      "outputs": [
        {
          "output_type": "stream",
          "name": "stdout",
          "text": [
            "[67, 72, 61, 23, 48]\n"
          ]
        }
      ]
    },
    {
      "cell_type": "markdown",
      "source": [
        "Question 79\n",
        "\n",
        "Please write a program to randomly generate a list with 5 even numbers between 100 and 200 inclusive.\n",
        "\n",
        "Hints: Use random.sample() to generate a list of random values.\n",
        "\n"
      ],
      "metadata": {
        "id": "B_MPObA3mi1l"
      }
    },
    {
      "cell_type": "code",
      "source": [
        "# My solution\n",
        "import random\n",
        "# this is the 2nd way to generate a certain number of random numbers within a range\n",
        "print(random.sample([x for x in range(100,201) if i%2 ==0],5))"
      ],
      "metadata": {
        "colab": {
          "base_uri": "https://localhost:8080/"
        },
        "id": "XsAnWP2nmmv1",
        "outputId": "43107955-3bc3-4db4-c13a-bed37b4411af"
      },
      "execution_count": 49,
      "outputs": [
        {
          "output_type": "stream",
          "name": "stdout",
          "text": [
            "[163, 137, 138, 169, 120]\n"
          ]
        }
      ]
    },
    {
      "cell_type": "code",
      "source": [],
      "metadata": {
        "id": "wxxzIqjlmva_"
      },
      "execution_count": null,
      "outputs": []
    },
    {
      "cell_type": "markdown",
      "source": [
        "# Question 80\n",
        "\n",
        "Please write a program to randomly generate a list with 5 numbers, which are divisible by 5 and 7 , between 1 and 1000 inclusive.\n",
        "\n",
        "Hints: Use random.sample() to generate a list of random values.\n",
        "\n"
      ],
      "metadata": {
        "id": "9A0hNu2cnSJE"
      }
    },
    {
      "cell_type": "code",
      "source": [
        "# my solution\n",
        "import random\n",
        "print(random.sample([x for x in range(1,1001) if x%5==0 and x%7==0],5))"
      ],
      "metadata": {
        "colab": {
          "base_uri": "https://localhost:8080/"
        },
        "id": "Vzowf45vnVAq",
        "outputId": "b49b3e85-25f2-4136-ac95-0f31960e5358"
      },
      "execution_count": 51,
      "outputs": [
        {
          "output_type": "stream",
          "name": "stdout",
          "text": [
            "[490, 175, 385, 280, 945]\n"
          ]
        }
      ]
    },
    {
      "cell_type": "markdown",
      "source": [
        "# Question 81\n",
        "\n",
        "Please write a program to randomly print a integer number between 7 and 15 inclusive.\n",
        "\n",
        "Hints: Use random.randrange() to a random integer in a given range."
      ],
      "metadata": {
        "id": "MTBhlYRWnse2"
      }
    },
    {
      "cell_type": "code",
      "source": [
        "# My Solution:\n",
        "\n",
        "import random\n",
        "print(random.randrange(7,16))"
      ],
      "metadata": {
        "colab": {
          "base_uri": "https://localhost:8080/"
        },
        "id": "8s3B6uPNnvuM",
        "outputId": "8887030c-6c96-4458-a585-36347eb51b91"
      },
      "execution_count": 52,
      "outputs": [
        {
          "output_type": "stream",
          "name": "stdout",
          "text": [
            "11\n"
          ]
        }
      ]
    },
    {
      "cell_type": "code",
      "source": [],
      "metadata": {
        "id": "e7bx-D2aoQGK"
      },
      "execution_count": null,
      "outputs": []
    },
    {
      "cell_type": "markdown",
      "source": [
        "# Question 82\n",
        "\n",
        "Please write a program to compress and decompress the string \"hello world!hello world!hello world!hello world!\".\n",
        "\n",
        "Hints: Use zlib.compress() and zlib.decompress() to compress and decompress a string."
      ],
      "metadata": {
        "id": "xCUl3mJhoTIz"
      }
    },
    {
      "cell_type": "code",
      "source": [
        "# Standard Solution:\n",
        "\n",
        "import zlib\n",
        "s = b'hello world!hello world!hello world!hello world!'\n",
        "t = zlib.compress(s)\n",
        "print(t)\n",
        "print(zlib.decompress(t))"
      ],
      "metadata": {
        "colab": {
          "base_uri": "https://localhost:8080/"
        },
        "id": "FoiYh6MqoW4o",
        "outputId": "a5c387d4-6b07-48ba-a27b-5192c2e2be56"
      },
      "execution_count": 53,
      "outputs": [
        {
          "output_type": "stream",
          "name": "stdout",
          "text": [
            "b'x\\x9c\\xcbH\\xcd\\xc9\\xc9W(\\xcf/\\xcaIQ\\xcc \\x82\\r\\x00\\xbd[\\x11\\xf5'\n",
            "b'hello world!hello world!hello world!hello world!'\n"
          ]
        }
      ]
    },
    {
      "cell_type": "markdown",
      "source": [
        "# Question 83\n",
        "\n",
        "Please write a program to print the running time of execution of \"1+1\" for 100 times.\n",
        "\n",
        "Hints: Use timeit() function to measure the running time."
      ],
      "metadata": {
        "id": "pE9z0m7nosR7"
      }
    },
    {
      "cell_type": "code",
      "source": [
        "from timeit import Timer\n",
        "t = Timer(\"for i in range(100):1+1\")\n",
        "# This is an interesting program to run 100 times. They are supposed to be in one line.\n",
        "print(t.timeit())"
      ],
      "metadata": {
        "colab": {
          "base_uri": "https://localhost:8080/"
        },
        "id": "RYxQMftRokG4",
        "outputId": "de268c1d-8f63-460e-8775-84ad259a78ea"
      },
      "execution_count": 55,
      "outputs": [
        {
          "output_type": "stream",
          "name": "stdout",
          "text": [
            "2.0344010989997514\n"
          ]
        }
      ]
    },
    {
      "cell_type": "code",
      "source": [],
      "metadata": {
        "id": "KjMhgckto85V"
      },
      "execution_count": null,
      "outputs": []
    },
    {
      "cell_type": "markdown",
      "source": [
        "# Question 84\n",
        "\n",
        "Please write a program to shuffle and print the list [3,6,7,8].\n",
        "\n",
        "Hints: Use shuffle() function to shuffle a list.\n",
        "\n"
      ],
      "metadata": {
        "id": "EL33_qC6pPiU"
      }
    },
    {
      "cell_type": "code",
      "source": [
        "# Standard Solution: randomly to print elements\n",
        "from random import shuffle\n",
        "li = [3,6,7,8]\n",
        "shuffle(li)\n",
        "print(li)"
      ],
      "metadata": {
        "colab": {
          "base_uri": "https://localhost:8080/"
        },
        "id": "YRNclGT7pQoy",
        "outputId": "d8e3af67-4ad0-45bc-e2bb-0836584193a3"
      },
      "execution_count": 56,
      "outputs": [
        {
          "output_type": "stream",
          "name": "stdout",
          "text": [
            "[6, 8, 3, 7]\n"
          ]
        }
      ]
    },
    {
      "cell_type": "markdown",
      "source": [
        "# Question 85\n",
        "\n",
        "Please write a program to shuffle and print the list [3,6,7,8].\n",
        "\n",
        "Hints: Use shuffle() function to shuffle a list."
      ],
      "metadata": {
        "id": "b_2avgOHqADn"
      }
    },
    {
      "cell_type": "code",
      "source": [
        "from random import shuffle\n",
        "li = [3,6,7,8]\n",
        "shuffle(li) # shuffle the list and rearrange the list\n",
        "print(li)"
      ],
      "metadata": {
        "colab": {
          "base_uri": "https://localhost:8080/"
        },
        "id": "9T-I-AG8p6iq",
        "outputId": "da54184d-3a78-46f9-be77-c9fca0dabda7"
      },
      "execution_count": 59,
      "outputs": [
        {
          "output_type": "stream",
          "name": "stdout",
          "text": [
            "[7, 8, 3, 6]\n"
          ]
        }
      ]
    },
    {
      "cell_type": "markdown",
      "source": [
        "# Question 86\n",
        "\n",
        "Please write a program to generate all sentences where subject is in [\"I\", \"You\"] and verb is in [\"Play\", \"Love\"] and the object is in [\"Hockey\",\"Football\"].\n",
        "\n",
        "Hints: Use list[index] notation to get a element from a list."
      ],
      "metadata": {
        "id": "-R8FJ1rtqYPc"
      }
    },
    {
      "cell_type": "code",
      "source": [
        "# Standard Solution:\n",
        "sub =  [\"I\", \"You\"] \n",
        "verbs = [\"Play\", \"Love\"] \n",
        "objects = [\"Hockey\",\"Football\"]\n",
        "for i in range(len(sub)):\n",
        "  for j in range(len(verbs)):\n",
        "    for k in range(len(objects)):\n",
        "      sentence = \"%s %s %s.\" % (sub[i],verbs[j], objects[k])\n",
        "      print(sentence)"
      ],
      "metadata": {
        "colab": {
          "base_uri": "https://localhost:8080/"
        },
        "id": "VPqlQy0gqKYL",
        "outputId": "a9722b0f-1783-4e44-8e61-4ef375752354"
      },
      "execution_count": 62,
      "outputs": [
        {
          "output_type": "stream",
          "name": "stdout",
          "text": [
            "I Play Hockey.\n",
            "I Play Football.\n",
            "I Love Hockey.\n",
            "I Love Football.\n",
            "You Play Hockey.\n",
            "You Play Football.\n",
            "You Love Hockey.\n",
            "You Love Football.\n"
          ]
        }
      ]
    },
    {
      "cell_type": "markdown",
      "source": [
        "# Question 87\n",
        "\n",
        "Please write a program to print the list after removing delete even numbers in [5,6,77,45,22,12,24].\n",
        "\n",
        "Hints: Use list comprehension to delete a bunch of element from a list."
      ],
      "metadata": {
        "id": "BZ4PKigorSZM"
      }
    },
    {
      "cell_type": "code",
      "source": [
        "# Standard Solution:\n",
        "\n",
        "li = [5,6,77,45,22,12,24]\n",
        "li = [x for x in li if x%2!=0]\n",
        "print(li)"
      ],
      "metadata": {
        "colab": {
          "base_uri": "https://localhost:8080/"
        },
        "id": "rnTijHzKrE1t",
        "outputId": "262d8d94-b563-45fb-b2ca-c6704318c7bf"
      },
      "execution_count": 63,
      "outputs": [
        {
          "output_type": "stream",
          "name": "stdout",
          "text": [
            "[5, 77, 45]\n"
          ]
        }
      ]
    },
    {
      "cell_type": "markdown",
      "source": [
        "# Question 88\n",
        "\n",
        "By using list comprehension, please write a program to print the list after removing delete numbers which are divisible by 5 and 7 in [12,24,35,70,88,120,155].\n",
        "\n",
        "Hints: Use list comprehension to delete a bunch of element from a list.\n",
        "\n"
      ],
      "metadata": {
        "id": "okb06laErtdt"
      }
    },
    {
      "cell_type": "code",
      "source": [
        "li = [12,24,35,70,88,120,155]\n",
        "li = [x for x in li if x%5!=0 and x%7!=0]\n",
        "print(li)"
      ],
      "metadata": {
        "colab": {
          "base_uri": "https://localhost:8080/"
        },
        "id": "qUmRUGryrqTL",
        "outputId": "f17ae0df-0003-433d-d29e-0deb6bfed121"
      },
      "execution_count": 64,
      "outputs": [
        {
          "output_type": "stream",
          "name": "stdout",
          "text": [
            "[12, 24, 88]\n"
          ]
        }
      ]
    },
    {
      "cell_type": "markdown",
      "source": [
        "# Question 89\n",
        "\n",
        "By using list comprehension, please write a program to print the list after removing the 0th, 2nd, 4th,6th numbers in [12,24,35,70,88,120,155].\n",
        "\n",
        "Hints: Use list comprehension to delete a bunch of element from a list. Use enumerate() to get (index, value) tuple."
      ],
      "metadata": {
        "id": "R9e2xdnMsBIL"
      }
    },
    {
      "cell_type": "code",
      "source": [
        "# Standard Solution:\n",
        "li = [12,24,35,70,88,120,155]\n",
        "li = [x for (i,x) in enumerate(li) if i%2!=0]\n",
        "print(li)"
      ],
      "metadata": {
        "colab": {
          "base_uri": "https://localhost:8080/"
        },
        "id": "6y-3g51yr9rj",
        "outputId": "ef6a1bbf-c578-4155-c23e-275a7042c3f2"
      },
      "execution_count": 65,
      "outputs": [
        {
          "output_type": "stream",
          "name": "stdout",
          "text": [
            "[24, 70, 120]\n"
          ]
        }
      ]
    },
    {
      "cell_type": "markdown",
      "source": [
        "# Question 90\n",
        "\n",
        "By using list comprehension, please write a program generate a 358 3D array whose each element is 0.\n",
        "\n",
        "Hints: Use list comprehension to make an array."
      ],
      "metadata": {
        "id": "tTsS4NomsjHX"
      }
    },
    {
      "cell_type": "code",
      "source": [
        "# Standard Solution:\n",
        "#3D array needs to practice more.\n",
        "array = [[ [0 for col in range(8)] for col in range(5)] for row in range(3)]\n",
        "print(array)"
      ],
      "metadata": {
        "colab": {
          "base_uri": "https://localhost:8080/"
        },
        "id": "bo3-roMlsbuQ",
        "outputId": "747cd769-fbc8-4034-f387-7560878db21a"
      },
      "execution_count": 66,
      "outputs": [
        {
          "output_type": "stream",
          "name": "stdout",
          "text": [
            "[[[0, 0, 0, 0, 0, 0, 0, 0], [0, 0, 0, 0, 0, 0, 0, 0], [0, 0, 0, 0, 0, 0, 0, 0], [0, 0, 0, 0, 0, 0, 0, 0], [0, 0, 0, 0, 0, 0, 0, 0]], [[0, 0, 0, 0, 0, 0, 0, 0], [0, 0, 0, 0, 0, 0, 0, 0], [0, 0, 0, 0, 0, 0, 0, 0], [0, 0, 0, 0, 0, 0, 0, 0], [0, 0, 0, 0, 0, 0, 0, 0]], [[0, 0, 0, 0, 0, 0, 0, 0], [0, 0, 0, 0, 0, 0, 0, 0], [0, 0, 0, 0, 0, 0, 0, 0], [0, 0, 0, 0, 0, 0, 0, 0], [0, 0, 0, 0, 0, 0, 0, 0]]]\n"
          ]
        }
      ]
    },
    {
      "cell_type": "markdown",
      "source": [
        "# Question 91\n",
        "\n",
        "By using list comprehension, please write a program to print the list after removing the 0th,4th,5th numbers in [12,24,35,70,88,120,155].\n",
        "\n",
        "Hints: Use list comprehension to delete a bunch of element from a list. Use enumerate() to get (index, value) tuple."
      ],
      "metadata": {
        "id": "sedrlskDs-vA"
      }
    },
    {
      "cell_type": "code",
      "source": [
        "# Standard Solution:\n",
        "li = [12,24,35,70,88,120,155]\n",
        "li = [x for (i,x)in enumerate(li) if i not in (0,4,5)]\n",
        "print(li)"
      ],
      "metadata": {
        "colab": {
          "base_uri": "https://localhost:8080/"
        },
        "id": "8BEnJ8_Fsw1r",
        "outputId": "5d534b84-1f9e-42da-9cd5-88de9affb7c8"
      },
      "execution_count": 68,
      "outputs": [
        {
          "output_type": "stream",
          "name": "stdout",
          "text": [
            "[24, 35, 70, 155]\n"
          ]
        }
      ]
    },
    {
      "cell_type": "markdown",
      "source": [
        "# Question 92\n",
        "\n",
        "By using list comprehension, please write a program to print the list after removing the value 24 in [12,24,35,24,88,120,155].\n",
        "\n",
        "Hints: Use list's remove method to delete a value."
      ],
      "metadata": {
        "id": "EFDwvSQJtfTr"
      }
    },
    {
      "cell_type": "code",
      "source": [
        "# Standard Solution:\n",
        "li = [12,24,35,24,88,120,155]\n",
        "li = [x for x in li if x!=24]\n",
        "print(li)"
      ],
      "metadata": {
        "colab": {
          "base_uri": "https://localhost:8080/"
        },
        "id": "mf72XpxQtR8u",
        "outputId": "10ed8704-046c-4cee-822e-81ad91b9b299"
      },
      "execution_count": 69,
      "outputs": [
        {
          "output_type": "stream",
          "name": "stdout",
          "text": [
            "[12, 35, 88, 120, 155]\n"
          ]
        }
      ]
    },
    {
      "cell_type": "code",
      "source": [],
      "metadata": {
        "id": "ntwvBROdtt2S"
      },
      "execution_count": null,
      "outputs": []
    },
    {
      "cell_type": "markdown",
      "source": [
        "# Question 93\n",
        "\n",
        "With two given lists [1,3,6,78,35,55] and [12,24,35,24,88,120,155], write a program to make a list whose elements are intersection of the above given lists.\n",
        "\n",
        "Hints: Use set() and \"&=\" to do set intersection operation.\n",
        "\n"
      ],
      "metadata": {
        "id": "uzDAFP01tvHw"
      }
    },
    {
      "cell_type": "code",
      "source": [
        "# Standard Solution: need to learn set() and &=\n",
        "li1 = set([1,3,6,78,35,55])\n",
        "li2 = set([12,24,35,24,88,120,155])\n",
        "li1 &= li2\n",
        "li = list(li1)\n",
        "print(li)"
      ],
      "metadata": {
        "colab": {
          "base_uri": "https://localhost:8080/"
        },
        "id": "V6sm5g-8typK",
        "outputId": "362ba668-0d25-4f66-97a5-75378b6399f0"
      },
      "execution_count": 72,
      "outputs": [
        {
          "output_type": "stream",
          "name": "stdout",
          "text": [
            "[35]\n"
          ]
        }
      ]
    },
    {
      "cell_type": "markdown",
      "source": [
        "# Question 94\n",
        "\n",
        "With a given list [12,24,35,24,88,120,155,88,120,155], write a program to print this list after removing all duplicate values with original order reserved.\n",
        "\n",
        "Hints: Use set() to store a number of values without duplicate.\n",
        "\n"
      ],
      "metadata": {
        "id": "nCibh3tZuXVa"
      }
    },
    {
      "cell_type": "code",
      "source": [
        "# Standard Solution: good example need to learn\n",
        "\n",
        "# What is the difference between set and list????\n",
        "\n",
        "def removeDuplicate(li):\n",
        "  newli = []\n",
        "  seen = set()\n",
        "  for item in li:\n",
        "    if item not in seen:\n",
        "      seen.add(item)\n",
        "      newli.append(item)\n",
        "\n",
        "  return newli\n",
        "li = [12,24,35,24,88,120,155,88,120,155]\n",
        "print(removeDuplicate(li))"
      ],
      "metadata": {
        "colab": {
          "base_uri": "https://localhost:8080/"
        },
        "id": "YqadkeChuH-7",
        "outputId": "d5374ac8-96ee-4f48-fd68-c1f9613c54c7"
      },
      "execution_count": 75,
      "outputs": [
        {
          "output_type": "stream",
          "name": "stdout",
          "text": [
            "[12, 24, 35, 88, 120, 155]\n"
          ]
        }
      ]
    },
    {
      "cell_type": "code",
      "source": [
        "def removeDuplicate( li ):\n",
        "    newli=[]\n",
        "    seen = set()\n",
        "    for item in li:\n",
        "        if item not in seen:\n",
        "            seen.add( item )\n",
        "            newli.append(item)\n",
        "\n",
        "    return newli\n",
        "\n",
        "li=[12,24,35,24,88,120,155,88,120,155]\n",
        "print(removeDuplicate(li))"
      ],
      "metadata": {
        "colab": {
          "base_uri": "https://localhost:8080/"
        },
        "id": "JJLBo2RxvEf7",
        "outputId": "69554b12-5a24-4d98-c78d-372c807131f2"
      },
      "execution_count": 74,
      "outputs": [
        {
          "output_type": "stream",
          "name": "stdout",
          "text": [
            "[12, 24, 35, 88, 120, 155]\n"
          ]
        }
      ]
    },
    {
      "cell_type": "markdown",
      "source": [
        "# Question 95\n",
        "\n",
        "Define a class Person and its two child classes: Male and Female. All classes have a method \"getGender\" which can print \"Male\" for Male class and \"Female\" for Female class.\n",
        "\n",
        "Hints: Use Subclass(Parentclass) to define a child class."
      ],
      "metadata": {
        "id": "JJs10Z8VviiJ"
      }
    },
    {
      "cell_type": "code",
      "source": [
        "# Standard Solution but not very correct.\n",
        "\n",
        "class Person:\n",
        "    def getGender( self ):\n",
        "        return \"Unknown\"\n",
        "\n",
        "class Male(Person):\n",
        "    def getGender( self ):\n",
        "        return \"Male\"\n",
        "\n",
        "class Female(Person):\n",
        "    def getGender( self ):\n",
        "        return \"Female\"\n",
        "\n",
        "aMale = Male()\n",
        "aFemale= Female()\n",
        "\n",
        "aMale.getGender()\n",
        "aFemale.getGender()"
      ],
      "metadata": {
        "colab": {
          "base_uri": "https://localhost:8080/",
          "height": 37
        },
        "id": "iNCzUKlTvNVb",
        "outputId": "fa6927e8-5e7d-4dd3-b44e-dfdcfe0a6d93"
      },
      "execution_count": 81,
      "outputs": [
        {
          "output_type": "execute_result",
          "data": {
            "text/plain": [
              "'Female'"
            ],
            "application/vnd.google.colaboratory.intrinsic+json": {
              "type": "string"
            }
          },
          "metadata": {},
          "execution_count": 81
        }
      ]
    },
    {
      "cell_type": "markdown",
      "source": [
        "# Question 96\n",
        "\n",
        "Please write a program which count and print the numbers of each character in a string input by console.\n",
        "\n",
        "Example: If the following string is given as input to the program:\n",
        "\n",
        "abcdefgabc\n",
        "\n",
        "Then, the output of the program should be:\n",
        "\n",
        "a,2 c,2 b,2 e,1 d,1 g,1 f,1\n",
        "\n",
        "Hints: Use dict to store key/value pairs. Use dict.get() method to lookup a key with default value."
      ],
      "metadata": {
        "id": "8kFkJZknwucU"
      }
    },
    {
      "cell_type": "code",
      "source": [
        "# Standard Solution: # need to understand dict() and join() method\n",
        "\n",
        "dic = {}\n",
        "s=input()\n",
        "for s in s:\n",
        "    dic[s] = dic.get(s,0)+1\n",
        "print('\\n'.join(['%s,%s' % (k, v) for k, v in dic.items()]))"
      ],
      "metadata": {
        "colab": {
          "base_uri": "https://localhost:8080/"
        },
        "id": "B4Y4qLtqv09F",
        "outputId": "ea08b773-e706-4143-ef9d-7b07aa620d55"
      },
      "execution_count": 82,
      "outputs": [
        {
          "output_type": "stream",
          "name": "stdout",
          "text": [
            "abcdefgabc\n",
            "a,2\n",
            "b,2\n",
            "c,2\n",
            "d,1\n",
            "e,1\n",
            "f,1\n",
            "g,1\n"
          ]
        }
      ]
    },
    {
      "cell_type": "markdown",
      "source": [
        "# Question 97\n",
        "\n",
        "Please write a program which accepts a string from console and print it in reverse order.\n",
        "\n",
        "Example: If the following string is given as input to the program:\n",
        "\n",
        "rise to vote sir\n",
        "\n",
        "Then, the output of the program should be:\n",
        "\n",
        "ris etov ot esir\n",
        "\n",
        "Hints: Use list[::-1] to iterate a list in a reverse order."
      ],
      "metadata": {
        "id": "rN-lgI4xxVIq"
      }
    },
    {
      "cell_type": "code",
      "source": [
        "# Standard Solution:\n",
        "\n",
        "s=input()\n",
        "s = s[::-1] # This is how to dao zhe xie. Do some research.\n",
        "print(s)"
      ],
      "metadata": {
        "colab": {
          "base_uri": "https://localhost:8080/"
        },
        "id": "qVS4Rjb_xEaR",
        "outputId": "b21c8ceb-b774-4f5b-b612-2ad61212d74b"
      },
      "execution_count": 83,
      "outputs": [
        {
          "output_type": "stream",
          "name": "stdout",
          "text": [
            "rise to vote sir\n",
            "ris etov ot esir\n"
          ]
        }
      ]
    },
    {
      "cell_type": "markdown",
      "source": [
        "# Question 98\n",
        "\n",
        "Please write a program which accepts a string from console and print the characters that have even indexes.\n",
        "\n",
        "Example: If the following string is given as input to the program:\n",
        "\n",
        "H1e2l3l4o5w6o7r8l9d\n",
        "\n",
        "Then, the output of the program should be:\n",
        "\n",
        "Helloworld\n",
        "\n",
        "Hints: Use list[::2] to iterate a list by step 2."
      ],
      "metadata": {
        "id": "OqUxL2o5xqlH"
      }
    },
    {
      "cell_type": "code",
      "source": [
        "# Standard Solution:\n",
        "\n",
        "s=input()\n",
        "s = s[::2] # This is how to dao zhe xie. Do some research.\n",
        "print(s)"
      ],
      "metadata": {
        "colab": {
          "base_uri": "https://localhost:8080/"
        },
        "id": "YPDhAs_xxhr8",
        "outputId": "614e7b0c-d2f9-462a-d89f-105bc507a3e6"
      },
      "execution_count": 85,
      "outputs": [
        {
          "output_type": "stream",
          "name": "stdout",
          "text": [
            "H1e2l3l4o5w6o7r8l9d\n",
            "Helloworld\n"
          ]
        }
      ]
    },
    {
      "cell_type": "code",
      "source": [],
      "metadata": {
        "id": "BuqrVpPfx280"
      },
      "execution_count": null,
      "outputs": []
    },
    {
      "cell_type": "markdown",
      "source": [
        "# Question 99\n",
        "\n",
        "Please write a program which prints all permutations of [1,2,3]\n",
        "\n",
        "Hints: Use itertools.permutations() to get permutations of list.\n",
        "\n"
      ],
      "metadata": {
        "id": "_nGTDSaDx-ON"
      }
    },
    {
      "cell_type": "code",
      "source": [
        "# Standard Solution: dont actually know what is permutation.\n",
        "import itertools\n",
        "print(list(itertools.permutations([1,2,3])))"
      ],
      "metadata": {
        "colab": {
          "base_uri": "https://localhost:8080/"
        },
        "id": "neskNp76yBCR",
        "outputId": "db266a82-84da-4a50-ad35-e29774999853"
      },
      "execution_count": 86,
      "outputs": [
        {
          "output_type": "stream",
          "name": "stdout",
          "text": [
            "[(1, 2, 3), (1, 3, 2), (2, 1, 3), (2, 3, 1), (3, 1, 2), (3, 2, 1)]\n"
          ]
        }
      ]
    },
    {
      "cell_type": "code",
      "source": [],
      "metadata": {
        "id": "46qhqGm0yGF_"
      },
      "execution_count": null,
      "outputs": []
    },
    {
      "cell_type": "markdown",
      "source": [
        "# Question 100\n",
        "\n",
        "Write a program to solve a classic ancient Chinese puzzle: We count 35 heads and 94 legs among the chickens and rabbits in a farm. How many rabbits and how many chickens do we have?\n",
        "\n",
        "Hint: Use for loop to iterate all possible solutions.\n",
        "\n"
      ],
      "metadata": {
        "id": "jhwGyQivyQMp"
      }
    },
    {
      "cell_type": "code",
      "source": [
        "y = 12\n",
        "x= 23\n",
        "print(y)\n",
        "print(x)"
      ],
      "metadata": {
        "colab": {
          "base_uri": "https://localhost:8080/"
        },
        "id": "J3Qht-28ySzb",
        "outputId": "61e0df60-29b8-42e4-a16e-98643485b0be"
      },
      "execution_count": 88,
      "outputs": [
        {
          "output_type": "stream",
          "name": "stdout",
          "text": [
            "12\n",
            "23\n"
          ]
        }
      ]
    },
    {
      "cell_type": "code",
      "source": [
        "# Standard Solution:\n",
        "\n",
        "def solve(numheads,numlegs):\n",
        "    ns='No solutions!'\n",
        "    for i in range(numheads+1): # Dont know why to use loop to sovel this.\n",
        "        j=numheads-i\n",
        "        if 2*i+4*j==numlegs:\n",
        "            return i,j\n",
        "    return ns,ns\n",
        "\n",
        "numheads=35\n",
        "numlegs=94\n",
        "solutions=solve(numheads,numlegs)\n",
        "print(solutions)"
      ],
      "metadata": {
        "colab": {
          "base_uri": "https://localhost:8080/"
        },
        "id": "O8xjbAi4zKKr",
        "outputId": "801ec604-97f3-4634-dc67-36a269b56e43"
      },
      "execution_count": 89,
      "outputs": [
        {
          "output_type": "stream",
          "name": "stdout",
          "text": [
            "(23, 12)\n"
          ]
        }
      ]
    },
    {
      "cell_type": "code",
      "source": [],
      "metadata": {
        "id": "ZksTwJsMzZjc"
      },
      "execution_count": null,
      "outputs": []
    }
  ]
}